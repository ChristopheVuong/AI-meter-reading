{
  "cells": [
    {
      "cell_type": "markdown",
      "metadata": {
        "id": "nr_F7yZC9YTA"
      },
      "source": [
        "### This Google Colab notebook is optionally accelerated with a GPU runtime.\n",
        "### If you would like to use this acceleration, please select the menu option \"Runtime\" -> \"Change runtime type\", select \"Hardware Accelerator\" -> \"GPU\" and click \"SAVE\"\n",
        "\n",
        "----------------------------------------------------------------------\n",
        "\n",
        "# AI reading meters\n",
        "\n",
        "## Resources\n",
        "\n",
        "- **Ultralytics YOLOv11 🚀 for object detection, instance segmentation and image classification.**\n",
        "- PaddleOCR\n",
        "\n",
        "## Context\n",
        "\n",
        "As a provider of drinking water to millions of consumers, SUEZ needs to know the exact volume consumed by each client (ie the index of his meter). A modern solution to this problem is telemetering whereby the meter transmits automatically the daily index to our servers. This is already deployed to millions of meters, but there are still some contracts where our operators have to visit the meters once a year, sometimes more. This often involves arranging a meeting with the client when the meters are on private property, which can prove difficult (think about secondary housing) The goal of this challenge is to simplify the process by allowing the client to do the reading himself if it is more convenient: She could just take a picture of the meter, upload it to our servers whereupon a Machine Learning algorithm would validate it and read the digits to get the index.\n",
        "\n",
        "Prototypes of this projects already exist but require the client to send the picture through email to our service center, which will analyze it and reply several hours later, making any feedback on the picture quality very difficult.\n",
        "\n",
        "For this challenge, we'll assume that every image represents a meter with an index that can be read by a human.\n",
        "\n",
        "The goal of this challenge is to design an algorithm reading the consumption index from a valid picture of a meter.\n",
        "\n",
        "See https://challengedata.ens.fr/challenges/30\n",
        "\n",
        "## Preliminary remarks\n",
        "\n",
        "The challenge requires an approach designed specifically for reading single-dial meters, which are also known as gauges. Given the dataset, there might be model degradation in the long term due to the change of generations dial meters in the future. That will require new manual annotations of dial meters and training of preprocessed images.\n",
        "\n",
        "## Setup\n",
        "\n",
        "### Before you start\n",
        "\n",
        "Let's make sure that we have access to GPU. We can use `nvidia-smi` command to do that. In case of any problems navigate to `Edit` -> `Notebook settings` -> `Hardware accelerator`, set it to `GPU`, and then click `Save`.\n",
        "\n"
      ]
    },
    {
      "cell_type": "code",
      "execution_count": null,
      "metadata": {
        "colab": {
          "base_uri": "https://localhost:8080/"
        },
        "id": "RBF6U7CwkY3N",
        "outputId": "b900a1e7-d2d7-43ab-f63b-154bb2a1b1ec"
      },
      "outputs": [
        {
          "name": "stdout",
          "output_type": "stream",
          "text": [
            "Tue Oct 15 17:27:07 2024       \n",
            "+---------------------------------------------------------------------------------------+\n",
            "| NVIDIA-SMI 535.104.05             Driver Version: 535.104.05   CUDA Version: 12.2     |\n",
            "|-----------------------------------------+----------------------+----------------------+\n",
            "| GPU  Name                 Persistence-M | Bus-Id        Disp.A | Volatile Uncorr. ECC |\n",
            "| Fan  Temp   Perf          Pwr:Usage/Cap |         Memory-Usage | GPU-Util  Compute M. |\n",
            "|                                         |                      |               MIG M. |\n",
            "|=========================================+======================+======================|\n",
            "|   0  Tesla T4                       Off | 00000000:00:04.0 Off |                    0 |\n",
            "| N/A   57C    P8              11W /  70W |      0MiB / 15360MiB |      0%      Default |\n",
            "|                                         |                      |                  N/A |\n",
            "+-----------------------------------------+----------------------+----------------------+\n",
            "                                                                                         \n",
            "+---------------------------------------------------------------------------------------+\n",
            "| Processes:                                                                            |\n",
            "|  GPU   GI   CI        PID   Type   Process name                            GPU Memory |\n",
            "|        ID   ID                                                             Usage      |\n",
            "|=======================================================================================|\n",
            "|  No running processes found                                                           |\n",
            "+---------------------------------------------------------------------------------------+\n"
          ]
        }
      ],
      "source": [
        "!nvidia-smi"
      ]
    },
    {
      "cell_type": "markdown",
      "metadata": {
        "id": "tAI-tdg0kZwe"
      },
      "source": [
        "# Google Colab mounting"
      ]
    },
    {
      "cell_type": "code",
      "execution_count": null,
      "metadata": {
        "colab": {
          "base_uri": "https://localhost:8080/"
        },
        "id": "FQK5Fu7agjk-",
        "outputId": "2b70fa5c-0d24-4242-fa8e-945da93024c3"
      },
      "outputs": [
        {
          "name": "stdout",
          "output_type": "stream",
          "text": [
            "Mounted at /content/drive\n"
          ]
        }
      ],
      "source": [
        "# Google mount drive\n",
        "from google.colab import drive\n",
        "drive.mount('/content/drive')"
      ]
    },
    {
      "cell_type": "code",
      "execution_count": null,
      "metadata": {
        "colab": {
          "base_uri": "https://localhost:8080/"
        },
        "id": "VH1-SwwhkUAB",
        "outputId": "f189bf22-ede3-420e-ae1f-1f0e055d757a"
      },
      "outputs": [
        {
          "name": "stdout",
          "output_type": "stream",
          "text": [
            "/content/drive/MyDrive/AI-meter-reading\n"
          ]
        }
      ],
      "source": [
        "# Suppose the pictures and test folder are in Challenge_Suez\n",
        "PATH = \"/content/drive/MyDrive\"\n",
        "CHALLENGE_NAME = \"/AI-meter-reading\"\n",
        "PATH_PROJECT = PATH + CHALLENGE_NAME\n",
        "%cd {PATH_PROJECT}"
      ]
    },
    {
      "cell_type": "markdown",
      "metadata": {
        "id": "t0rNjyjl5MKp"
      },
      "source": [
        "**NOTE:** To make it easier for us to manage datasets, images and models we create a `HOME` constant."
      ]
    },
    {
      "cell_type": "code",
      "execution_count": null,
      "metadata": {
        "colab": {
          "base_uri": "https://localhost:8080/"
        },
        "id": "U73Vxaa_5IGT",
        "outputId": "849ac338-fa29-4199-98ae-8d4fb62422f2"
      },
      "outputs": [
        {
          "name": "stdout",
          "output_type": "stream",
          "text": [
            "/content/drive/MyDrive/AI-meter-reading\n"
          ]
        }
      ],
      "source": [
        "from pathlib import Path\n",
        "\n",
        "# HOME = os.getcwd()\n",
        "HOME = Path.cwd() # PATH object\n",
        "print(HOME)"
      ]
    },
    {
      "cell_type": "markdown",
      "metadata": {
        "id": "p8bBt9RoJ9JC"
      },
      "source": [
        "We use ultralytics YOLO and roboflow to annotate image. VoTT from Microsoft can be an alternative in order to annotate the images with bounding boxes."
      ]
    },
    {
      "cell_type": "code",
      "execution_count": null,
      "metadata": {
        "colab": {
          "base_uri": "https://localhost:8080/"
        },
        "id": "ujkbwChW93gu",
        "outputId": "a3343702-16d0-46ec-d496-1ac1777ef5e8"
      },
      "outputs": [
        {
          "name": "stdout",
          "output_type": "stream",
          "text": [
            "Ultralytics 8.3.13 🚀 Python-3.10.12 torch-2.4.1+cu121 CUDA:0 (Tesla T4, 15102MiB)\n",
            "Setup complete ✅ (2 CPUs, 12.7 GB RAM, 29.2/112.6 GB disk)\n"
          ]
        }
      ],
      "source": [
        "%pip install ultralytics supervision roboflow\n",
        "import ultralytics\n",
        "ultralytics.checks()"
      ]
    },
    {
      "cell_type": "code",
      "execution_count": null,
      "metadata": {
        "id": "ELzBF_f1Hhee"
      },
      "outputs": [],
      "source": [
        "import torch\n",
        "import pandas as pd"
      ]
    },
    {
      "cell_type": "markdown",
      "metadata": {
        "id": "pGVn4PAPRb7X"
      },
      "source": [
        "For the notebook to run without errors, we proceed with the following import."
      ]
    },
    {
      "cell_type": "code",
      "execution_count": null,
      "metadata": {
        "id": "mglhIWAiRa9Q"
      },
      "outputs": [],
      "source": [
        "import locale\n",
        "def getpreferredencoding(do_setlocale = True):\n",
        "    return \"UTF-8\"\n",
        "locale.getpreferredencoding = getpreferredencoding"
      ]
    },
    {
      "cell_type": "markdown",
      "metadata": {
        "id": "h4SXIwwiJrTX"
      },
      "source": [
        "## YOLOv11\n",
        "\n",
        "[![GitHub](https://badges.aleen42.com/src/github.svg)](https://github.com/ultralytics/ultralytics)\n",
        "\n",
        "YOLO11 builds on the advancements introduced in YOLOv9 and YOLOv10 earlier this year, incorporating improved architectural designs, enhanced feature extraction techniques, and optimized training methods.\n",
        "\n",
        "YOLOv11 is available in 5 different sizes, ranging from `2.6M` to `56.9M` parameters, and capable of achieving from `39.5` to `54.7` mAP on the COCO dataset.\n",
        "\n",
        "We use YOLOv11 in order to detect bounding boxes of meters and liters. Although we only want to retrieve meter values, the detection of liters adds to the confidence of the model in detecting meters. Hence we value both metrics for the class of meters and simultaneously meters and liters. The computation of precision and recall is with respect to class 1 (meters). As we know there is exactly one meter per image, good recall and precision are not meaninful. The essential part of the object detection is the position of the dials.\n",
        "\n",
        "### Metrics\n",
        "\n",
        "The usual metrics in object detection are:\n",
        "- Average Precision (AP): AP computes the area under the precision-recall curve, providing a single value that encapsulates the model's precision and recall performance.\n",
        "- mAP Mean Average Precision (mAP): mAP extends the concept of AP by calculating the average AP values across multiple object classes. This is useful in multi-class object detection scenarios to provide a comprehensive evaluation of the model's performance.\n",
        "\n",
        "YOLO11m achieves a higher mean mAP score on the COCO dataset while using 22% fewer parameters than YOLOv8m, making it computationally lighter without sacrificing performance.\n",
        "\n",
        "We rather use IoU (Intersection over union): IoU is a measure that quantifies the overlap between a predicted bounding box and a ground truth bounding box. **It plays a fundamental role in evaluating the accuracy of object localization.** We do it for class 1 and simultaneously for classes 0 and 1. This corresponds to the loss parameter `box`. We do not tune the weight of distributed focal loss as there is not imbalance in our context. We many need to increase `box`.\n",
        "\n",
        "In the following, we do not have imbalance of classes, hence we may zero the weight of the distribution focal loss.\n"
      ]
    },
    {
      "cell_type": "markdown",
      "metadata": {
        "id": "UfN9_MwumXYw"
      },
      "source": [
        "## Custom preprocessing\n",
        "\n",
        "We automate this manual preprocessing, optimization based on the dataset of 104 images with bounding boxes (one for meters, one for liters per image). The default size handled by YOLO is `imagesz = 640` ($640 \\times 640$). Because the dataset contains images of various sizes, we let YOLO handled it internally.\n",
        "\n",
        "**NOTE:** The results of the completed training are saved in `{HOME}/runs/detect/train/`. Let's examine them. YOLO is used for preprocessing as a semi-supervised method for cropping around the meter boards."
      ]
    },
    {
      "cell_type": "code",
      "execution_count": null,
      "metadata": {
        "colab": {
          "base_uri": "https://localhost:8080/"
        },
        "id": "MYDEW3Rjh06I",
        "outputId": "f17cfec5-a350-43ca-97f6-a879b05890bd"
      },
      "outputs": [
        {
          "name": "stdout",
          "output_type": "stream",
          "text": [
            "mkdir: cannot create directory ‘/content/drive/MyDrive/AI-meter-reading/datasets’: File exists\n",
            "/content/drive/MyDrive/AI-meter-reading/datasets\n",
            "Requirement already satisfied: roboflow in /usr/local/lib/python3.10/dist-packages (1.1.48)\n",
            "Requirement already satisfied: certifi in /usr/local/lib/python3.10/dist-packages (from roboflow) (2024.8.30)\n",
            "Requirement already satisfied: idna==3.7 in /usr/local/lib/python3.10/dist-packages (from roboflow) (3.7)\n",
            "Requirement already satisfied: cycler in /usr/local/lib/python3.10/dist-packages (from roboflow) (0.12.1)\n",
            "Requirement already satisfied: kiwisolver>=1.3.1 in /usr/local/lib/python3.10/dist-packages (from roboflow) (1.4.7)\n",
            "Requirement already satisfied: matplotlib in /usr/local/lib/python3.10/dist-packages (from roboflow) (3.7.1)\n",
            "Requirement already satisfied: numpy>=1.18.5 in /usr/local/lib/python3.10/dist-packages (from roboflow) (1.26.4)\n",
            "Requirement already satisfied: opencv-python-headless==4.10.0.84 in /usr/local/lib/python3.10/dist-packages (from roboflow) (4.10.0.84)\n",
            "Requirement already satisfied: Pillow>=7.1.2 in /usr/local/lib/python3.10/dist-packages (from roboflow) (10.4.0)\n",
            "Requirement already satisfied: python-dateutil in /usr/local/lib/python3.10/dist-packages (from roboflow) (2.8.2)\n",
            "Requirement already satisfied: python-dotenv in /usr/local/lib/python3.10/dist-packages (from roboflow) (1.0.1)\n",
            "Requirement already satisfied: requests in /usr/local/lib/python3.10/dist-packages (from roboflow) (2.32.3)\n",
            "Requirement already satisfied: six in /usr/local/lib/python3.10/dist-packages (from roboflow) (1.16.0)\n",
            "Requirement already satisfied: urllib3>=1.26.6 in /usr/local/lib/python3.10/dist-packages (from roboflow) (2.2.3)\n",
            "Requirement already satisfied: tqdm>=4.41.0 in /usr/local/lib/python3.10/dist-packages (from roboflow) (4.66.5)\n",
            "Requirement already satisfied: PyYAML>=5.3.1 in /usr/local/lib/python3.10/dist-packages (from roboflow) (6.0.2)\n",
            "Requirement already satisfied: requests-toolbelt in /usr/local/lib/python3.10/dist-packages (from roboflow) (1.0.0)\n",
            "Requirement already satisfied: filetype in /usr/local/lib/python3.10/dist-packages (from roboflow) (1.2.0)\n",
            "Requirement already satisfied: contourpy>=1.0.1 in /usr/local/lib/python3.10/dist-packages (from matplotlib->roboflow) (1.3.0)\n",
            "Requirement already satisfied: fonttools>=4.22.0 in /usr/local/lib/python3.10/dist-packages (from matplotlib->roboflow) (4.54.1)\n",
            "Requirement already satisfied: packaging>=20.0 in /usr/local/lib/python3.10/dist-packages (from matplotlib->roboflow) (24.1)\n",
            "Requirement already satisfied: pyparsing>=2.3.1 in /usr/local/lib/python3.10/dist-packages (from matplotlib->roboflow) (3.1.4)\n",
            "Requirement already satisfied: charset-normalizer<4,>=2 in /usr/local/lib/python3.10/dist-packages (from requests->roboflow) (3.4.0)\n",
            "loading Roboflow workspace...\n",
            "loading Roboflow project...\n"
          ]
        }
      ],
      "source": [
        "!mkdir {HOME}/datasets\n",
        "%cd {HOME}/datasets\n",
        "\n",
        "!pip install roboflow\n",
        "\n",
        "from roboflow import Roboflow\n",
        "rf = Roboflow(api_key=\"YPr8z8exI5EnxDegn87q\") # available until late October\n",
        "project = rf.workspace(\"ai-meter-reading\").project(\"ai-meter-reading\")\n",
        "version = project.version(1)\n",
        "dataset = version.download(\"yolov11\")"
      ]
    },
    {
      "cell_type": "code",
      "execution_count": null,
      "metadata": {
        "id": "kiST_UbOjn-c"
      },
      "outputs": [],
      "source": [
        "# # Example dictionary of YOLO parameters\n",
        "# yolo_params = {\n",
        "#     'batch_size': 16,\n",
        "#     'learning_rate': 0.001,\n",
        "#     'momentum': 0.9,\n",
        "#     'weight_decay': 0.0005,\n",
        "#     'img_size': 640,\n",
        "#     'epochs': 50,\n",
        "#     'num_classes': 80,\n",
        "#     'anchors': [[10, 13], [16, 30], [33, 23], [30, 61], [62, 45], [59, 119], [116, 90], [156, 198], [373, 326]],\n",
        "#     'iou_threshold': 0.5,\n",
        "#     'conf_threshold': 0.5,\n",
        "#     'nms_threshold': 0.4,\n",
        "#     'augmentation': {\n",
        "#         'flip': True,\n",
        "#         'scale': 0.5,\n",
        "#         'mosaic': True\n",
        "#     }\n",
        "# }\n",
        "yolo_loss_params = {\n",
        "    'box': 7.5, # Specifies the importance of the bounding box coordinates in the predicted boxes\n",
        "    'cls': 0.5, # Classification loss in the total loss function\n",
        "    'dfl': 1.5  # Weight of distribution focal loss (dfl).\n",
        "}\n",
        "\n",
        "yolo_misc_params = {\n",
        "    'pretrained': True,\n",
        "    'single_cls': True,\n",
        "    'rect': False,\n",
        "    'close_mosaic': 10,\n",
        "    'fraction': 1.0,\n",
        "    'freeze': None\n",
        "}"
      ]
    },
    {
      "cell_type": "code",
      "execution_count": null,
      "metadata": {
        "colab": {
          "base_uri": "https://localhost:8080/"
        },
        "id": "s2FfDeGXV9oR",
        "outputId": "c91f46e9-fcb9-42df-83c6-e5594fc240c9"
      },
      "outputs": [
        {
          "name": "stdout",
          "output_type": "stream",
          "text": [
            "/content/drive/MyDrive/AI-meter-reading\n"
          ]
        }
      ],
      "source": [
        "%cd {HOME}"
      ]
    },
    {
      "cell_type": "code",
      "execution_count": null,
      "metadata": {
        "colab": {
          "base_uri": "https://localhost:8080/"
        },
        "id": "RxUUuugaw5MN",
        "outputId": "b772b5f0-c560-46c8-f7c0-298d93664c4f"
      },
      "outputs": [
        {
          "name": "stdout",
          "output_type": "stream",
          "text": [
            "\u001b[34m\u001b[1mTuner: \u001b[0mInitialized Tuner instance with 'tune_dir=runs/detect/tune'\n",
            "\u001b[34m\u001b[1mTuner: \u001b[0m💡 Learn about tuning at https://docs.ultralytics.com/guides/hyperparameter-tuning\n",
            "\u001b[34m\u001b[1mTuner: \u001b[0mStarting iteration 1/5 with hyperparameters: {'lr0': 0.01, 'lrf': 0.01, 'momentum': 0.937, 'weight_decay': 0.0005, 'warmup_epochs': 3.0, 'warmup_momentum': 0.8, 'box': 7.5, 'cls': 0.5, 'dfl': 1.5, 'hsv_h': 0.015, 'hsv_s': 0.7, 'hsv_v': 0.4, 'degrees': 0.0, 'translate': 0.1, 'scale': 0.5, 'shear': 0.0, 'perspective': 0.0, 'flipud': 0.0, 'fliplr': 0.5, 'bgr': 0.0, 'mosaic': 1.0, 'mixup': 0.0, 'copy_paste': 0.0}\n",
            "Saved runs/detect/tune/tune_scatter_plots.png\n",
            "Saved runs/detect/tune/tune_fitness.png\n",
            "\n",
            "\u001b[34m\u001b[1mTuner: \u001b[0m1/5 iterations complete ✅ (102.78s)\n",
            "\u001b[34m\u001b[1mTuner: \u001b[0mResults saved to \u001b[1mruns/detect/tune\u001b[0m\n",
            "\u001b[34m\u001b[1mTuner: \u001b[0mBest fitness=0.20242 observed at iteration 1\n",
            "\u001b[34m\u001b[1mTuner: \u001b[0mBest fitness metrics are {'metrics/precision(B)': 0.37016, 'metrics/recall(B)': 0.35714, 'metrics/mAP50(B)': 0.32027, 'metrics/mAP50-95(B)': 0.18932, 'val/box_loss': 1.68676, 'val/cls_loss': 2.64217, 'val/dfl_loss': 1.61, 'fitness': 0.20242}\n",
            "\u001b[34m\u001b[1mTuner: \u001b[0mBest fitness model is runs/detect/train\n",
            "\u001b[34m\u001b[1mTuner: \u001b[0mBest fitness hyperparameters are printed below.\n",
            "\n",
            "Printing '\u001b[1m\u001b[30mruns/detect/tune/best_hyperparameters.yaml\u001b[0m'\n",
            "\n",
            "lr0: 0.01\n",
            "lrf: 0.01\n",
            "momentum: 0.937\n",
            "weight_decay: 0.0005\n",
            "warmup_epochs: 3.0\n",
            "warmup_momentum: 0.8\n",
            "box: 7.5\n",
            "cls: 0.5\n",
            "dfl: 1.5\n",
            "hsv_h: 0.015\n",
            "hsv_s: 0.7\n",
            "hsv_v: 0.4\n",
            "degrees: 0.0\n",
            "translate: 0.1\n",
            "scale: 0.5\n",
            "shear: 0.0\n",
            "perspective: 0.0\n",
            "flipud: 0.0\n",
            "fliplr: 0.5\n",
            "bgr: 0.0\n",
            "mosaic: 1.0\n",
            "mixup: 0.0\n",
            "copy_paste: 0.0\n",
            "\n",
            "\u001b[34m\u001b[1mTuner: \u001b[0mStarting iteration 2/5 with hyperparameters: {'lr0': 0.01171, 'lrf': 0.01052, 'momentum': 0.937, 'weight_decay': 0.00038, 'warmup_epochs': 2.92414, 'warmup_momentum': 0.84395, 'box': 8.20562, 'cls': 0.5, 'dfl': 1.5, 'hsv_h': 0.01172, 'hsv_s': 0.75649, 'hsv_v': 0.3464, 'degrees': 0.0, 'translate': 0.10528, 'scale': 0.44281, 'shear': 0.0, 'perspective': 0.0, 'flipud': 0.0, 'fliplr': 0.40555, 'bgr': 0.0, 'mosaic': 1.0, 'mixup': 0.0, 'copy_paste': 0.0}\n",
            "Saved runs/detect/tune/tune_scatter_plots.png\n",
            "Saved runs/detect/tune/tune_fitness.png\n",
            "\n",
            "\u001b[34m\u001b[1mTuner: \u001b[0m2/5 iterations complete ✅ (176.69s)\n",
            "\u001b[34m\u001b[1mTuner: \u001b[0mResults saved to \u001b[1mruns/detect/tune\u001b[0m\n",
            "\u001b[34m\u001b[1mTuner: \u001b[0mBest fitness=0.20242 observed at iteration 1\n",
            "\u001b[34m\u001b[1mTuner: \u001b[0mBest fitness metrics are {'metrics/precision(B)': 0.37016, 'metrics/recall(B)': 0.35714, 'metrics/mAP50(B)': 0.32027, 'metrics/mAP50-95(B)': 0.18932, 'val/box_loss': 1.68676, 'val/cls_loss': 2.64217, 'val/dfl_loss': 1.61, 'fitness': 0.20242}\n",
            "\u001b[34m\u001b[1mTuner: \u001b[0mBest fitness model is runs/detect/train\n",
            "\u001b[34m\u001b[1mTuner: \u001b[0mBest fitness hyperparameters are printed below.\n",
            "\n",
            "Printing '\u001b[1m\u001b[30mruns/detect/tune/best_hyperparameters.yaml\u001b[0m'\n",
            "\n",
            "lr0: 0.01\n",
            "lrf: 0.01\n",
            "momentum: 0.937\n",
            "weight_decay: 0.0005\n",
            "warmup_epochs: 3.0\n",
            "warmup_momentum: 0.8\n",
            "box: 7.5\n",
            "cls: 0.5\n",
            "dfl: 1.5\n",
            "hsv_h: 0.015\n",
            "hsv_s: 0.7\n",
            "hsv_v: 0.4\n",
            "degrees: 0.0\n",
            "translate: 0.1\n",
            "scale: 0.5\n",
            "shear: 0.0\n",
            "perspective: 0.0\n",
            "flipud: 0.0\n",
            "fliplr: 0.5\n",
            "bgr: 0.0\n",
            "mosaic: 1.0\n",
            "mixup: 0.0\n",
            "copy_paste: 0.0\n",
            "\n",
            "\u001b[34m\u001b[1mTuner: \u001b[0mStarting iteration 3/5 with hyperparameters: {'lr0': 0.01191, 'lrf': 0.01, 'momentum': 0.94753, 'weight_decay': 0.0005, 'warmup_epochs': 2.92573, 'warmup_momentum': 0.76205, 'box': 7.5, 'cls': 0.47617, 'dfl': 1.42869, 'hsv_h': 0.015, 'hsv_s': 0.68737, 'hsv_v': 0.35889, 'degrees': 0.0, 'translate': 0.09931, 'scale': 0.43188, 'shear': 0.0, 'perspective': 0.0, 'flipud': 0.0, 'fliplr': 0.52924, 'bgr': 0.0, 'mosaic': 1.0, 'mixup': 0.0, 'copy_paste': 0.0}\n",
            "Saved runs/detect/tune/tune_scatter_plots.png\n",
            "Saved runs/detect/tune/tune_fitness.png\n",
            "\n",
            "\u001b[34m\u001b[1mTuner: \u001b[0m3/5 iterations complete ✅ (266.02s)\n",
            "\u001b[34m\u001b[1mTuner: \u001b[0mResults saved to \u001b[1mruns/detect/tune\u001b[0m\n",
            "\u001b[34m\u001b[1mTuner: \u001b[0mBest fitness=0.26799 observed at iteration 3\n",
            "\u001b[34m\u001b[1mTuner: \u001b[0mBest fitness metrics are {'metrics/precision(B)': 0.28456, 'metrics/recall(B)': 0.66667, 'metrics/mAP50(B)': 0.46559, 'metrics/mAP50-95(B)': 0.24603, 'val/box_loss': 1.63846, 'val/cls_loss': 5.45071, 'val/dfl_loss': 1.47648, 'fitness': 0.26799}\n",
            "\u001b[34m\u001b[1mTuner: \u001b[0mBest fitness model is runs/detect/train3\n",
            "\u001b[34m\u001b[1mTuner: \u001b[0mBest fitness hyperparameters are printed below.\n",
            "\n",
            "Printing '\u001b[1m\u001b[30mruns/detect/tune/best_hyperparameters.yaml\u001b[0m'\n",
            "\n",
            "lr0: 0.01191\n",
            "lrf: 0.01\n",
            "momentum: 0.94753\n",
            "weight_decay: 0.0005\n",
            "warmup_epochs: 2.92573\n",
            "warmup_momentum: 0.76205\n",
            "box: 7.5\n",
            "cls: 0.47617\n",
            "dfl: 1.42869\n",
            "hsv_h: 0.015\n",
            "hsv_s: 0.68737\n",
            "hsv_v: 0.35889\n",
            "degrees: 0.0\n",
            "translate: 0.09931\n",
            "scale: 0.43188\n",
            "shear: 0.0\n",
            "perspective: 0.0\n",
            "flipud: 0.0\n",
            "fliplr: 0.52924\n",
            "bgr: 0.0\n",
            "mosaic: 1.0\n",
            "mixup: 0.0\n",
            "copy_paste: 0.0\n",
            "\n",
            "\u001b[34m\u001b[1mTuner: \u001b[0mStarting iteration 4/5 with hyperparameters: {'lr0': 0.01191, 'lrf': 0.01, 'momentum': 0.98, 'weight_decay': 0.00052, 'warmup_epochs': 2.92573, 'warmup_momentum': 0.76205, 'box': 8.49911, 'cls': 0.47617, 'dfl': 1.53554, 'hsv_h': 0.01612, 'hsv_s': 0.74103, 'hsv_v': 0.41764, 'degrees': 0.0, 'translate': 0.10218, 'scale': 0.52351, 'shear': 0.0, 'perspective': 0.0, 'flipud': 0.0, 'fliplr': 0.44892, 'bgr': 0.0, 'mosaic': 0.89877, 'mixup': 0.0, 'copy_paste': 0.0}\n",
            "Saved runs/detect/tune/tune_scatter_plots.png\n",
            "Saved runs/detect/tune/tune_fitness.png\n",
            "\n",
            "\u001b[34m\u001b[1mTuner: \u001b[0m4/5 iterations complete ✅ (342.26s)\n",
            "\u001b[34m\u001b[1mTuner: \u001b[0mResults saved to \u001b[1mruns/detect/tune\u001b[0m\n",
            "\u001b[34m\u001b[1mTuner: \u001b[0mBest fitness=0.26799 observed at iteration 3\n",
            "\u001b[34m\u001b[1mTuner: \u001b[0mBest fitness metrics are {'metrics/precision(B)': 0.28456, 'metrics/recall(B)': 0.66667, 'metrics/mAP50(B)': 0.46559, 'metrics/mAP50-95(B)': 0.24603, 'val/box_loss': 1.63846, 'val/cls_loss': 5.45071, 'val/dfl_loss': 1.47648, 'fitness': 0.26799}\n",
            "\u001b[34m\u001b[1mTuner: \u001b[0mBest fitness model is runs/detect/train3\n",
            "\u001b[34m\u001b[1mTuner: \u001b[0mBest fitness hyperparameters are printed below.\n",
            "\n",
            "Printing '\u001b[1m\u001b[30mruns/detect/tune/best_hyperparameters.yaml\u001b[0m'\n",
            "\n",
            "lr0: 0.01191\n",
            "lrf: 0.01\n",
            "momentum: 0.94753\n",
            "weight_decay: 0.0005\n",
            "warmup_epochs: 2.92573\n",
            "warmup_momentum: 0.76205\n",
            "box: 7.5\n",
            "cls: 0.47617\n",
            "dfl: 1.42869\n",
            "hsv_h: 0.015\n",
            "hsv_s: 0.68737\n",
            "hsv_v: 0.35889\n",
            "degrees: 0.0\n",
            "translate: 0.09931\n",
            "scale: 0.43188\n",
            "shear: 0.0\n",
            "perspective: 0.0\n",
            "flipud: 0.0\n",
            "fliplr: 0.52924\n",
            "bgr: 0.0\n",
            "mosaic: 1.0\n",
            "mixup: 0.0\n",
            "copy_paste: 0.0\n",
            "\n",
            "\u001b[34m\u001b[1mTuner: \u001b[0mStarting iteration 5/5 with hyperparameters: {'lr0': 0.01191, 'lrf': 0.00894, 'momentum': 0.98, 'weight_decay': 0.00044, 'warmup_epochs': 2.92573, 'warmup_momentum': 0.67361, 'box': 8.227, 'cls': 0.34548, 'dfl': 1.48179, 'hsv_h': 0.01824, 'hsv_s': 0.74103, 'hsv_v': 0.48353, 'degrees': 0.0, 'translate': 0.10109, 'scale': 0.50764, 'shear': 0.0, 'perspective': 0.0, 'flipud': 0.0, 'fliplr': 0.44436, 'bgr': 0.0, 'mosaic': 0.93655, 'mixup': 0.0, 'copy_paste': 0.0}\n",
            "Saved runs/detect/tune/tune_scatter_plots.png\n",
            "Saved runs/detect/tune/tune_fitness.png\n",
            "\n",
            "\u001b[34m\u001b[1mTuner: \u001b[0m5/5 iterations complete ✅ (417.30s)\n",
            "\u001b[34m\u001b[1mTuner: \u001b[0mResults saved to \u001b[1mruns/detect/tune\u001b[0m\n",
            "\u001b[34m\u001b[1mTuner: \u001b[0mBest fitness=0.26799 observed at iteration 3\n",
            "\u001b[34m\u001b[1mTuner: \u001b[0mBest fitness metrics are {'metrics/precision(B)': 0.28456, 'metrics/recall(B)': 0.66667, 'metrics/mAP50(B)': 0.46559, 'metrics/mAP50-95(B)': 0.24603, 'val/box_loss': 1.63846, 'val/cls_loss': 5.45071, 'val/dfl_loss': 1.47648, 'fitness': 0.26799}\n",
            "\u001b[34m\u001b[1mTuner: \u001b[0mBest fitness model is runs/detect/train3\n",
            "\u001b[34m\u001b[1mTuner: \u001b[0mBest fitness hyperparameters are printed below.\n",
            "\n",
            "Printing '\u001b[1m\u001b[30mruns/detect/tune/best_hyperparameters.yaml\u001b[0m'\n",
            "\n",
            "lr0: 0.01191\n",
            "lrf: 0.01\n",
            "momentum: 0.94753\n",
            "weight_decay: 0.0005\n",
            "warmup_epochs: 2.92573\n",
            "warmup_momentum: 0.76205\n",
            "box: 7.5\n",
            "cls: 0.47617\n",
            "dfl: 1.42869\n",
            "hsv_h: 0.015\n",
            "hsv_s: 0.68737\n",
            "hsv_v: 0.35889\n",
            "degrees: 0.0\n",
            "translate: 0.09931\n",
            "scale: 0.43188\n",
            "shear: 0.0\n",
            "perspective: 0.0\n",
            "flipud: 0.0\n",
            "fliplr: 0.52924\n",
            "bgr: 0.0\n",
            "mosaic: 1.0\n",
            "mixup: 0.0\n",
            "copy_paste: 0.0\n",
            "\n"
          ]
        }
      ],
      "source": [
        "# Load a COCO-pretrained YOLO11n model\n",
        "# model = ultralytics.YOLO(\"yolo11n.pt\")\n",
        "\n",
        "# # automatic hyperparameter tuning using mutation algorithm (learning rate, weight decay)\n",
        "# model.tune(data=f\"{dataset.location}/data.yaml\", epochs=30, iterations=300, optimizer=\"AdamW\", imgsz=640, plots=False, save=False, val=False)\n",
        "# device = 'cuda' if torch.cuda.is_available() else 'cpu' (automatic in new version if cuda is available)\n",
        "# Train the model on the COCO8 example dataset for 40 epochs\n",
        "# model.train(data=f\"{dataset.location}/data.yaml\", epochs=50)\n",
        "# model.train(data=f\"{dataset.location}/data.yaml\", epochs=100)\n",
        "# model.tune(data=f\"{dataset.location}/data.yaml\", epochs=20, iterations=5, optimizer=\"AdamW\", imgsz=640, plots=False, save=False, val=False)\n"
      ]
    },
    {
      "cell_type": "code",
      "execution_count": null,
      "metadata": {
        "id": "XSHyrm-hRZFQ"
      },
      "outputs": [],
      "source": [
        "# Load a COCO-pretrained YOLO11n model\n",
        "model = ultralytics.YOLO(\"yolo11n.pt\")"
      ]
    },
    {
      "cell_type": "code",
      "execution_count": null,
      "metadata": {
        "colab": {
          "base_uri": "https://localhost:8080/"
        },
        "id": "_s3JlEfGO_3P",
        "outputId": "00f91f35-fea1-48ad-aa2e-68c79ed94327"
      },
      "outputs": [
        {
          "name": "stdout",
          "output_type": "stream",
          "text": [
            "Ultralytics 8.3.13 🚀 Python-3.10.12 torch-2.4.1+cu121 CUDA:0 (Tesla T4, 15102MiB)\n",
            "\u001b[34m\u001b[1mengine/trainer: \u001b[0mtask=detect, mode=train, model=yolo11n.pt, data=/content/drive/MyDrive/AI-meter-reading/datasets/ai-meter-reading-1/data.yaml, epochs=100, time=None, patience=100, batch=16, imgsz=640, save=True, save_period=-1, cache=False, device=None, workers=8, project=None, name=train, exist_ok=False, pretrained=True, optimizer=auto, verbose=True, seed=0, deterministic=True, single_cls=False, rect=False, cos_lr=False, close_mosaic=10, resume=False, amp=True, fraction=1.0, profile=False, freeze=None, multi_scale=False, overlap_mask=True, mask_ratio=4, dropout=0.0, val=True, split=val, save_json=False, save_hybrid=False, conf=None, iou=0.7, max_det=300, half=False, dnn=False, plots=True, source=None, vid_stride=1, stream_buffer=False, visualize=False, augment=False, agnostic_nms=False, classes=None, retina_masks=False, embed=None, show=False, save_frames=False, save_txt=False, save_conf=False, save_crop=False, show_labels=True, show_conf=True, show_boxes=True, line_width=None, format=torchscript, keras=False, optimize=False, int8=False, dynamic=False, simplify=True, opset=None, workspace=4, nms=False, lr0=0.01, lrf=0.01, momentum=0.937, weight_decay=0.0005, warmup_epochs=3.0, warmup_momentum=0.8, warmup_bias_lr=0.1, box=7.5, cls=0.5, dfl=1.5, pose=12.0, kobj=1.0, label_smoothing=0.0, nbs=64, hsv_h=0.015, hsv_s=0.7, hsv_v=0.4, degrees=0.0, translate=0.1, scale=0.5, shear=0.0, perspective=0.0, flipud=0.0, fliplr=0.5, bgr=0.0, mosaic=1.0, mixup=0.0, copy_paste=0.0, copy_paste_mode=flip, auto_augment=randaugment, erasing=0.4, crop_fraction=1.0, cfg=None, tracker=botsort.yaml, save_dir=runs/detect/train\n",
            "Overriding model.yaml nc=80 with nc=2\n",
            "\n",
            "                   from  n    params  module                                       arguments                     \n",
            "  0                  -1  1       464  ultralytics.nn.modules.conv.Conv             [3, 16, 3, 2]                 \n",
            "  1                  -1  1      4672  ultralytics.nn.modules.conv.Conv             [16, 32, 3, 2]                \n",
            "  2                  -1  1      6640  ultralytics.nn.modules.block.C3k2            [32, 64, 1, False, 0.25]      \n",
            "  3                  -1  1     36992  ultralytics.nn.modules.conv.Conv             [64, 64, 3, 2]                \n",
            "  4                  -1  1     26080  ultralytics.nn.modules.block.C3k2            [64, 128, 1, False, 0.25]     \n",
            "  5                  -1  1    147712  ultralytics.nn.modules.conv.Conv             [128, 128, 3, 2]              \n",
            "  6                  -1  1     87040  ultralytics.nn.modules.block.C3k2            [128, 128, 1, True]           \n",
            "  7                  -1  1    295424  ultralytics.nn.modules.conv.Conv             [128, 256, 3, 2]              \n",
            "  8                  -1  1    346112  ultralytics.nn.modules.block.C3k2            [256, 256, 1, True]           \n",
            "  9                  -1  1    164608  ultralytics.nn.modules.block.SPPF            [256, 256, 5]                 \n",
            " 10                  -1  1    249728  ultralytics.nn.modules.block.C2PSA           [256, 256, 1]                 \n",
            " 11                  -1  1         0  torch.nn.modules.upsampling.Upsample         [None, 2, 'nearest']          \n",
            " 12             [-1, 6]  1         0  ultralytics.nn.modules.conv.Concat           [1]                           \n",
            " 13                  -1  1    111296  ultralytics.nn.modules.block.C3k2            [384, 128, 1, False]          \n",
            " 14                  -1  1         0  torch.nn.modules.upsampling.Upsample         [None, 2, 'nearest']          \n",
            " 15             [-1, 4]  1         0  ultralytics.nn.modules.conv.Concat           [1]                           \n",
            " 16                  -1  1     32096  ultralytics.nn.modules.block.C3k2            [256, 64, 1, False]           \n",
            " 17                  -1  1     36992  ultralytics.nn.modules.conv.Conv             [64, 64, 3, 2]                \n",
            " 18            [-1, 13]  1         0  ultralytics.nn.modules.conv.Concat           [1]                           \n",
            " 19                  -1  1     86720  ultralytics.nn.modules.block.C3k2            [192, 128, 1, False]          \n",
            " 20                  -1  1    147712  ultralytics.nn.modules.conv.Conv             [128, 128, 3, 2]              \n",
            " 21            [-1, 10]  1         0  ultralytics.nn.modules.conv.Concat           [1]                           \n",
            " 22                  -1  1    378880  ultralytics.nn.modules.block.C3k2            [384, 256, 1, True]           \n",
            " 23        [16, 19, 22]  1    431062  ultralytics.nn.modules.head.Detect           [2, [64, 128, 256]]           \n",
            "YOLO11n summary: 319 layers, 2,590,230 parameters, 2,590,214 gradients, 6.4 GFLOPs\n",
            "\n",
            "Transferred 448/499 items from pretrained weights\n",
            "\u001b[34m\u001b[1mTensorBoard: \u001b[0mStart with 'tensorboard --logdir runs/detect/train', view at http://localhost:6006/\n",
            "Freezing layer 'model.23.dfl.conv.weight'\n",
            "\u001b[34m\u001b[1mAMP: \u001b[0mrunning Automatic Mixed Precision (AMP) checks with YOLO11n...\n",
            "\u001b[34m\u001b[1mAMP: \u001b[0mchecks passed ✅\n"
          ]
        },
        {
          "name": "stderr",
          "output_type": "stream",
          "text": [
            "\u001b[34m\u001b[1mtrain: \u001b[0mScanning /content/drive/MyDrive/AI-meter-reading/datasets/ai-meter-reading-1/train/labels.cache... 73 images, 0 backgrounds, 0 corrupt: 100%|██████████| 73/73 [00:00<?, ?it/s]"
          ]
        },
        {
          "name": "stdout",
          "output_type": "stream",
          "text": [
            "\u001b[34m\u001b[1malbumentations: \u001b[0mBlur(p=0.01, blur_limit=(3, 7)), MedianBlur(p=0.01, blur_limit=(3, 7)), ToGray(p=0.01, num_output_channels=3, method='weighted_average'), CLAHE(p=0.01, clip_limit=(1, 4.0), tile_grid_size=(8, 8))\n"
          ]
        },
        {
          "name": "stderr",
          "output_type": "stream",
          "text": [
            "\n",
            "\u001b[34m\u001b[1mval: \u001b[0mScanning /content/drive/MyDrive/AI-meter-reading/datasets/ai-meter-reading-1/valid/labels.cache... 21 images, 0 backgrounds, 0 corrupt: 100%|██████████| 21/21 [00:00<?, ?it/s]\n"
          ]
        },
        {
          "name": "stdout",
          "output_type": "stream",
          "text": [
            "Plotting labels to runs/detect/train/labels.jpg... \n",
            "\u001b[34m\u001b[1moptimizer:\u001b[0m 'optimizer=auto' found, ignoring 'lr0=0.01' and 'momentum=0.937' and determining best 'optimizer', 'lr0' and 'momentum' automatically... \n",
            "\u001b[34m\u001b[1moptimizer:\u001b[0m AdamW(lr=0.001667, momentum=0.9) with parameter groups 81 weight(decay=0.0), 88 weight(decay=0.0005), 87 bias(decay=0.0)\n",
            "\u001b[34m\u001b[1mTensorBoard: \u001b[0mmodel graph visualization added ✅\n",
            "Image sizes 640 train, 640 val\n",
            "Using 2 dataloader workers\n",
            "Logging results to \u001b[1mruns/detect/train\u001b[0m\n",
            "Starting training for 100 epochs...\n",
            "\n",
            "      Epoch    GPU_mem   box_loss   cls_loss   dfl_loss  Instances       Size\n"
          ]
        },
        {
          "name": "stderr",
          "output_type": "stream",
          "text": [
            "      1/100      2.48G      2.289      4.462      1.885         32        640: 100%|██████████| 5/5 [00:03<00:00,  1.53it/s]\n",
            "                 Class     Images  Instances      Box(P          R      mAP50  mAP50-95): 100%|██████████| 1/1 [00:00<00:00,  1.55it/s]"
          ]
        },
        {
          "name": "stdout",
          "output_type": "stream",
          "text": [
            "                   all         21         42   0.000409     0.0714   0.000238   4.61e-05\n"
          ]
        },
        {
          "name": "stderr",
          "output_type": "stream",
          "text": [
            "\n"
          ]
        },
        {
          "name": "stdout",
          "output_type": "stream",
          "text": [
            "\n",
            "      Epoch    GPU_mem   box_loss   cls_loss   dfl_loss  Instances       Size\n"
          ]
        },
        {
          "name": "stderr",
          "output_type": "stream",
          "text": [
            "      2/100      2.42G      2.088       4.23      1.668         28        640: 100%|██████████| 5/5 [00:01<00:00,  3.04it/s]\n",
            "                 Class     Images  Instances      Box(P          R      mAP50  mAP50-95): 100%|██████████| 1/1 [00:00<00:00,  2.38it/s]"
          ]
        },
        {
          "name": "stdout",
          "output_type": "stream",
          "text": [
            "                   all         21         42    0.00216      0.333    0.00793    0.00217\n"
          ]
        },
        {
          "name": "stderr",
          "output_type": "stream",
          "text": [
            "\n"
          ]
        },
        {
          "name": "stdout",
          "output_type": "stream",
          "text": [
            "\n",
            "      Epoch    GPU_mem   box_loss   cls_loss   dfl_loss  Instances       Size\n"
          ]
        },
        {
          "name": "stderr",
          "output_type": "stream",
          "text": [
            "      3/100       2.4G      1.785      3.635       1.26         31        640: 100%|██████████| 5/5 [00:02<00:00,  2.09it/s]\n",
            "                 Class     Images  Instances      Box(P          R      mAP50  mAP50-95): 100%|██████████| 1/1 [00:00<00:00,  1.35it/s]"
          ]
        },
        {
          "name": "stdout",
          "output_type": "stream",
          "text": [
            "                   all         21         42    0.00495      0.643      0.043    0.00991\n"
          ]
        },
        {
          "name": "stderr",
          "output_type": "stream",
          "text": [
            "\n"
          ]
        },
        {
          "name": "stdout",
          "output_type": "stream",
          "text": [
            "\n",
            "      Epoch    GPU_mem   box_loss   cls_loss   dfl_loss  Instances       Size\n"
          ]
        },
        {
          "name": "stderr",
          "output_type": "stream",
          "text": [
            "      4/100       2.4G      1.642       2.94      1.215         39        640: 100%|██████████| 5/5 [00:01<00:00,  3.82it/s]\n",
            "                 Class     Images  Instances      Box(P          R      mAP50  mAP50-95): 100%|██████████| 1/1 [00:00<00:00,  4.42it/s]"
          ]
        },
        {
          "name": "stdout",
          "output_type": "stream",
          "text": [
            "                   all         21         42    0.00643      0.786      0.159     0.0464\n"
          ]
        },
        {
          "name": "stderr",
          "output_type": "stream",
          "text": [
            "\n"
          ]
        },
        {
          "name": "stdout",
          "output_type": "stream",
          "text": [
            "\n",
            "      Epoch    GPU_mem   box_loss   cls_loss   dfl_loss  Instances       Size\n"
          ]
        },
        {
          "name": "stderr",
          "output_type": "stream",
          "text": [
            "      5/100      2.41G      1.644      2.625      1.214         29        640: 100%|██████████| 5/5 [00:01<00:00,  3.76it/s]\n",
            "                 Class     Images  Instances      Box(P          R      mAP50  mAP50-95): 100%|██████████| 1/1 [00:00<00:00,  4.46it/s]"
          ]
        },
        {
          "name": "stdout",
          "output_type": "stream",
          "text": [
            "                   all         21         42     0.0062       0.81      0.259      0.108\n"
          ]
        },
        {
          "name": "stderr",
          "output_type": "stream",
          "text": [
            "\n"
          ]
        },
        {
          "name": "stdout",
          "output_type": "stream",
          "text": [
            "\n",
            "      Epoch    GPU_mem   box_loss   cls_loss   dfl_loss  Instances       Size\n"
          ]
        },
        {
          "name": "stderr",
          "output_type": "stream",
          "text": [
            "      6/100       2.4G      1.622       2.35      1.214         35        640: 100%|██████████| 5/5 [00:01<00:00,  4.46it/s]\n",
            "                 Class     Images  Instances      Box(P          R      mAP50  mAP50-95): 100%|██████████| 1/1 [00:00<00:00,  3.76it/s]"
          ]
        },
        {
          "name": "stdout",
          "output_type": "stream",
          "text": [
            "                   all         21         42    0.00635      0.905      0.341      0.138\n"
          ]
        },
        {
          "name": "stderr",
          "output_type": "stream",
          "text": [
            "\n"
          ]
        },
        {
          "name": "stdout",
          "output_type": "stream",
          "text": [
            "\n",
            "      Epoch    GPU_mem   box_loss   cls_loss   dfl_loss  Instances       Size\n"
          ]
        },
        {
          "name": "stderr",
          "output_type": "stream",
          "text": [
            "      7/100      2.41G      1.579      2.132      1.228         22        640: 100%|██████████| 5/5 [00:01<00:00,  3.55it/s]\n",
            "                 Class     Images  Instances      Box(P          R      mAP50  mAP50-95): 100%|██████████| 1/1 [00:00<00:00,  3.61it/s]"
          ]
        },
        {
          "name": "stdout",
          "output_type": "stream",
          "text": [
            "                   all         21         42    0.00548       0.81      0.338      0.138\n"
          ]
        },
        {
          "name": "stderr",
          "output_type": "stream",
          "text": [
            "\n"
          ]
        },
        {
          "name": "stdout",
          "output_type": "stream",
          "text": [
            "\n",
            "      Epoch    GPU_mem   box_loss   cls_loss   dfl_loss  Instances       Size\n"
          ]
        },
        {
          "name": "stderr",
          "output_type": "stream",
          "text": [
            "      8/100       2.4G      1.552      1.856      1.203         29        640: 100%|██████████| 5/5 [00:01<00:00,  2.90it/s]\n",
            "                 Class     Images  Instances      Box(P          R      mAP50  mAP50-95): 100%|██████████| 1/1 [00:00<00:00,  1.99it/s]"
          ]
        },
        {
          "name": "stdout",
          "output_type": "stream",
          "text": [
            "                   all         21         42    0.00495      0.714      0.305      0.114\n"
          ]
        },
        {
          "name": "stderr",
          "output_type": "stream",
          "text": [
            "\n"
          ]
        },
        {
          "name": "stdout",
          "output_type": "stream",
          "text": [
            "\n",
            "      Epoch    GPU_mem   box_loss   cls_loss   dfl_loss  Instances       Size\n"
          ]
        },
        {
          "name": "stderr",
          "output_type": "stream",
          "text": [
            "      9/100      2.41G      1.584      1.932      1.246         36        640: 100%|██████████| 5/5 [00:02<00:00,  2.31it/s]\n",
            "                 Class     Images  Instances      Box(P          R      mAP50  mAP50-95): 100%|██████████| 1/1 [00:00<00:00,  1.88it/s]"
          ]
        },
        {
          "name": "stdout",
          "output_type": "stream",
          "text": [
            "                   all         21         42    0.00513      0.762      0.407       0.18\n"
          ]
        },
        {
          "name": "stderr",
          "output_type": "stream",
          "text": [
            "\n"
          ]
        },
        {
          "name": "stdout",
          "output_type": "stream",
          "text": [
            "\n",
            "      Epoch    GPU_mem   box_loss   cls_loss   dfl_loss  Instances       Size\n"
          ]
        },
        {
          "name": "stderr",
          "output_type": "stream",
          "text": [
            "     10/100       2.4G      1.477      1.767      1.202         27        640: 100%|██████████| 5/5 [00:01<00:00,  4.42it/s]\n",
            "                 Class     Images  Instances      Box(P          R      mAP50  mAP50-95): 100%|██████████| 1/1 [00:00<00:00,  3.65it/s]"
          ]
        },
        {
          "name": "stdout",
          "output_type": "stream",
          "text": [
            "                   all         21         42    0.00512      0.762      0.438      0.176\n"
          ]
        },
        {
          "name": "stderr",
          "output_type": "stream",
          "text": [
            "\n"
          ]
        },
        {
          "name": "stdout",
          "output_type": "stream",
          "text": [
            "\n",
            "      Epoch    GPU_mem   box_loss   cls_loss   dfl_loss  Instances       Size\n"
          ]
        },
        {
          "name": "stderr",
          "output_type": "stream",
          "text": [
            "     11/100       2.4G      1.441      1.663      1.157         41        640: 100%|██████████| 5/5 [00:01<00:00,  4.53it/s]\n",
            "                 Class     Images  Instances      Box(P          R      mAP50  mAP50-95): 100%|██████████| 1/1 [00:00<00:00,  3.05it/s]"
          ]
        },
        {
          "name": "stdout",
          "output_type": "stream",
          "text": [
            "                   all         21         42    0.00526      0.786      0.543       0.26\n"
          ]
        },
        {
          "name": "stderr",
          "output_type": "stream",
          "text": [
            "\n"
          ]
        },
        {
          "name": "stdout",
          "output_type": "stream",
          "text": [
            "\n",
            "      Epoch    GPU_mem   box_loss   cls_loss   dfl_loss  Instances       Size\n"
          ]
        },
        {
          "name": "stderr",
          "output_type": "stream",
          "text": [
            "     12/100      2.41G      1.372      1.654      1.149         30        640: 100%|██████████| 5/5 [00:01<00:00,  4.49it/s]\n",
            "                 Class     Images  Instances      Box(P          R      mAP50  mAP50-95): 100%|██████████| 1/1 [00:00<00:00,  2.81it/s]"
          ]
        },
        {
          "name": "stdout",
          "output_type": "stream",
          "text": [
            "                   all         21         42      0.576      0.548      0.509      0.257\n"
          ]
        },
        {
          "name": "stderr",
          "output_type": "stream",
          "text": [
            "\n"
          ]
        },
        {
          "name": "stdout",
          "output_type": "stream",
          "text": [
            "\n",
            "      Epoch    GPU_mem   box_loss   cls_loss   dfl_loss  Instances       Size\n"
          ]
        },
        {
          "name": "stderr",
          "output_type": "stream",
          "text": [
            "     13/100      2.41G        1.5       1.67       1.18         40        640: 100%|██████████| 5/5 [00:01<00:00,  3.98it/s]\n",
            "                 Class     Images  Instances      Box(P          R      mAP50  mAP50-95): 100%|██████████| 1/1 [00:00<00:00,  2.14it/s]"
          ]
        },
        {
          "name": "stdout",
          "output_type": "stream",
          "text": [
            "                   all         21         42          1     0.0602      0.547      0.273\n"
          ]
        },
        {
          "name": "stderr",
          "output_type": "stream",
          "text": [
            "\n"
          ]
        },
        {
          "name": "stdout",
          "output_type": "stream",
          "text": [
            "\n",
            "      Epoch    GPU_mem   box_loss   cls_loss   dfl_loss  Instances       Size\n"
          ]
        },
        {
          "name": "stderr",
          "output_type": "stream",
          "text": [
            "     14/100       2.4G      1.425      1.589      1.147         41        640: 100%|██████████| 5/5 [00:01<00:00,  2.85it/s]\n",
            "                 Class     Images  Instances      Box(P          R      mAP50  mAP50-95): 100%|██████████| 1/1 [00:00<00:00,  1.68it/s]"
          ]
        },
        {
          "name": "stdout",
          "output_type": "stream",
          "text": [
            "                   all         21         42          1      0.142      0.552      0.293\n"
          ]
        },
        {
          "name": "stderr",
          "output_type": "stream",
          "text": [
            "\n"
          ]
        },
        {
          "name": "stdout",
          "output_type": "stream",
          "text": [
            "\n",
            "      Epoch    GPU_mem   box_loss   cls_loss   dfl_loss  Instances       Size\n"
          ]
        },
        {
          "name": "stderr",
          "output_type": "stream",
          "text": [
            "     15/100      2.41G      1.456      1.637      1.207         30        640: 100%|██████████| 5/5 [00:01<00:00,  3.54it/s]\n",
            "                 Class     Images  Instances      Box(P          R      mAP50  mAP50-95): 100%|██████████| 1/1 [00:00<00:00,  3.55it/s]"
          ]
        },
        {
          "name": "stdout",
          "output_type": "stream",
          "text": [
            "                   all         21         42          1      0.216      0.648      0.312\n"
          ]
        },
        {
          "name": "stderr",
          "output_type": "stream",
          "text": [
            "\n"
          ]
        },
        {
          "name": "stdout",
          "output_type": "stream",
          "text": [
            "\n",
            "      Epoch    GPU_mem   box_loss   cls_loss   dfl_loss  Instances       Size\n"
          ]
        },
        {
          "name": "stderr",
          "output_type": "stream",
          "text": [
            "     16/100      2.41G      1.371      1.447      1.164         39        640: 100%|██████████| 5/5 [00:01<00:00,  4.40it/s]\n",
            "                 Class     Images  Instances      Box(P          R      mAP50  mAP50-95): 100%|██████████| 1/1 [00:00<00:00,  4.99it/s]"
          ]
        },
        {
          "name": "stdout",
          "output_type": "stream",
          "text": [
            "                   all         21         42      0.918      0.251      0.647      0.314\n"
          ]
        },
        {
          "name": "stderr",
          "output_type": "stream",
          "text": [
            "\n"
          ]
        },
        {
          "name": "stdout",
          "output_type": "stream",
          "text": [
            "\n",
            "      Epoch    GPU_mem   box_loss   cls_loss   dfl_loss  Instances       Size\n"
          ]
        },
        {
          "name": "stderr",
          "output_type": "stream",
          "text": [
            "     17/100       2.4G      1.479      1.571      1.218         30        640: 100%|██████████| 5/5 [00:01<00:00,  4.09it/s]\n",
            "                 Class     Images  Instances      Box(P          R      mAP50  mAP50-95): 100%|██████████| 1/1 [00:00<00:00,  4.24it/s]"
          ]
        },
        {
          "name": "stdout",
          "output_type": "stream",
          "text": [
            "                   all         21         42      0.702      0.324      0.618      0.283\n"
          ]
        },
        {
          "name": "stderr",
          "output_type": "stream",
          "text": [
            "\n"
          ]
        },
        {
          "name": "stdout",
          "output_type": "stream",
          "text": [
            "\n",
            "      Epoch    GPU_mem   box_loss   cls_loss   dfl_loss  Instances       Size\n"
          ]
        },
        {
          "name": "stderr",
          "output_type": "stream",
          "text": [
            "     18/100      2.41G      1.314      1.363       1.13         33        640: 100%|██████████| 5/5 [00:01<00:00,  4.42it/s]\n",
            "                 Class     Images  Instances      Box(P          R      mAP50  mAP50-95): 100%|██████████| 1/1 [00:00<00:00,  4.18it/s]"
          ]
        },
        {
          "name": "stdout",
          "output_type": "stream",
          "text": [
            "                   all         21         42      0.758      0.453      0.663      0.326\n"
          ]
        },
        {
          "name": "stderr",
          "output_type": "stream",
          "text": [
            "\n"
          ]
        },
        {
          "name": "stdout",
          "output_type": "stream",
          "text": [
            "\n",
            "      Epoch    GPU_mem   box_loss   cls_loss   dfl_loss  Instances       Size\n"
          ]
        },
        {
          "name": "stderr",
          "output_type": "stream",
          "text": [
            "     19/100      2.41G      1.323      1.457      1.122         35        640: 100%|██████████| 5/5 [00:01<00:00,  3.29it/s]\n",
            "                 Class     Images  Instances      Box(P          R      mAP50  mAP50-95): 100%|██████████| 1/1 [00:00<00:00,  2.39it/s]"
          ]
        },
        {
          "name": "stdout",
          "output_type": "stream",
          "text": [
            "                   all         21         42      0.812      0.366      0.665      0.368\n"
          ]
        },
        {
          "name": "stderr",
          "output_type": "stream",
          "text": [
            "\n"
          ]
        },
        {
          "name": "stdout",
          "output_type": "stream",
          "text": [
            "\n",
            "      Epoch    GPU_mem   box_loss   cls_loss   dfl_loss  Instances       Size\n"
          ]
        },
        {
          "name": "stderr",
          "output_type": "stream",
          "text": [
            "     20/100      2.41G      1.337      1.459      1.148         35        640: 100%|██████████| 5/5 [00:02<00:00,  2.39it/s]\n",
            "                 Class     Images  Instances      Box(P          R      mAP50  mAP50-95): 100%|██████████| 1/1 [00:00<00:00,  1.58it/s]"
          ]
        },
        {
          "name": "stdout",
          "output_type": "stream",
          "text": [
            "                   all         21         42      0.759      0.524      0.673       0.34\n"
          ]
        },
        {
          "name": "stderr",
          "output_type": "stream",
          "text": [
            "\n"
          ]
        },
        {
          "name": "stdout",
          "output_type": "stream",
          "text": [
            "\n",
            "      Epoch    GPU_mem   box_loss   cls_loss   dfl_loss  Instances       Size\n"
          ]
        },
        {
          "name": "stderr",
          "output_type": "stream",
          "text": [
            "     21/100       2.4G      1.322      1.378      1.129         34        640: 100%|██████████| 5/5 [00:02<00:00,  2.30it/s]\n",
            "                 Class     Images  Instances      Box(P          R      mAP50  mAP50-95): 100%|██████████| 1/1 [00:00<00:00,  2.03it/s]"
          ]
        },
        {
          "name": "stdout",
          "output_type": "stream",
          "text": [
            "                   all         21         42      0.863      0.585      0.769      0.433\n"
          ]
        },
        {
          "name": "stderr",
          "output_type": "stream",
          "text": [
            "\n"
          ]
        },
        {
          "name": "stdout",
          "output_type": "stream",
          "text": [
            "\n",
            "      Epoch    GPU_mem   box_loss   cls_loss   dfl_loss  Instances       Size\n"
          ]
        },
        {
          "name": "stderr",
          "output_type": "stream",
          "text": [
            "     22/100      2.41G      1.289      1.341      1.156         18        640: 100%|██████████| 5/5 [00:01<00:00,  3.13it/s]\n",
            "                 Class     Images  Instances      Box(P          R      mAP50  mAP50-95): 100%|██████████| 1/1 [00:00<00:00,  2.75it/s]"
          ]
        },
        {
          "name": "stdout",
          "output_type": "stream",
          "text": [
            "                   all         21         42      0.802      0.704      0.824      0.482\n"
          ]
        },
        {
          "name": "stderr",
          "output_type": "stream",
          "text": [
            "\n"
          ]
        },
        {
          "name": "stdout",
          "output_type": "stream",
          "text": [
            "\n",
            "      Epoch    GPU_mem   box_loss   cls_loss   dfl_loss  Instances       Size\n"
          ]
        },
        {
          "name": "stderr",
          "output_type": "stream",
          "text": [
            "     23/100      2.41G      1.271      1.299      1.121         34        640: 100%|██████████| 5/5 [00:01<00:00,  4.66it/s]\n",
            "                 Class     Images  Instances      Box(P          R      mAP50  mAP50-95): 100%|██████████| 1/1 [00:00<00:00,  3.46it/s]"
          ]
        },
        {
          "name": "stdout",
          "output_type": "stream",
          "text": [
            "                   all         21         42      0.836        0.7      0.862       0.48\n"
          ]
        },
        {
          "name": "stderr",
          "output_type": "stream",
          "text": [
            "\n"
          ]
        },
        {
          "name": "stdout",
          "output_type": "stream",
          "text": [
            "\n",
            "      Epoch    GPU_mem   box_loss   cls_loss   dfl_loss  Instances       Size\n"
          ]
        },
        {
          "name": "stderr",
          "output_type": "stream",
          "text": [
            "     24/100      2.41G      1.336      1.311       1.11         41        640: 100%|██████████| 5/5 [00:01<00:00,  4.34it/s]\n",
            "                 Class     Images  Instances      Box(P          R      mAP50  mAP50-95): 100%|██████████| 1/1 [00:00<00:00,  4.29it/s]"
          ]
        },
        {
          "name": "stdout",
          "output_type": "stream",
          "text": [
            "                   all         21         42      0.805      0.786      0.831      0.435\n"
          ]
        },
        {
          "name": "stderr",
          "output_type": "stream",
          "text": [
            "\n"
          ]
        },
        {
          "name": "stdout",
          "output_type": "stream",
          "text": [
            "\n",
            "      Epoch    GPU_mem   box_loss   cls_loss   dfl_loss  Instances       Size\n"
          ]
        },
        {
          "name": "stderr",
          "output_type": "stream",
          "text": [
            "     25/100       2.4G      1.291      1.284      1.108         30        640: 100%|██████████| 5/5 [00:01<00:00,  3.64it/s]\n",
            "                 Class     Images  Instances      Box(P          R      mAP50  mAP50-95): 100%|██████████| 1/1 [00:00<00:00,  2.20it/s]"
          ]
        },
        {
          "name": "stdout",
          "output_type": "stream",
          "text": [
            "                   all         21         42      0.831      0.799      0.849      0.459\n"
          ]
        },
        {
          "name": "stderr",
          "output_type": "stream",
          "text": [
            "\n"
          ]
        },
        {
          "name": "stdout",
          "output_type": "stream",
          "text": [
            "\n",
            "      Epoch    GPU_mem   box_loss   cls_loss   dfl_loss  Instances       Size\n"
          ]
        },
        {
          "name": "stderr",
          "output_type": "stream",
          "text": [
            "     26/100      2.41G      1.279      1.235      1.101         30        640: 100%|██████████| 5/5 [00:01<00:00,  2.73it/s]\n",
            "                 Class     Images  Instances      Box(P          R      mAP50  mAP50-95): 100%|██████████| 1/1 [00:00<00:00,  1.75it/s]"
          ]
        },
        {
          "name": "stdout",
          "output_type": "stream",
          "text": [
            "                   all         21         42      0.937      0.751      0.874      0.508\n"
          ]
        },
        {
          "name": "stderr",
          "output_type": "stream",
          "text": [
            "\n"
          ]
        },
        {
          "name": "stdout",
          "output_type": "stream",
          "text": [
            "\n",
            "      Epoch    GPU_mem   box_loss   cls_loss   dfl_loss  Instances       Size\n"
          ]
        },
        {
          "name": "stderr",
          "output_type": "stream",
          "text": [
            "     27/100      2.41G      1.287      1.199      1.116         33        640: 100%|██████████| 5/5 [00:01<00:00,  3.17it/s]\n",
            "                 Class     Images  Instances      Box(P          R      mAP50  mAP50-95): 100%|██████████| 1/1 [00:00<00:00,  5.48it/s]"
          ]
        },
        {
          "name": "stdout",
          "output_type": "stream",
          "text": [
            "                   all         21         42      0.972      0.779       0.86      0.499\n"
          ]
        },
        {
          "name": "stderr",
          "output_type": "stream",
          "text": [
            "\n"
          ]
        },
        {
          "name": "stdout",
          "output_type": "stream",
          "text": [
            "\n",
            "      Epoch    GPU_mem   box_loss   cls_loss   dfl_loss  Instances       Size\n"
          ]
        },
        {
          "name": "stderr",
          "output_type": "stream",
          "text": [
            "     28/100      2.41G      1.357      1.292      1.112         23        640: 100%|██████████| 5/5 [00:01<00:00,  4.11it/s]\n",
            "                 Class     Images  Instances      Box(P          R      mAP50  mAP50-95): 100%|██████████| 1/1 [00:00<00:00,  4.32it/s]"
          ]
        },
        {
          "name": "stdout",
          "output_type": "stream",
          "text": [
            "                   all         21         42      0.866      0.714      0.866      0.456\n"
          ]
        },
        {
          "name": "stderr",
          "output_type": "stream",
          "text": [
            "\n"
          ]
        },
        {
          "name": "stdout",
          "output_type": "stream",
          "text": [
            "\n",
            "      Epoch    GPU_mem   box_loss   cls_loss   dfl_loss  Instances       Size\n"
          ]
        },
        {
          "name": "stderr",
          "output_type": "stream",
          "text": [
            "     29/100       2.4G      1.234      1.225      1.068         38        640: 100%|██████████| 5/5 [00:01<00:00,  4.09it/s]\n",
            "                 Class     Images  Instances      Box(P          R      mAP50  mAP50-95): 100%|██████████| 1/1 [00:00<00:00,  4.87it/s]"
          ]
        },
        {
          "name": "stdout",
          "output_type": "stream",
          "text": [
            "                   all         21         42      0.872      0.738      0.879      0.472\n"
          ]
        },
        {
          "name": "stderr",
          "output_type": "stream",
          "text": [
            "\n"
          ]
        },
        {
          "name": "stdout",
          "output_type": "stream",
          "text": [
            "\n",
            "      Epoch    GPU_mem   box_loss   cls_loss   dfl_loss  Instances       Size\n"
          ]
        },
        {
          "name": "stderr",
          "output_type": "stream",
          "text": [
            "     30/100      2.41G      1.295      1.178      1.095         30        640: 100%|██████████| 5/5 [00:01<00:00,  4.36it/s]\n",
            "                 Class     Images  Instances      Box(P          R      mAP50  mAP50-95): 100%|██████████| 1/1 [00:00<00:00,  4.62it/s]"
          ]
        },
        {
          "name": "stdout",
          "output_type": "stream",
          "text": [
            "                   all         21         42      0.956      0.754      0.877      0.486\n"
          ]
        },
        {
          "name": "stderr",
          "output_type": "stream",
          "text": [
            "\n"
          ]
        },
        {
          "name": "stdout",
          "output_type": "stream",
          "text": [
            "\n",
            "      Epoch    GPU_mem   box_loss   cls_loss   dfl_loss  Instances       Size\n"
          ]
        },
        {
          "name": "stderr",
          "output_type": "stream",
          "text": [
            "     31/100      2.41G      1.255      1.216      1.126         28        640: 100%|██████████| 5/5 [00:01<00:00,  3.95it/s]\n",
            "                 Class     Images  Instances      Box(P          R      mAP50  mAP50-95): 100%|██████████| 1/1 [00:00<00:00,  1.84it/s]"
          ]
        },
        {
          "name": "stdout",
          "output_type": "stream",
          "text": [
            "                   all         21         42      0.979      0.793      0.882      0.493\n"
          ]
        },
        {
          "name": "stderr",
          "output_type": "stream",
          "text": [
            "\n"
          ]
        },
        {
          "name": "stdout",
          "output_type": "stream",
          "text": [
            "\n",
            "      Epoch    GPU_mem   box_loss   cls_loss   dfl_loss  Instances       Size\n"
          ]
        },
        {
          "name": "stderr",
          "output_type": "stream",
          "text": [
            "     32/100      2.41G      1.199      1.123      1.065         25        640: 100%|██████████| 5/5 [00:01<00:00,  2.70it/s]\n",
            "                 Class     Images  Instances      Box(P          R      mAP50  mAP50-95): 100%|██████████| 1/1 [00:00<00:00,  1.65it/s]"
          ]
        },
        {
          "name": "stdout",
          "output_type": "stream",
          "text": [
            "                   all         21         42       0.85      0.824      0.882      0.473\n"
          ]
        },
        {
          "name": "stderr",
          "output_type": "stream",
          "text": [
            "\n"
          ]
        },
        {
          "name": "stdout",
          "output_type": "stream",
          "text": [
            "\n",
            "      Epoch    GPU_mem   box_loss   cls_loss   dfl_loss  Instances       Size\n"
          ]
        },
        {
          "name": "stderr",
          "output_type": "stream",
          "text": [
            "     33/100       2.4G      1.205      1.154      1.083         26        640: 100%|██████████| 5/5 [00:01<00:00,  2.69it/s]\n",
            "                 Class     Images  Instances      Box(P          R      mAP50  mAP50-95): 100%|██████████| 1/1 [00:00<00:00,  2.77it/s]"
          ]
        },
        {
          "name": "stdout",
          "output_type": "stream",
          "text": [
            "                   all         21         42      0.875      0.764      0.876      0.492\n"
          ]
        },
        {
          "name": "stderr",
          "output_type": "stream",
          "text": [
            "\n"
          ]
        },
        {
          "name": "stdout",
          "output_type": "stream",
          "text": [
            "\n",
            "      Epoch    GPU_mem   box_loss   cls_loss   dfl_loss  Instances       Size\n"
          ]
        },
        {
          "name": "stderr",
          "output_type": "stream",
          "text": [
            "     34/100      2.41G      1.197      1.142      1.089         31        640: 100%|██████████| 5/5 [00:01<00:00,  4.49it/s]\n",
            "                 Class     Images  Instances      Box(P          R      mAP50  mAP50-95): 100%|██████████| 1/1 [00:00<00:00,  4.76it/s]"
          ]
        },
        {
          "name": "stdout",
          "output_type": "stream",
          "text": [
            "                   all         21         42      0.932      0.738      0.853      0.458\n"
          ]
        },
        {
          "name": "stderr",
          "output_type": "stream",
          "text": [
            "\n"
          ]
        },
        {
          "name": "stdout",
          "output_type": "stream",
          "text": [
            "\n",
            "      Epoch    GPU_mem   box_loss   cls_loss   dfl_loss  Instances       Size\n"
          ]
        },
        {
          "name": "stderr",
          "output_type": "stream",
          "text": [
            "     35/100      2.41G      1.218      1.124      1.059         25        640: 100%|██████████| 5/5 [00:01<00:00,  4.55it/s]\n",
            "                 Class     Images  Instances      Box(P          R      mAP50  mAP50-95): 100%|██████████| 1/1 [00:00<00:00,  4.53it/s]"
          ]
        },
        {
          "name": "stdout",
          "output_type": "stream",
          "text": [
            "                   all         21         42      0.824      0.857       0.88      0.493\n"
          ]
        },
        {
          "name": "stderr",
          "output_type": "stream",
          "text": [
            "\n"
          ]
        },
        {
          "name": "stdout",
          "output_type": "stream",
          "text": [
            "\n",
            "      Epoch    GPU_mem   box_loss   cls_loss   dfl_loss  Instances       Size\n"
          ]
        },
        {
          "name": "stderr",
          "output_type": "stream",
          "text": [
            "     36/100      2.41G      1.145      1.158      1.046         32        640: 100%|██████████| 5/5 [00:01<00:00,  4.49it/s]\n",
            "                 Class     Images  Instances      Box(P          R      mAP50  mAP50-95): 100%|██████████| 1/1 [00:00<00:00,  3.41it/s]"
          ]
        },
        {
          "name": "stdout",
          "output_type": "stream",
          "text": [
            "                   all         21         42      0.954      0.811      0.869       0.48\n"
          ]
        },
        {
          "name": "stderr",
          "output_type": "stream",
          "text": [
            "\n"
          ]
        },
        {
          "name": "stdout",
          "output_type": "stream",
          "text": [
            "\n",
            "      Epoch    GPU_mem   box_loss   cls_loss   dfl_loss  Instances       Size\n"
          ]
        },
        {
          "name": "stderr",
          "output_type": "stream",
          "text": [
            "     37/100       2.4G       1.21      1.054      1.053         36        640: 100%|██████████| 5/5 [00:01<00:00,  3.89it/s]\n",
            "                 Class     Images  Instances      Box(P          R      mAP50  mAP50-95): 100%|██████████| 1/1 [00:00<00:00,  3.38it/s]"
          ]
        },
        {
          "name": "stdout",
          "output_type": "stream",
          "text": [
            "                   all         21         42      0.839       0.81      0.853      0.498\n"
          ]
        },
        {
          "name": "stderr",
          "output_type": "stream",
          "text": [
            "\n"
          ]
        },
        {
          "name": "stdout",
          "output_type": "stream",
          "text": [
            "\n",
            "      Epoch    GPU_mem   box_loss   cls_loss   dfl_loss  Instances       Size\n"
          ]
        },
        {
          "name": "stderr",
          "output_type": "stream",
          "text": [
            "     38/100      2.41G      1.179      1.104      1.041         49        640: 100%|██████████| 5/5 [00:01<00:00,  2.85it/s]\n",
            "                 Class     Images  Instances      Box(P          R      mAP50  mAP50-95): 100%|██████████| 1/1 [00:00<00:00,  2.47it/s]"
          ]
        },
        {
          "name": "stdout",
          "output_type": "stream",
          "text": [
            "                   all         21         42      0.871      0.762       0.87      0.523\n"
          ]
        },
        {
          "name": "stderr",
          "output_type": "stream",
          "text": [
            "\n"
          ]
        },
        {
          "name": "stdout",
          "output_type": "stream",
          "text": [
            "\n",
            "      Epoch    GPU_mem   box_loss   cls_loss   dfl_loss  Instances       Size\n"
          ]
        },
        {
          "name": "stderr",
          "output_type": "stream",
          "text": [
            "     39/100      2.41G      1.118      1.058      1.003         33        640: 100%|██████████| 5/5 [00:01<00:00,  2.92it/s]\n",
            "                 Class     Images  Instances      Box(P          R      mAP50  mAP50-95): 100%|██████████| 1/1 [00:00<00:00,  1.96it/s]"
          ]
        },
        {
          "name": "stdout",
          "output_type": "stream",
          "text": [
            "                   all         21         42      0.959      0.764       0.88       0.54\n"
          ]
        },
        {
          "name": "stderr",
          "output_type": "stream",
          "text": [
            "\n"
          ]
        },
        {
          "name": "stdout",
          "output_type": "stream",
          "text": [
            "\n",
            "      Epoch    GPU_mem   box_loss   cls_loss   dfl_loss  Instances       Size\n"
          ]
        },
        {
          "name": "stderr",
          "output_type": "stream",
          "text": [
            "     40/100      2.41G      1.117      1.076      1.024         32        640: 100%|██████████| 5/5 [00:01<00:00,  4.05it/s]\n",
            "                 Class     Images  Instances      Box(P          R      mAP50  mAP50-95): 100%|██████████| 1/1 [00:00<00:00,  5.42it/s]"
          ]
        },
        {
          "name": "stdout",
          "output_type": "stream",
          "text": [
            "                   all         21         42       0.92      0.806      0.897      0.537\n"
          ]
        },
        {
          "name": "stderr",
          "output_type": "stream",
          "text": [
            "\n"
          ]
        },
        {
          "name": "stdout",
          "output_type": "stream",
          "text": [
            "\n",
            "      Epoch    GPU_mem   box_loss   cls_loss   dfl_loss  Instances       Size\n"
          ]
        },
        {
          "name": "stderr",
          "output_type": "stream",
          "text": [
            "     41/100       2.4G      1.124      1.013       1.05         30        640: 100%|██████████| 5/5 [00:01<00:00,  4.59it/s]\n",
            "                 Class     Images  Instances      Box(P          R      mAP50  mAP50-95): 100%|██████████| 1/1 [00:00<00:00,  4.25it/s]"
          ]
        },
        {
          "name": "stdout",
          "output_type": "stream",
          "text": [
            "                   all         21         42      0.913      0.769      0.897      0.535\n"
          ]
        },
        {
          "name": "stderr",
          "output_type": "stream",
          "text": [
            "\n"
          ]
        },
        {
          "name": "stdout",
          "output_type": "stream",
          "text": [
            "\n",
            "      Epoch    GPU_mem   box_loss   cls_loss   dfl_loss  Instances       Size\n"
          ]
        },
        {
          "name": "stderr",
          "output_type": "stream",
          "text": [
            "     42/100      2.41G       1.06      1.018      1.021         27        640: 100%|██████████| 5/5 [00:01<00:00,  4.13it/s]\n",
            "                 Class     Images  Instances      Box(P          R      mAP50  mAP50-95): 100%|██████████| 1/1 [00:00<00:00,  4.86it/s]"
          ]
        },
        {
          "name": "stdout",
          "output_type": "stream",
          "text": [
            "                   all         21         42      0.929      0.727      0.907      0.523\n"
          ]
        },
        {
          "name": "stderr",
          "output_type": "stream",
          "text": [
            "\n"
          ]
        },
        {
          "name": "stdout",
          "output_type": "stream",
          "text": [
            "\n",
            "      Epoch    GPU_mem   box_loss   cls_loss   dfl_loss  Instances       Size\n"
          ]
        },
        {
          "name": "stderr",
          "output_type": "stream",
          "text": [
            "     43/100      2.41G      1.166      1.042      1.065         34        640: 100%|██████████| 5/5 [00:01<00:00,  4.61it/s]\n",
            "                 Class     Images  Instances      Box(P          R      mAP50  mAP50-95): 100%|██████████| 1/1 [00:00<00:00,  4.18it/s]"
          ]
        },
        {
          "name": "stdout",
          "output_type": "stream",
          "text": [
            "                   all         21         42      0.899      0.733      0.911      0.527\n"
          ]
        },
        {
          "name": "stderr",
          "output_type": "stream",
          "text": [
            "\n"
          ]
        },
        {
          "name": "stdout",
          "output_type": "stream",
          "text": [
            "\n",
            "      Epoch    GPU_mem   box_loss   cls_loss   dfl_loss  Instances       Size\n"
          ]
        },
        {
          "name": "stderr",
          "output_type": "stream",
          "text": [
            "     44/100      2.41G      1.135      1.066       1.09         33        640: 100%|██████████| 5/5 [00:01<00:00,  2.75it/s]\n",
            "                 Class     Images  Instances      Box(P          R      mAP50  mAP50-95): 100%|██████████| 1/1 [00:00<00:00,  2.46it/s]"
          ]
        },
        {
          "name": "stdout",
          "output_type": "stream",
          "text": [
            "                   all         21         42      0.891      0.833      0.909      0.512\n"
          ]
        },
        {
          "name": "stderr",
          "output_type": "stream",
          "text": [
            "\n"
          ]
        },
        {
          "name": "stdout",
          "output_type": "stream",
          "text": [
            "\n",
            "      Epoch    GPU_mem   box_loss   cls_loss   dfl_loss  Instances       Size\n"
          ]
        },
        {
          "name": "stderr",
          "output_type": "stream",
          "text": [
            "     45/100       2.4G      1.107      1.056      1.068         20        640: 100%|██████████| 5/5 [00:01<00:00,  2.79it/s]\n",
            "                 Class     Images  Instances      Box(P          R      mAP50  mAP50-95): 100%|██████████| 1/1 [00:00<00:00,  2.20it/s]"
          ]
        },
        {
          "name": "stdout",
          "output_type": "stream",
          "text": [
            "                   all         21         42      0.903      0.833      0.914      0.518\n"
          ]
        },
        {
          "name": "stderr",
          "output_type": "stream",
          "text": [
            "\n"
          ]
        },
        {
          "name": "stdout",
          "output_type": "stream",
          "text": [
            "\n",
            "      Epoch    GPU_mem   box_loss   cls_loss   dfl_loss  Instances       Size\n"
          ]
        },
        {
          "name": "stderr",
          "output_type": "stream",
          "text": [
            "     46/100      2.41G      1.063     0.9605      1.012         33        640: 100%|██████████| 5/5 [00:01<00:00,  4.88it/s]\n",
            "                 Class     Images  Instances      Box(P          R      mAP50  mAP50-95): 100%|██████████| 1/1 [00:00<00:00,  3.17it/s]"
          ]
        },
        {
          "name": "stdout",
          "output_type": "stream",
          "text": [
            "                   all         21         42      0.983      0.833      0.867      0.501\n"
          ]
        },
        {
          "name": "stderr",
          "output_type": "stream",
          "text": [
            "\n"
          ]
        },
        {
          "name": "stdout",
          "output_type": "stream",
          "text": [
            "\n",
            "      Epoch    GPU_mem   box_loss   cls_loss   dfl_loss  Instances       Size\n"
          ]
        },
        {
          "name": "stderr",
          "output_type": "stream",
          "text": [
            "     47/100      2.41G      1.025      1.005     0.9915         46        640: 100%|██████████| 5/5 [00:01<00:00,  4.55it/s]\n",
            "                 Class     Images  Instances      Box(P          R      mAP50  mAP50-95): 100%|██████████| 1/1 [00:00<00:00,  4.21it/s]"
          ]
        },
        {
          "name": "stdout",
          "output_type": "stream",
          "text": [
            "                   all         21         42      0.934      0.834      0.859      0.511\n"
          ]
        },
        {
          "name": "stderr",
          "output_type": "stream",
          "text": [
            "\n"
          ]
        },
        {
          "name": "stdout",
          "output_type": "stream",
          "text": [
            "\n",
            "      Epoch    GPU_mem   box_loss   cls_loss   dfl_loss  Instances       Size\n"
          ]
        },
        {
          "name": "stderr",
          "output_type": "stream",
          "text": [
            "     48/100      2.41G      1.018     0.9226      1.005         28        640: 100%|██████████| 5/5 [00:01<00:00,  3.84it/s]\n",
            "                 Class     Images  Instances      Box(P          R      mAP50  mAP50-95): 100%|██████████| 1/1 [00:00<00:00,  3.86it/s]"
          ]
        },
        {
          "name": "stdout",
          "output_type": "stream",
          "text": [
            "                   all         21         42      0.897      0.827      0.891      0.528\n"
          ]
        },
        {
          "name": "stderr",
          "output_type": "stream",
          "text": [
            "\n"
          ]
        },
        {
          "name": "stdout",
          "output_type": "stream",
          "text": [
            "\n",
            "      Epoch    GPU_mem   box_loss   cls_loss   dfl_loss  Instances       Size\n"
          ]
        },
        {
          "name": "stderr",
          "output_type": "stream",
          "text": [
            "     49/100       2.4G      1.069     0.9901     0.9962         28        640: 100%|██████████| 5/5 [00:01<00:00,  4.44it/s]\n",
            "                 Class     Images  Instances      Box(P          R      mAP50  mAP50-95): 100%|██████████| 1/1 [00:00<00:00,  3.16it/s]"
          ]
        },
        {
          "name": "stdout",
          "output_type": "stream",
          "text": [
            "                   all         21         42      0.957       0.81      0.886      0.525\n"
          ]
        },
        {
          "name": "stderr",
          "output_type": "stream",
          "text": [
            "\n"
          ]
        },
        {
          "name": "stdout",
          "output_type": "stream",
          "text": [
            "\n",
            "      Epoch    GPU_mem   box_loss   cls_loss   dfl_loss  Instances       Size\n"
          ]
        },
        {
          "name": "stderr",
          "output_type": "stream",
          "text": [
            "     50/100      2.41G      1.022     0.9148      0.998         24        640: 100%|██████████| 5/5 [00:01<00:00,  2.65it/s]\n",
            "                 Class     Images  Instances      Box(P          R      mAP50  mAP50-95): 100%|██████████| 1/1 [00:00<00:00,  2.16it/s]"
          ]
        },
        {
          "name": "stdout",
          "output_type": "stream",
          "text": [
            "                   all         21         42      0.934      0.857      0.886      0.501\n"
          ]
        },
        {
          "name": "stderr",
          "output_type": "stream",
          "text": [
            "\n"
          ]
        },
        {
          "name": "stdout",
          "output_type": "stream",
          "text": [
            "\n",
            "      Epoch    GPU_mem   box_loss   cls_loss   dfl_loss  Instances       Size\n"
          ]
        },
        {
          "name": "stderr",
          "output_type": "stream",
          "text": [
            "     51/100      2.41G      1.032     0.8893     0.9815         36        640: 100%|██████████| 5/5 [00:01<00:00,  2.84it/s]\n",
            "                 Class     Images  Instances      Box(P          R      mAP50  mAP50-95): 100%|██████████| 1/1 [00:00<00:00,  2.77it/s]"
          ]
        },
        {
          "name": "stdout",
          "output_type": "stream",
          "text": [
            "                   all         21         42       0.93      0.843      0.892      0.533\n"
          ]
        },
        {
          "name": "stderr",
          "output_type": "stream",
          "text": [
            "\n"
          ]
        },
        {
          "name": "stdout",
          "output_type": "stream",
          "text": [
            "\n",
            "      Epoch    GPU_mem   box_loss   cls_loss   dfl_loss  Instances       Size\n"
          ]
        },
        {
          "name": "stderr",
          "output_type": "stream",
          "text": [
            "     52/100      2.41G      1.028     0.9259      1.001         33        640: 100%|██████████| 5/5 [00:01<00:00,  4.35it/s]\n",
            "                 Class     Images  Instances      Box(P          R      mAP50  mAP50-95): 100%|██████████| 1/1 [00:00<00:00,  3.97it/s]"
          ]
        },
        {
          "name": "stdout",
          "output_type": "stream",
          "text": [
            "                   all         21         42      0.883      0.868       0.92      0.541\n"
          ]
        },
        {
          "name": "stderr",
          "output_type": "stream",
          "text": [
            "\n"
          ]
        },
        {
          "name": "stdout",
          "output_type": "stream",
          "text": [
            "\n",
            "      Epoch    GPU_mem   box_loss   cls_loss   dfl_loss  Instances       Size\n"
          ]
        },
        {
          "name": "stderr",
          "output_type": "stream",
          "text": [
            "     53/100       2.4G       0.95     0.8594      1.006         25        640: 100%|██████████| 5/5 [00:01<00:00,  4.55it/s]\n",
            "                 Class     Images  Instances      Box(P          R      mAP50  mAP50-95): 100%|██████████| 1/1 [00:00<00:00,  3.61it/s]"
          ]
        },
        {
          "name": "stdout",
          "output_type": "stream",
          "text": [
            "                   all         21         42      0.975       0.83      0.929      0.548\n"
          ]
        },
        {
          "name": "stderr",
          "output_type": "stream",
          "text": [
            "\n"
          ]
        },
        {
          "name": "stdout",
          "output_type": "stream",
          "text": [
            "\n",
            "      Epoch    GPU_mem   box_loss   cls_loss   dfl_loss  Instances       Size\n"
          ]
        },
        {
          "name": "stderr",
          "output_type": "stream",
          "text": [
            "     54/100      2.41G     0.9998     0.9338      1.015         26        640: 100%|██████████| 5/5 [00:01<00:00,  4.26it/s]\n",
            "                 Class     Images  Instances      Box(P          R      mAP50  mAP50-95): 100%|██████████| 1/1 [00:00<00:00,  4.46it/s]"
          ]
        },
        {
          "name": "stdout",
          "output_type": "stream",
          "text": [
            "                   all         21         42      0.956      0.881      0.937      0.548\n"
          ]
        },
        {
          "name": "stderr",
          "output_type": "stream",
          "text": [
            "\n"
          ]
        },
        {
          "name": "stdout",
          "output_type": "stream",
          "text": [
            "\n",
            "      Epoch    GPU_mem   box_loss   cls_loss   dfl_loss  Instances       Size\n"
          ]
        },
        {
          "name": "stderr",
          "output_type": "stream",
          "text": [
            "     55/100      2.41G     0.9548       0.93      1.003         36        640: 100%|██████████| 5/5 [00:01<00:00,  4.58it/s]\n",
            "                 Class     Images  Instances      Box(P          R      mAP50  mAP50-95): 100%|██████████| 1/1 [00:00<00:00,  3.08it/s]"
          ]
        },
        {
          "name": "stdout",
          "output_type": "stream",
          "text": [
            "                   all         21         42      0.981       0.81       0.93      0.539\n"
          ]
        },
        {
          "name": "stderr",
          "output_type": "stream",
          "text": [
            "\n"
          ]
        },
        {
          "name": "stdout",
          "output_type": "stream",
          "text": [
            "\n",
            "      Epoch    GPU_mem   box_loss   cls_loss   dfl_loss  Instances       Size\n"
          ]
        },
        {
          "name": "stderr",
          "output_type": "stream",
          "text": [
            "     56/100      2.41G      0.979     0.8337     0.9625         31        640: 100%|██████████| 5/5 [00:01<00:00,  2.65it/s]\n",
            "                 Class     Images  Instances      Box(P          R      mAP50  mAP50-95): 100%|██████████| 1/1 [00:00<00:00,  2.68it/s]"
          ]
        },
        {
          "name": "stdout",
          "output_type": "stream",
          "text": [
            "                   all         21         42      0.979      0.795      0.927      0.563\n"
          ]
        },
        {
          "name": "stderr",
          "output_type": "stream",
          "text": [
            "\n"
          ]
        },
        {
          "name": "stdout",
          "output_type": "stream",
          "text": [
            "\n",
            "      Epoch    GPU_mem   box_loss   cls_loss   dfl_loss  Instances       Size\n"
          ]
        },
        {
          "name": "stderr",
          "output_type": "stream",
          "text": [
            "     57/100       2.4G     0.9537     0.8281     0.9413         29        640: 100%|██████████| 5/5 [00:01<00:00,  3.12it/s]\n",
            "                 Class     Images  Instances      Box(P          R      mAP50  mAP50-95): 100%|██████████| 1/1 [00:00<00:00,  4.74it/s]"
          ]
        },
        {
          "name": "stdout",
          "output_type": "stream",
          "text": [
            "                   all         21         42      0.858      0.905      0.934      0.546\n"
          ]
        },
        {
          "name": "stderr",
          "output_type": "stream",
          "text": [
            "\n"
          ]
        },
        {
          "name": "stdout",
          "output_type": "stream",
          "text": [
            "\n",
            "      Epoch    GPU_mem   box_loss   cls_loss   dfl_loss  Instances       Size\n"
          ]
        },
        {
          "name": "stderr",
          "output_type": "stream",
          "text": [
            "     58/100      2.41G     0.9839     0.8949     0.9957         30        640: 100%|██████████| 5/5 [00:01<00:00,  4.09it/s]\n",
            "                 Class     Images  Instances      Box(P          R      mAP50  mAP50-95): 100%|██████████| 1/1 [00:00<00:00,  4.40it/s]"
          ]
        },
        {
          "name": "stdout",
          "output_type": "stream",
          "text": [
            "                   all         21         42      0.926      0.874      0.929      0.544\n"
          ]
        },
        {
          "name": "stderr",
          "output_type": "stream",
          "text": [
            "\n"
          ]
        },
        {
          "name": "stdout",
          "output_type": "stream",
          "text": [
            "\n",
            "      Epoch    GPU_mem   box_loss   cls_loss   dfl_loss  Instances       Size\n"
          ]
        },
        {
          "name": "stderr",
          "output_type": "stream",
          "text": [
            "     59/100      2.41G     0.9873     0.8294     0.9948         34        640: 100%|██████████| 5/5 [00:01<00:00,  4.56it/s]\n",
            "                 Class     Images  Instances      Box(P          R      mAP50  mAP50-95): 100%|██████████| 1/1 [00:00<00:00,  3.05it/s]"
          ]
        },
        {
          "name": "stdout",
          "output_type": "stream",
          "text": [
            "                   all         21         42      0.923      0.877      0.925      0.537\n"
          ]
        },
        {
          "name": "stderr",
          "output_type": "stream",
          "text": [
            "\n"
          ]
        },
        {
          "name": "stdout",
          "output_type": "stream",
          "text": [
            "\n",
            "      Epoch    GPU_mem   box_loss   cls_loss   dfl_loss  Instances       Size\n"
          ]
        },
        {
          "name": "stderr",
          "output_type": "stream",
          "text": [
            "     60/100      2.41G     0.9387     0.8241     0.9685         26        640: 100%|██████████| 5/5 [00:01<00:00,  3.95it/s]\n",
            "                 Class     Images  Instances      Box(P          R      mAP50  mAP50-95): 100%|██████████| 1/1 [00:00<00:00,  4.05it/s]"
          ]
        },
        {
          "name": "stdout",
          "output_type": "stream",
          "text": [
            "                   all         21         42      0.914      0.857      0.917      0.537\n"
          ]
        },
        {
          "name": "stderr",
          "output_type": "stream",
          "text": [
            "\n"
          ]
        },
        {
          "name": "stdout",
          "output_type": "stream",
          "text": [
            "\n",
            "      Epoch    GPU_mem   box_loss   cls_loss   dfl_loss  Instances       Size\n"
          ]
        },
        {
          "name": "stderr",
          "output_type": "stream",
          "text": [
            "     61/100       2.4G     0.9614     0.8524     0.9572         30        640: 100%|██████████| 5/5 [00:01<00:00,  4.03it/s]\n",
            "                 Class     Images  Instances      Box(P          R      mAP50  mAP50-95): 100%|██████████| 1/1 [00:00<00:00,  2.53it/s]"
          ]
        },
        {
          "name": "stdout",
          "output_type": "stream",
          "text": [
            "                   all         21         42      0.925      0.857       0.92       0.53\n"
          ]
        },
        {
          "name": "stderr",
          "output_type": "stream",
          "text": [
            "\n"
          ]
        },
        {
          "name": "stdout",
          "output_type": "stream",
          "text": [
            "\n",
            "      Epoch    GPU_mem   box_loss   cls_loss   dfl_loss  Instances       Size\n"
          ]
        },
        {
          "name": "stderr",
          "output_type": "stream",
          "text": [
            "     62/100      2.41G     0.9451     0.8317     0.9583         36        640: 100%|██████████| 5/5 [00:01<00:00,  2.58it/s]\n",
            "                 Class     Images  Instances      Box(P          R      mAP50  mAP50-95): 100%|██████████| 1/1 [00:00<00:00,  2.26it/s]"
          ]
        },
        {
          "name": "stdout",
          "output_type": "stream",
          "text": [
            "                   all         21         42      0.856      0.896      0.925      0.519\n"
          ]
        },
        {
          "name": "stderr",
          "output_type": "stream",
          "text": [
            "\n"
          ]
        },
        {
          "name": "stdout",
          "output_type": "stream",
          "text": [
            "\n",
            "      Epoch    GPU_mem   box_loss   cls_loss   dfl_loss  Instances       Size\n"
          ]
        },
        {
          "name": "stderr",
          "output_type": "stream",
          "text": [
            "     63/100      2.41G     0.9314     0.8427      0.962         23        640: 100%|██████████| 5/5 [00:01<00:00,  2.87it/s]\n",
            "                 Class     Images  Instances      Box(P          R      mAP50  mAP50-95): 100%|██████████| 1/1 [00:00<00:00,  1.71it/s]"
          ]
        },
        {
          "name": "stdout",
          "output_type": "stream",
          "text": [
            "                   all         21         42      0.879      0.919      0.931      0.529\n"
          ]
        },
        {
          "name": "stderr",
          "output_type": "stream",
          "text": [
            "\n"
          ]
        },
        {
          "name": "stdout",
          "output_type": "stream",
          "text": [
            "\n",
            "      Epoch    GPU_mem   box_loss   cls_loss   dfl_loss  Instances       Size\n"
          ]
        },
        {
          "name": "stderr",
          "output_type": "stream",
          "text": [
            "     64/100      2.41G     0.8568     0.7876     0.9369         29        640: 100%|██████████| 5/5 [00:01<00:00,  4.71it/s]\n",
            "                 Class     Images  Instances      Box(P          R      mAP50  mAP50-95): 100%|██████████| 1/1 [00:00<00:00,  3.78it/s]"
          ]
        },
        {
          "name": "stdout",
          "output_type": "stream",
          "text": [
            "                   all         21         42      0.916      0.923      0.936      0.562\n"
          ]
        },
        {
          "name": "stderr",
          "output_type": "stream",
          "text": [
            "\n"
          ]
        },
        {
          "name": "stdout",
          "output_type": "stream",
          "text": [
            "\n",
            "      Epoch    GPU_mem   box_loss   cls_loss   dfl_loss  Instances       Size\n"
          ]
        },
        {
          "name": "stderr",
          "output_type": "stream",
          "text": [
            "     65/100       2.4G     0.8852     0.8241      0.948         25        640: 100%|██████████| 5/5 [00:01<00:00,  4.63it/s]\n",
            "                 Class     Images  Instances      Box(P          R      mAP50  mAP50-95): 100%|██████████| 1/1 [00:00<00:00,  3.81it/s]"
          ]
        },
        {
          "name": "stdout",
          "output_type": "stream",
          "text": [
            "                   all         21         42      0.939      0.903      0.938      0.562\n"
          ]
        },
        {
          "name": "stderr",
          "output_type": "stream",
          "text": [
            "\n"
          ]
        },
        {
          "name": "stdout",
          "output_type": "stream",
          "text": [
            "\n",
            "      Epoch    GPU_mem   box_loss   cls_loss   dfl_loss  Instances       Size\n"
          ]
        },
        {
          "name": "stderr",
          "output_type": "stream",
          "text": [
            "     66/100      2.41G     0.9605     0.8251     0.9632         46        640: 100%|██████████| 5/5 [00:01<00:00,  4.13it/s]\n",
            "                 Class     Images  Instances      Box(P          R      mAP50  mAP50-95): 100%|██████████| 1/1 [00:00<00:00,  3.79it/s]"
          ]
        },
        {
          "name": "stdout",
          "output_type": "stream",
          "text": [
            "                   all         21         42      0.993      0.881      0.944      0.572\n"
          ]
        },
        {
          "name": "stderr",
          "output_type": "stream",
          "text": [
            "\n"
          ]
        },
        {
          "name": "stdout",
          "output_type": "stream",
          "text": [
            "\n",
            "      Epoch    GPU_mem   box_loss   cls_loss   dfl_loss  Instances       Size\n"
          ]
        },
        {
          "name": "stderr",
          "output_type": "stream",
          "text": [
            "     67/100      2.41G     0.8742     0.7682     0.9516         29        640: 100%|██████████| 5/5 [00:01<00:00,  4.29it/s]\n",
            "                 Class     Images  Instances      Box(P          R      mAP50  mAP50-95): 100%|██████████| 1/1 [00:00<00:00,  3.81it/s]"
          ]
        },
        {
          "name": "stdout",
          "output_type": "stream",
          "text": [
            "                   all         21         42      0.971        0.9      0.947       0.58\n"
          ]
        },
        {
          "name": "stderr",
          "output_type": "stream",
          "text": [
            "\n"
          ]
        },
        {
          "name": "stdout",
          "output_type": "stream",
          "text": [
            "\n",
            "      Epoch    GPU_mem   box_loss   cls_loss   dfl_loss  Instances       Size\n"
          ]
        },
        {
          "name": "stderr",
          "output_type": "stream",
          "text": [
            "     68/100      2.41G     0.8529      0.783     0.9478         32        640: 100%|██████████| 5/5 [00:01<00:00,  2.73it/s]\n",
            "                 Class     Images  Instances      Box(P          R      mAP50  mAP50-95): 100%|██████████| 1/1 [00:00<00:00,  2.19it/s]"
          ]
        },
        {
          "name": "stdout",
          "output_type": "stream",
          "text": [
            "                   all         21         42      0.983      0.881      0.942      0.557\n"
          ]
        },
        {
          "name": "stderr",
          "output_type": "stream",
          "text": [
            "\n"
          ]
        },
        {
          "name": "stdout",
          "output_type": "stream",
          "text": [
            "\n",
            "      Epoch    GPU_mem   box_loss   cls_loss   dfl_loss  Instances       Size\n"
          ]
        },
        {
          "name": "stderr",
          "output_type": "stream",
          "text": [
            "     69/100       2.4G      0.864     0.8074     0.9504         32        640: 100%|██████████| 5/5 [00:01<00:00,  2.58it/s]\n",
            "                 Class     Images  Instances      Box(P          R      mAP50  mAP50-95): 100%|██████████| 1/1 [00:00<00:00,  3.20it/s]"
          ]
        },
        {
          "name": "stdout",
          "output_type": "stream",
          "text": [
            "                   all         21         42      0.913      0.943      0.948      0.549\n"
          ]
        },
        {
          "name": "stderr",
          "output_type": "stream",
          "text": [
            "\n"
          ]
        },
        {
          "name": "stdout",
          "output_type": "stream",
          "text": [
            "\n",
            "      Epoch    GPU_mem   box_loss   cls_loss   dfl_loss  Instances       Size\n"
          ]
        },
        {
          "name": "stderr",
          "output_type": "stream",
          "text": [
            "     70/100      2.41G     0.8153     0.7244     0.9232         34        640: 100%|██████████| 5/5 [00:01<00:00,  4.42it/s]\n",
            "                 Class     Images  Instances      Box(P          R      mAP50  mAP50-95): 100%|██████████| 1/1 [00:00<00:00,  3.14it/s]"
          ]
        },
        {
          "name": "stdout",
          "output_type": "stream",
          "text": [
            "                   all         21         42      0.973        0.9      0.952      0.566\n"
          ]
        },
        {
          "name": "stderr",
          "output_type": "stream",
          "text": [
            "\n"
          ]
        },
        {
          "name": "stdout",
          "output_type": "stream",
          "text": [
            "\n",
            "      Epoch    GPU_mem   box_loss   cls_loss   dfl_loss  Instances       Size\n"
          ]
        },
        {
          "name": "stderr",
          "output_type": "stream",
          "text": [
            "     71/100      2.41G     0.8286     0.7279     0.9129         39        640: 100%|██████████| 5/5 [00:01<00:00,  4.54it/s]\n",
            "                 Class     Images  Instances      Box(P          R      mAP50  mAP50-95): 100%|██████████| 1/1 [00:00<00:00,  5.02it/s]"
          ]
        },
        {
          "name": "stdout",
          "output_type": "stream",
          "text": [
            "                   all         21         42      0.981      0.905      0.952      0.556\n"
          ]
        },
        {
          "name": "stderr",
          "output_type": "stream",
          "text": [
            "\n"
          ]
        },
        {
          "name": "stdout",
          "output_type": "stream",
          "text": [
            "\n",
            "      Epoch    GPU_mem   box_loss   cls_loss   dfl_loss  Instances       Size\n"
          ]
        },
        {
          "name": "stderr",
          "output_type": "stream",
          "text": [
            "     72/100      2.41G     0.8342      0.717     0.9125         27        640: 100%|██████████| 5/5 [00:01<00:00,  4.32it/s]\n",
            "                 Class     Images  Instances      Box(P          R      mAP50  mAP50-95): 100%|██████████| 1/1 [00:00<00:00,  3.93it/s]"
          ]
        },
        {
          "name": "stdout",
          "output_type": "stream",
          "text": [
            "                   all         21         42      0.993      0.925      0.953      0.543\n"
          ]
        },
        {
          "name": "stderr",
          "output_type": "stream",
          "text": [
            "\n"
          ]
        },
        {
          "name": "stdout",
          "output_type": "stream",
          "text": [
            "\n",
            "      Epoch    GPU_mem   box_loss   cls_loss   dfl_loss  Instances       Size\n"
          ]
        },
        {
          "name": "stderr",
          "output_type": "stream",
          "text": [
            "     73/100      2.38G     0.8544      0.773     0.9468         29        640: 100%|██████████| 5/5 [00:01<00:00,  4.62it/s]\n",
            "                 Class     Images  Instances      Box(P          R      mAP50  mAP50-95): 100%|██████████| 1/1 [00:00<00:00,  4.31it/s]"
          ]
        },
        {
          "name": "stdout",
          "output_type": "stream",
          "text": [
            "                   all         21         42      0.943      0.912      0.932      0.545\n"
          ]
        },
        {
          "name": "stderr",
          "output_type": "stream",
          "text": [
            "\n"
          ]
        },
        {
          "name": "stdout",
          "output_type": "stream",
          "text": [
            "\n",
            "      Epoch    GPU_mem   box_loss   cls_loss   dfl_loss  Instances       Size\n"
          ]
        },
        {
          "name": "stderr",
          "output_type": "stream",
          "text": [
            "     74/100      2.41G     0.7722     0.7449     0.9328         28        640: 100%|██████████| 5/5 [00:01<00:00,  2.87it/s]\n",
            "                 Class     Images  Instances      Box(P          R      mAP50  mAP50-95): 100%|██████████| 1/1 [00:00<00:00,  2.68it/s]"
          ]
        },
        {
          "name": "stdout",
          "output_type": "stream",
          "text": [
            "                   all         21         42       0.94      0.895      0.926      0.546\n"
          ]
        },
        {
          "name": "stderr",
          "output_type": "stream",
          "text": [
            "\n"
          ]
        },
        {
          "name": "stdout",
          "output_type": "stream",
          "text": [
            "\n",
            "      Epoch    GPU_mem   box_loss   cls_loss   dfl_loss  Instances       Size\n"
          ]
        },
        {
          "name": "stderr",
          "output_type": "stream",
          "text": [
            "     75/100      2.41G     0.7884     0.6978      0.904         22        640: 100%|██████████| 5/5 [00:01<00:00,  2.75it/s]\n",
            "                 Class     Images  Instances      Box(P          R      mAP50  mAP50-95): 100%|██████████| 1/1 [00:00<00:00,  1.79it/s]"
          ]
        },
        {
          "name": "stdout",
          "output_type": "stream",
          "text": [
            "                   all         21         42      0.993      0.839      0.925      0.552\n"
          ]
        },
        {
          "name": "stderr",
          "output_type": "stream",
          "text": [
            "\n"
          ]
        },
        {
          "name": "stdout",
          "output_type": "stream",
          "text": [
            "\n",
            "      Epoch    GPU_mem   box_loss   cls_loss   dfl_loss  Instances       Size\n"
          ]
        },
        {
          "name": "stderr",
          "output_type": "stream",
          "text": [
            "     76/100      2.41G     0.8399     0.7063      0.909         35        640: 100%|██████████| 5/5 [00:01<00:00,  3.77it/s]\n",
            "                 Class     Images  Instances      Box(P          R      mAP50  mAP50-95): 100%|██████████| 1/1 [00:00<00:00,  3.85it/s]"
          ]
        },
        {
          "name": "stdout",
          "output_type": "stream",
          "text": [
            "                   all         21         42      0.921      0.911      0.929      0.567\n"
          ]
        },
        {
          "name": "stderr",
          "output_type": "stream",
          "text": [
            "\n"
          ]
        },
        {
          "name": "stdout",
          "output_type": "stream",
          "text": [
            "\n",
            "      Epoch    GPU_mem   box_loss   cls_loss   dfl_loss  Instances       Size\n"
          ]
        },
        {
          "name": "stderr",
          "output_type": "stream",
          "text": [
            "     77/100       2.4G     0.8022      0.777     0.9263         23        640: 100%|██████████| 5/5 [00:01<00:00,  4.35it/s]\n",
            "                 Class     Images  Instances      Box(P          R      mAP50  mAP50-95): 100%|██████████| 1/1 [00:00<00:00,  4.20it/s]"
          ]
        },
        {
          "name": "stdout",
          "output_type": "stream",
          "text": [
            "                   all         21         42      0.974      0.882      0.934      0.557\n"
          ]
        },
        {
          "name": "stderr",
          "output_type": "stream",
          "text": [
            "\n"
          ]
        },
        {
          "name": "stdout",
          "output_type": "stream",
          "text": [
            "\n",
            "      Epoch    GPU_mem   box_loss   cls_loss   dfl_loss  Instances       Size\n"
          ]
        },
        {
          "name": "stderr",
          "output_type": "stream",
          "text": [
            "     78/100      2.41G     0.7463     0.6732     0.8937         25        640: 100%|██████████| 5/5 [00:01<00:00,  4.42it/s]\n",
            "                 Class     Images  Instances      Box(P          R      mAP50  mAP50-95): 100%|██████████| 1/1 [00:00<00:00,  4.63it/s]"
          ]
        },
        {
          "name": "stdout",
          "output_type": "stream",
          "text": [
            "                   all         21         42      0.959        0.9      0.936      0.563\n"
          ]
        },
        {
          "name": "stderr",
          "output_type": "stream",
          "text": [
            "\n"
          ]
        },
        {
          "name": "stdout",
          "output_type": "stream",
          "text": [
            "\n",
            "      Epoch    GPU_mem   box_loss   cls_loss   dfl_loss  Instances       Size\n"
          ]
        },
        {
          "name": "stderr",
          "output_type": "stream",
          "text": [
            "     79/100      2.41G     0.8131     0.6958     0.8878         33        640: 100%|██████████| 5/5 [00:01<00:00,  4.34it/s]\n",
            "                 Class     Images  Instances      Box(P          R      mAP50  mAP50-95): 100%|██████████| 1/1 [00:00<00:00,  4.69it/s]"
          ]
        },
        {
          "name": "stdout",
          "output_type": "stream",
          "text": [
            "                   all         21         42      0.944      0.928      0.939      0.555\n"
          ]
        },
        {
          "name": "stderr",
          "output_type": "stream",
          "text": [
            "\n"
          ]
        },
        {
          "name": "stdout",
          "output_type": "stream",
          "text": [
            "\n",
            "      Epoch    GPU_mem   box_loss   cls_loss   dfl_loss  Instances       Size\n"
          ]
        },
        {
          "name": "stderr",
          "output_type": "stream",
          "text": [
            "     80/100      2.41G      0.788     0.6738     0.9124         32        640: 100%|██████████| 5/5 [00:01<00:00,  2.83it/s]\n",
            "                 Class     Images  Instances      Box(P          R      mAP50  mAP50-95): 100%|██████████| 1/1 [00:00<00:00,  2.03it/s]"
          ]
        },
        {
          "name": "stdout",
          "output_type": "stream",
          "text": [
            "                   all         21         42      0.974      0.913      0.937      0.552\n"
          ]
        },
        {
          "name": "stderr",
          "output_type": "stream",
          "text": [
            "\n"
          ]
        },
        {
          "name": "stdout",
          "output_type": "stream",
          "text": [
            "\n",
            "      Epoch    GPU_mem   box_loss   cls_loss   dfl_loss  Instances       Size\n"
          ]
        },
        {
          "name": "stderr",
          "output_type": "stream",
          "text": [
            "     81/100      2.38G     0.7448     0.6791     0.8881         39        640: 100%|██████████| 5/5 [00:01<00:00,  2.63it/s]\n",
            "                 Class     Images  Instances      Box(P          R      mAP50  mAP50-95): 100%|██████████| 1/1 [00:00<00:00,  2.07it/s]"
          ]
        },
        {
          "name": "stdout",
          "output_type": "stream",
          "text": [
            "                   all         21         42      0.974      0.917      0.937      0.545\n"
          ]
        },
        {
          "name": "stderr",
          "output_type": "stream",
          "text": [
            "\n"
          ]
        },
        {
          "name": "stdout",
          "output_type": "stream",
          "text": [
            "\n",
            "      Epoch    GPU_mem   box_loss   cls_loss   dfl_loss  Instances       Size\n"
          ]
        },
        {
          "name": "stderr",
          "output_type": "stream",
          "text": [
            "     82/100      2.41G     0.7854      0.682      0.919         29        640: 100%|██████████| 5/5 [00:01<00:00,  4.15it/s]\n",
            "                 Class     Images  Instances      Box(P          R      mAP50  mAP50-95): 100%|██████████| 1/1 [00:00<00:00,  4.03it/s]"
          ]
        },
        {
          "name": "stdout",
          "output_type": "stream",
          "text": [
            "                   all         21         42      0.939      0.929      0.934       0.54\n"
          ]
        },
        {
          "name": "stderr",
          "output_type": "stream",
          "text": [
            "\n"
          ]
        },
        {
          "name": "stdout",
          "output_type": "stream",
          "text": [
            "\n",
            "      Epoch    GPU_mem   box_loss   cls_loss   dfl_loss  Instances       Size\n"
          ]
        },
        {
          "name": "stderr",
          "output_type": "stream",
          "text": [
            "     83/100      2.41G     0.7712     0.6698      0.898         45        640: 100%|██████████| 5/5 [00:01<00:00,  4.31it/s]\n",
            "                 Class     Images  Instances      Box(P          R      mAP50  mAP50-95): 100%|██████████| 1/1 [00:00<00:00,  4.42it/s]"
          ]
        },
        {
          "name": "stdout",
          "output_type": "stream",
          "text": [
            "                   all         21         42      0.974      0.908      0.933      0.545\n"
          ]
        },
        {
          "name": "stderr",
          "output_type": "stream",
          "text": [
            "\n"
          ]
        },
        {
          "name": "stdout",
          "output_type": "stream",
          "text": [
            "\n",
            "      Epoch    GPU_mem   box_loss   cls_loss   dfl_loss  Instances       Size\n"
          ]
        },
        {
          "name": "stderr",
          "output_type": "stream",
          "text": [
            "     84/100      2.41G     0.7378     0.6779     0.9085         23        640: 100%|██████████| 5/5 [00:01<00:00,  4.04it/s]\n",
            "                 Class     Images  Instances      Box(P          R      mAP50  mAP50-95): 100%|██████████| 1/1 [00:00<00:00,  5.11it/s]"
          ]
        },
        {
          "name": "stdout",
          "output_type": "stream",
          "text": [
            "                   all         21         42      0.929      0.919       0.93      0.559\n"
          ]
        },
        {
          "name": "stderr",
          "output_type": "stream",
          "text": [
            "\n"
          ]
        },
        {
          "name": "stdout",
          "output_type": "stream",
          "text": [
            "\n",
            "      Epoch    GPU_mem   box_loss   cls_loss   dfl_loss  Instances       Size\n"
          ]
        },
        {
          "name": "stderr",
          "output_type": "stream",
          "text": [
            "     85/100       2.4G     0.7493     0.6864     0.9131         30        640: 100%|██████████| 5/5 [00:01<00:00,  4.48it/s]\n",
            "                 Class     Images  Instances      Box(P          R      mAP50  mAP50-95): 100%|██████████| 1/1 [00:00<00:00,  3.23it/s]"
          ]
        },
        {
          "name": "stdout",
          "output_type": "stream",
          "text": [
            "                   all         21         42      0.938      0.929       0.93      0.562\n"
          ]
        },
        {
          "name": "stderr",
          "output_type": "stream",
          "text": [
            "\n"
          ]
        },
        {
          "name": "stdout",
          "output_type": "stream",
          "text": [
            "\n",
            "      Epoch    GPU_mem   box_loss   cls_loss   dfl_loss  Instances       Size\n"
          ]
        },
        {
          "name": "stderr",
          "output_type": "stream",
          "text": [
            "     86/100      2.41G      0.758     0.6632     0.9132         30        640: 100%|██████████| 5/5 [00:01<00:00,  3.09it/s]\n",
            "                 Class     Images  Instances      Box(P          R      mAP50  mAP50-95): 100%|██████████| 1/1 [00:00<00:00,  2.24it/s]"
          ]
        },
        {
          "name": "stdout",
          "output_type": "stream",
          "text": [
            "                   all         21         42      0.938      0.929      0.929      0.564\n"
          ]
        },
        {
          "name": "stderr",
          "output_type": "stream",
          "text": [
            "\n"
          ]
        },
        {
          "name": "stdout",
          "output_type": "stream",
          "text": [
            "\n",
            "      Epoch    GPU_mem   box_loss   cls_loss   dfl_loss  Instances       Size\n"
          ]
        },
        {
          "name": "stderr",
          "output_type": "stream",
          "text": [
            "     87/100      2.41G     0.7275     0.6664     0.9035         40        640: 100%|██████████| 5/5 [00:01<00:00,  2.82it/s]\n",
            "                 Class     Images  Instances      Box(P          R      mAP50  mAP50-95): 100%|██████████| 1/1 [00:00<00:00,  2.20it/s]"
          ]
        },
        {
          "name": "stdout",
          "output_type": "stream",
          "text": [
            "                   all         21         42       0.97      0.922      0.928      0.554\n"
          ]
        },
        {
          "name": "stderr",
          "output_type": "stream",
          "text": [
            "\n"
          ]
        },
        {
          "name": "stdout",
          "output_type": "stream",
          "text": [
            "\n",
            "      Epoch    GPU_mem   box_loss   cls_loss   dfl_loss  Instances       Size\n"
          ]
        },
        {
          "name": "stderr",
          "output_type": "stream",
          "text": [
            "     88/100      2.41G     0.7295     0.6688     0.9014         32        640: 100%|██████████| 5/5 [00:01<00:00,  4.21it/s]\n",
            "                 Class     Images  Instances      Box(P          R      mAP50  mAP50-95): 100%|██████████| 1/1 [00:00<00:00,  4.84it/s]"
          ]
        },
        {
          "name": "stdout",
          "output_type": "stream",
          "text": [
            "                   all         21         42      0.956       0.92      0.929      0.555\n"
          ]
        },
        {
          "name": "stderr",
          "output_type": "stream",
          "text": [
            "\n"
          ]
        },
        {
          "name": "stdout",
          "output_type": "stream",
          "text": [
            "\n",
            "      Epoch    GPU_mem   box_loss   cls_loss   dfl_loss  Instances       Size\n"
          ]
        },
        {
          "name": "stderr",
          "output_type": "stream",
          "text": [
            "     89/100       2.4G     0.6618     0.6694     0.8773         14        640: 100%|██████████| 5/5 [00:01<00:00,  4.86it/s]\n",
            "                 Class     Images  Instances      Box(P          R      mAP50  mAP50-95): 100%|██████████| 1/1 [00:00<00:00,  4.86it/s]"
          ]
        },
        {
          "name": "stdout",
          "output_type": "stream",
          "text": [
            "                   all         21         42      0.955      0.922      0.929      0.551\n"
          ]
        },
        {
          "name": "stderr",
          "output_type": "stream",
          "text": [
            "\n"
          ]
        },
        {
          "name": "stdout",
          "output_type": "stream",
          "text": [
            "\n",
            "      Epoch    GPU_mem   box_loss   cls_loss   dfl_loss  Instances       Size\n"
          ]
        },
        {
          "name": "stderr",
          "output_type": "stream",
          "text": [
            "     90/100      2.41G     0.7207     0.6563     0.9165         26        640: 100%|██████████| 5/5 [00:01<00:00,  4.31it/s]\n",
            "                 Class     Images  Instances      Box(P          R      mAP50  mAP50-95): 100%|██████████| 1/1 [00:00<00:00,  5.06it/s]"
          ]
        },
        {
          "name": "stdout",
          "output_type": "stream",
          "text": [
            "                   all         21         42      0.955      0.921       0.93      0.559\n"
          ]
        },
        {
          "name": "stderr",
          "output_type": "stream",
          "text": [
            "\n"
          ]
        },
        {
          "name": "stdout",
          "output_type": "stream",
          "text": [
            "Closing dataloader mosaic\n",
            "\u001b[34m\u001b[1malbumentations: \u001b[0mBlur(p=0.01, blur_limit=(3, 7)), MedianBlur(p=0.01, blur_limit=(3, 7)), ToGray(p=0.01, num_output_channels=3, method='weighted_average'), CLAHE(p=0.01, clip_limit=(1, 4.0), tile_grid_size=(8, 8))\n",
            "\n",
            "      Epoch    GPU_mem   box_loss   cls_loss   dfl_loss  Instances       Size\n"
          ]
        },
        {
          "name": "stderr",
          "output_type": "stream",
          "text": [
            "     91/100      2.39G     0.6842     0.7156     0.8521         18        640: 100%|██████████| 5/5 [00:06<00:00,  1.27s/it]\n",
            "                 Class     Images  Instances      Box(P          R      mAP50  mAP50-95): 100%|██████████| 1/1 [00:00<00:00,  1.54it/s]"
          ]
        },
        {
          "name": "stdout",
          "output_type": "stream",
          "text": [
            "                   all         21         42      0.955      0.918      0.929      0.546\n"
          ]
        },
        {
          "name": "stderr",
          "output_type": "stream",
          "text": [
            "\n"
          ]
        },
        {
          "name": "stdout",
          "output_type": "stream",
          "text": [
            "\n",
            "      Epoch    GPU_mem   box_loss   cls_loss   dfl_loss  Instances       Size\n"
          ]
        },
        {
          "name": "stderr",
          "output_type": "stream",
          "text": [
            "     92/100      2.39G     0.7047      0.736     0.8924         18        640: 100%|██████████| 5/5 [00:01<00:00,  4.28it/s]\n",
            "                 Class     Images  Instances      Box(P          R      mAP50  mAP50-95): 100%|██████████| 1/1 [00:00<00:00,  3.07it/s]"
          ]
        },
        {
          "name": "stdout",
          "output_type": "stream",
          "text": [
            "                   all         21         42      0.967      0.914      0.938      0.559\n"
          ]
        },
        {
          "name": "stderr",
          "output_type": "stream",
          "text": [
            "\n"
          ]
        },
        {
          "name": "stdout",
          "output_type": "stream",
          "text": [
            "\n",
            "      Epoch    GPU_mem   box_loss   cls_loss   dfl_loss  Instances       Size\n"
          ]
        },
        {
          "name": "stderr",
          "output_type": "stream",
          "text": [
            "     93/100      2.38G     0.6745     0.6855     0.8653         18        640: 100%|██████████| 5/5 [00:01<00:00,  4.00it/s]\n",
            "                 Class     Images  Instances      Box(P          R      mAP50  mAP50-95): 100%|██████████| 1/1 [00:00<00:00,  5.45it/s]"
          ]
        },
        {
          "name": "stdout",
          "output_type": "stream",
          "text": [
            "                   all         21         42      0.983      0.901      0.944       0.56\n"
          ]
        },
        {
          "name": "stderr",
          "output_type": "stream",
          "text": [
            "\n"
          ]
        },
        {
          "name": "stdout",
          "output_type": "stream",
          "text": [
            "\n",
            "      Epoch    GPU_mem   box_loss   cls_loss   dfl_loss  Instances       Size\n"
          ]
        },
        {
          "name": "stderr",
          "output_type": "stream",
          "text": [
            "     94/100      2.39G     0.6568     0.6632     0.8555         18        640: 100%|██████████| 5/5 [00:01<00:00,  4.30it/s]\n",
            "                 Class     Images  Instances      Box(P          R      mAP50  mAP50-95): 100%|██████████| 1/1 [00:00<00:00,  3.31it/s]"
          ]
        },
        {
          "name": "stdout",
          "output_type": "stream",
          "text": [
            "                   all         21         42      0.957      0.924      0.944      0.564\n"
          ]
        },
        {
          "name": "stderr",
          "output_type": "stream",
          "text": [
            "\n"
          ]
        },
        {
          "name": "stdout",
          "output_type": "stream",
          "text": [
            "\n",
            "      Epoch    GPU_mem   box_loss   cls_loss   dfl_loss  Instances       Size\n"
          ]
        },
        {
          "name": "stderr",
          "output_type": "stream",
          "text": [
            "     95/100      2.39G     0.6686     0.6757     0.8606         18        640: 100%|██████████| 5/5 [00:01<00:00,  4.85it/s]\n",
            "                 Class     Images  Instances      Box(P          R      mAP50  mAP50-95): 100%|██████████| 1/1 [00:00<00:00,  3.86it/s]"
          ]
        },
        {
          "name": "stdout",
          "output_type": "stream",
          "text": [
            "                   all         21         42      0.973      0.898      0.943      0.563\n"
          ]
        },
        {
          "name": "stderr",
          "output_type": "stream",
          "text": [
            "\n"
          ]
        },
        {
          "name": "stdout",
          "output_type": "stream",
          "text": [
            "\n",
            "      Epoch    GPU_mem   box_loss   cls_loss   dfl_loss  Instances       Size\n"
          ]
        },
        {
          "name": "stderr",
          "output_type": "stream",
          "text": [
            "     96/100      2.39G     0.6718     0.6915     0.8663         18        640: 100%|██████████| 5/5 [00:01<00:00,  2.59it/s]\n",
            "                 Class     Images  Instances      Box(P          R      mAP50  mAP50-95): 100%|██████████| 1/1 [00:00<00:00,  2.32it/s]"
          ]
        },
        {
          "name": "stdout",
          "output_type": "stream",
          "text": [
            "                   all         21         42      0.962      0.905      0.939       0.57\n"
          ]
        },
        {
          "name": "stderr",
          "output_type": "stream",
          "text": [
            "\n"
          ]
        },
        {
          "name": "stdout",
          "output_type": "stream",
          "text": [
            "\n",
            "      Epoch    GPU_mem   box_loss   cls_loss   dfl_loss  Instances       Size\n"
          ]
        },
        {
          "name": "stderr",
          "output_type": "stream",
          "text": [
            "     97/100      2.38G     0.6791     0.7057     0.8698         18        640: 100%|██████████| 5/5 [00:01<00:00,  2.90it/s]\n",
            "                 Class     Images  Instances      Box(P          R      mAP50  mAP50-95): 100%|██████████| 1/1 [00:00<00:00,  2.63it/s]"
          ]
        },
        {
          "name": "stdout",
          "output_type": "stream",
          "text": [
            "                   all         21         42      0.963      0.905      0.939      0.568\n"
          ]
        },
        {
          "name": "stderr",
          "output_type": "stream",
          "text": [
            "\n"
          ]
        },
        {
          "name": "stdout",
          "output_type": "stream",
          "text": [
            "\n",
            "      Epoch    GPU_mem   box_loss   cls_loss   dfl_loss  Instances       Size\n"
          ]
        },
        {
          "name": "stderr",
          "output_type": "stream",
          "text": [
            "     98/100      2.39G     0.6309     0.6853     0.8715         18        640: 100%|██████████| 5/5 [00:01<00:00,  4.54it/s]\n",
            "                 Class     Images  Instances      Box(P          R      mAP50  mAP50-95): 100%|██████████| 1/1 [00:00<00:00,  3.72it/s]"
          ]
        },
        {
          "name": "stdout",
          "output_type": "stream",
          "text": [
            "                   all         21         42      0.964      0.903      0.938      0.564\n"
          ]
        },
        {
          "name": "stderr",
          "output_type": "stream",
          "text": [
            "\n"
          ]
        },
        {
          "name": "stdout",
          "output_type": "stream",
          "text": [
            "\n",
            "      Epoch    GPU_mem   box_loss   cls_loss   dfl_loss  Instances       Size\n"
          ]
        },
        {
          "name": "stderr",
          "output_type": "stream",
          "text": [
            "     99/100      2.39G     0.6548     0.6673      0.856         18        640: 100%|██████████| 5/5 [00:01<00:00,  4.68it/s]\n",
            "                 Class     Images  Instances      Box(P          R      mAP50  mAP50-95): 100%|██████████| 1/1 [00:00<00:00,  2.81it/s]"
          ]
        },
        {
          "name": "stdout",
          "output_type": "stream",
          "text": [
            "                   all         21         42      0.963      0.904      0.937      0.566\n"
          ]
        },
        {
          "name": "stderr",
          "output_type": "stream",
          "text": [
            "\n"
          ]
        },
        {
          "name": "stdout",
          "output_type": "stream",
          "text": [
            "\n",
            "      Epoch    GPU_mem   box_loss   cls_loss   dfl_loss  Instances       Size\n"
          ]
        },
        {
          "name": "stderr",
          "output_type": "stream",
          "text": [
            "    100/100      2.39G     0.6464     0.6876     0.8649         18        640: 100%|██████████| 5/5 [00:01<00:00,  4.06it/s]\n",
            "                 Class     Images  Instances      Box(P          R      mAP50  mAP50-95): 100%|██████████| 1/1 [00:00<00:00,  4.80it/s]"
          ]
        },
        {
          "name": "stdout",
          "output_type": "stream",
          "text": [
            "                   all         21         42      0.965      0.905      0.938      0.563\n"
          ]
        },
        {
          "name": "stderr",
          "output_type": "stream",
          "text": [
            "\n"
          ]
        },
        {
          "name": "stdout",
          "output_type": "stream",
          "text": [
            "\n",
            "100 epochs completed in 0.092 hours.\n",
            "Optimizer stripped from runs/detect/train/weights/last.pt, 5.5MB\n",
            "Optimizer stripped from runs/detect/train/weights/best.pt, 5.5MB\n",
            "\n",
            "Validating runs/detect/train/weights/best.pt...\n",
            "Ultralytics 8.3.13 🚀 Python-3.10.12 torch-2.4.1+cu121 CUDA:0 (Tesla T4, 15102MiB)\n",
            "YOLO11n summary (fused): 238 layers, 2,582,542 parameters, 0 gradients, 6.3 GFLOPs\n"
          ]
        },
        {
          "name": "stderr",
          "output_type": "stream",
          "text": [
            "                 Class     Images  Instances      Box(P          R      mAP50  mAP50-95): 100%|██████████| 1/1 [00:00<00:00,  4.98it/s]\n"
          ]
        },
        {
          "name": "stdout",
          "output_type": "stream",
          "text": [
            "                   all         21         42      0.971        0.9      0.947      0.578\n",
            "                liters         21         21          1      0.847      0.939      0.547\n",
            "                meters         21         21      0.941      0.952      0.955      0.609\n",
            "Speed: 0.2ms preprocess, 3.1ms inference, 0.0ms loss, 1.2ms postprocess per image\n",
            "Results saved to \u001b[1mruns/detect/train\u001b[0m\n"
          ]
        },
        {
          "data": {
            "text/plain": [
              "ultralytics.utils.metrics.DetMetrics object with attributes:\n",
              "\n",
              "ap_class_index: array([0, 1])\n",
              "box: ultralytics.utils.metrics.Metric object\n",
              "confusion_matrix: <ultralytics.utils.metrics.ConfusionMatrix object at 0x7d46923e3bb0>\n",
              "curves: ['Precision-Recall(B)', 'F1-Confidence(B)', 'Precision-Confidence(B)', 'Recall-Confidence(B)']\n",
              "curves_results: [[array([          0,    0.001001,    0.002002,    0.003003,    0.004004,    0.005005,    0.006006,    0.007007,    0.008008,    0.009009,     0.01001,    0.011011,    0.012012,    0.013013,    0.014014,    0.015015,    0.016016,    0.017017,    0.018018,    0.019019,     0.02002,    0.021021,    0.022022,    0.023023,\n",
              "          0.024024,    0.025025,    0.026026,    0.027027,    0.028028,    0.029029,     0.03003,    0.031031,    0.032032,    0.033033,    0.034034,    0.035035,    0.036036,    0.037037,    0.038038,    0.039039,     0.04004,    0.041041,    0.042042,    0.043043,    0.044044,    0.045045,    0.046046,    0.047047,\n",
              "          0.048048,    0.049049,     0.05005,    0.051051,    0.052052,    0.053053,    0.054054,    0.055055,    0.056056,    0.057057,    0.058058,    0.059059,     0.06006,    0.061061,    0.062062,    0.063063,    0.064064,    0.065065,    0.066066,    0.067067,    0.068068,    0.069069,     0.07007,    0.071071,\n",
              "          0.072072,    0.073073,    0.074074,    0.075075,    0.076076,    0.077077,    0.078078,    0.079079,     0.08008,    0.081081,    0.082082,    0.083083,    0.084084,    0.085085,    0.086086,    0.087087,    0.088088,    0.089089,     0.09009,    0.091091,    0.092092,    0.093093,    0.094094,    0.095095,\n",
              "          0.096096,    0.097097,    0.098098,    0.099099,      0.1001,      0.1011,      0.1021,      0.1031,      0.1041,     0.10511,     0.10611,     0.10711,     0.10811,     0.10911,     0.11011,     0.11111,     0.11211,     0.11311,     0.11411,     0.11512,     0.11612,     0.11712,     0.11812,     0.11912,\n",
              "           0.12012,     0.12112,     0.12212,     0.12312,     0.12412,     0.12513,     0.12613,     0.12713,     0.12813,     0.12913,     0.13013,     0.13113,     0.13213,     0.13313,     0.13413,     0.13514,     0.13614,     0.13714,     0.13814,     0.13914,     0.14014,     0.14114,     0.14214,     0.14314,\n",
              "           0.14414,     0.14515,     0.14615,     0.14715,     0.14815,     0.14915,     0.15015,     0.15115,     0.15215,     0.15315,     0.15415,     0.15516,     0.15616,     0.15716,     0.15816,     0.15916,     0.16016,     0.16116,     0.16216,     0.16316,     0.16416,     0.16517,     0.16617,     0.16717,\n",
              "           0.16817,     0.16917,     0.17017,     0.17117,     0.17217,     0.17317,     0.17417,     0.17518,     0.17618,     0.17718,     0.17818,     0.17918,     0.18018,     0.18118,     0.18218,     0.18318,     0.18418,     0.18519,     0.18619,     0.18719,     0.18819,     0.18919,     0.19019,     0.19119,\n",
              "           0.19219,     0.19319,     0.19419,      0.1952,      0.1962,      0.1972,      0.1982,      0.1992,      0.2002,      0.2012,      0.2022,      0.2032,      0.2042,     0.20521,     0.20621,     0.20721,     0.20821,     0.20921,     0.21021,     0.21121,     0.21221,     0.21321,     0.21421,     0.21522,\n",
              "           0.21622,     0.21722,     0.21822,     0.21922,     0.22022,     0.22122,     0.22222,     0.22322,     0.22422,     0.22523,     0.22623,     0.22723,     0.22823,     0.22923,     0.23023,     0.23123,     0.23223,     0.23323,     0.23423,     0.23524,     0.23624,     0.23724,     0.23824,     0.23924,\n",
              "           0.24024,     0.24124,     0.24224,     0.24324,     0.24424,     0.24525,     0.24625,     0.24725,     0.24825,     0.24925,     0.25025,     0.25125,     0.25225,     0.25325,     0.25425,     0.25526,     0.25626,     0.25726,     0.25826,     0.25926,     0.26026,     0.26126,     0.26226,     0.26326,\n",
              "           0.26426,     0.26527,     0.26627,     0.26727,     0.26827,     0.26927,     0.27027,     0.27127,     0.27227,     0.27327,     0.27427,     0.27528,     0.27628,     0.27728,     0.27828,     0.27928,     0.28028,     0.28128,     0.28228,     0.28328,     0.28428,     0.28529,     0.28629,     0.28729,\n",
              "           0.28829,     0.28929,     0.29029,     0.29129,     0.29229,     0.29329,     0.29429,      0.2953,      0.2963,      0.2973,      0.2983,      0.2993,      0.3003,      0.3013,      0.3023,      0.3033,      0.3043,     0.30531,     0.30631,     0.30731,     0.30831,     0.30931,     0.31031,     0.31131,\n",
              "           0.31231,     0.31331,     0.31431,     0.31532,     0.31632,     0.31732,     0.31832,     0.31932,     0.32032,     0.32132,     0.32232,     0.32332,     0.32432,     0.32533,     0.32633,     0.32733,     0.32833,     0.32933,     0.33033,     0.33133,     0.33233,     0.33333,     0.33433,     0.33534,\n",
              "           0.33634,     0.33734,     0.33834,     0.33934,     0.34034,     0.34134,     0.34234,     0.34334,     0.34434,     0.34535,     0.34635,     0.34735,     0.34835,     0.34935,     0.35035,     0.35135,     0.35235,     0.35335,     0.35435,     0.35536,     0.35636,     0.35736,     0.35836,     0.35936,\n",
              "           0.36036,     0.36136,     0.36236,     0.36336,     0.36436,     0.36537,     0.36637,     0.36737,     0.36837,     0.36937,     0.37037,     0.37137,     0.37237,     0.37337,     0.37437,     0.37538,     0.37638,     0.37738,     0.37838,     0.37938,     0.38038,     0.38138,     0.38238,     0.38338,\n",
              "           0.38438,     0.38539,     0.38639,     0.38739,     0.38839,     0.38939,     0.39039,     0.39139,     0.39239,     0.39339,     0.39439,      0.3954,      0.3964,      0.3974,      0.3984,      0.3994,      0.4004,      0.4014,      0.4024,      0.4034,      0.4044,     0.40541,     0.40641,     0.40741,\n",
              "           0.40841,     0.40941,     0.41041,     0.41141,     0.41241,     0.41341,     0.41441,     0.41542,     0.41642,     0.41742,     0.41842,     0.41942,     0.42042,     0.42142,     0.42242,     0.42342,     0.42442,     0.42543,     0.42643,     0.42743,     0.42843,     0.42943,     0.43043,     0.43143,\n",
              "           0.43243,     0.43343,     0.43443,     0.43544,     0.43644,     0.43744,     0.43844,     0.43944,     0.44044,     0.44144,     0.44244,     0.44344,     0.44444,     0.44545,     0.44645,     0.44745,     0.44845,     0.44945,     0.45045,     0.45145,     0.45245,     0.45345,     0.45445,     0.45546,\n",
              "           0.45646,     0.45746,     0.45846,     0.45946,     0.46046,     0.46146,     0.46246,     0.46346,     0.46446,     0.46547,     0.46647,     0.46747,     0.46847,     0.46947,     0.47047,     0.47147,     0.47247,     0.47347,     0.47447,     0.47548,     0.47648,     0.47748,     0.47848,     0.47948,\n",
              "           0.48048,     0.48148,     0.48248,     0.48348,     0.48448,     0.48549,     0.48649,     0.48749,     0.48849,     0.48949,     0.49049,     0.49149,     0.49249,     0.49349,     0.49449,      0.4955,      0.4965,      0.4975,      0.4985,      0.4995,      0.5005,      0.5015,      0.5025,      0.5035,\n",
              "            0.5045,     0.50551,     0.50651,     0.50751,     0.50851,     0.50951,     0.51051,     0.51151,     0.51251,     0.51351,     0.51451,     0.51552,     0.51652,     0.51752,     0.51852,     0.51952,     0.52052,     0.52152,     0.52252,     0.52352,     0.52452,     0.52553,     0.52653,     0.52753,\n",
              "           0.52853,     0.52953,     0.53053,     0.53153,     0.53253,     0.53353,     0.53453,     0.53554,     0.53654,     0.53754,     0.53854,     0.53954,     0.54054,     0.54154,     0.54254,     0.54354,     0.54454,     0.54555,     0.54655,     0.54755,     0.54855,     0.54955,     0.55055,     0.55155,\n",
              "           0.55255,     0.55355,     0.55455,     0.55556,     0.55656,     0.55756,     0.55856,     0.55956,     0.56056,     0.56156,     0.56256,     0.56356,     0.56456,     0.56557,     0.56657,     0.56757,     0.56857,     0.56957,     0.57057,     0.57157,     0.57257,     0.57357,     0.57457,     0.57558,\n",
              "           0.57658,     0.57758,     0.57858,     0.57958,     0.58058,     0.58158,     0.58258,     0.58358,     0.58458,     0.58559,     0.58659,     0.58759,     0.58859,     0.58959,     0.59059,     0.59159,     0.59259,     0.59359,     0.59459,      0.5956,      0.5966,      0.5976,      0.5986,      0.5996,\n",
              "            0.6006,      0.6016,      0.6026,      0.6036,      0.6046,     0.60561,     0.60661,     0.60761,     0.60861,     0.60961,     0.61061,     0.61161,     0.61261,     0.61361,     0.61461,     0.61562,     0.61662,     0.61762,     0.61862,     0.61962,     0.62062,     0.62162,     0.62262,     0.62362,\n",
              "           0.62462,     0.62563,     0.62663,     0.62763,     0.62863,     0.62963,     0.63063,     0.63163,     0.63263,     0.63363,     0.63463,     0.63564,     0.63664,     0.63764,     0.63864,     0.63964,     0.64064,     0.64164,     0.64264,     0.64364,     0.64464,     0.64565,     0.64665,     0.64765,\n",
              "           0.64865,     0.64965,     0.65065,     0.65165,     0.65265,     0.65365,     0.65465,     0.65566,     0.65666,     0.65766,     0.65866,     0.65966,     0.66066,     0.66166,     0.66266,     0.66366,     0.66466,     0.66567,     0.66667,     0.66767,     0.66867,     0.66967,     0.67067,     0.67167,\n",
              "           0.67267,     0.67367,     0.67467,     0.67568,     0.67668,     0.67768,     0.67868,     0.67968,     0.68068,     0.68168,     0.68268,     0.68368,     0.68468,     0.68569,     0.68669,     0.68769,     0.68869,     0.68969,     0.69069,     0.69169,     0.69269,     0.69369,     0.69469,      0.6957,\n",
              "            0.6967,      0.6977,      0.6987,      0.6997,      0.7007,      0.7017,      0.7027,      0.7037,      0.7047,     0.70571,     0.70671,     0.70771,     0.70871,     0.70971,     0.71071,     0.71171,     0.71271,     0.71371,     0.71471,     0.71572,     0.71672,     0.71772,     0.71872,     0.71972,\n",
              "           0.72072,     0.72172,     0.72272,     0.72372,     0.72472,     0.72573,     0.72673,     0.72773,     0.72873,     0.72973,     0.73073,     0.73173,     0.73273,     0.73373,     0.73473,     0.73574,     0.73674,     0.73774,     0.73874,     0.73974,     0.74074,     0.74174,     0.74274,     0.74374,\n",
              "           0.74474,     0.74575,     0.74675,     0.74775,     0.74875,     0.74975,     0.75075,     0.75175,     0.75275,     0.75375,     0.75475,     0.75576,     0.75676,     0.75776,     0.75876,     0.75976,     0.76076,     0.76176,     0.76276,     0.76376,     0.76476,     0.76577,     0.76677,     0.76777,\n",
              "           0.76877,     0.76977,     0.77077,     0.77177,     0.77277,     0.77377,     0.77477,     0.77578,     0.77678,     0.77778,     0.77878,     0.77978,     0.78078,     0.78178,     0.78278,     0.78378,     0.78478,     0.78579,     0.78679,     0.78779,     0.78879,     0.78979,     0.79079,     0.79179,\n",
              "           0.79279,     0.79379,     0.79479,      0.7958,      0.7968,      0.7978,      0.7988,      0.7998,      0.8008,      0.8018,      0.8028,      0.8038,      0.8048,     0.80581,     0.80681,     0.80781,     0.80881,     0.80981,     0.81081,     0.81181,     0.81281,     0.81381,     0.81481,     0.81582,\n",
              "           0.81682,     0.81782,     0.81882,     0.81982,     0.82082,     0.82182,     0.82282,     0.82382,     0.82482,     0.82583,     0.82683,     0.82783,     0.82883,     0.82983,     0.83083,     0.83183,     0.83283,     0.83383,     0.83483,     0.83584,     0.83684,     0.83784,     0.83884,     0.83984,\n",
              "           0.84084,     0.84184,     0.84284,     0.84384,     0.84484,     0.84585,     0.84685,     0.84785,     0.84885,     0.84985,     0.85085,     0.85185,     0.85285,     0.85385,     0.85485,     0.85586,     0.85686,     0.85786,     0.85886,     0.85986,     0.86086,     0.86186,     0.86286,     0.86386,\n",
              "           0.86486,     0.86587,     0.86687,     0.86787,     0.86887,     0.86987,     0.87087,     0.87187,     0.87287,     0.87387,     0.87487,     0.87588,     0.87688,     0.87788,     0.87888,     0.87988,     0.88088,     0.88188,     0.88288,     0.88388,     0.88488,     0.88589,     0.88689,     0.88789,\n",
              "           0.88889,     0.88989,     0.89089,     0.89189,     0.89289,     0.89389,     0.89489,      0.8959,      0.8969,      0.8979,      0.8989,      0.8999,      0.9009,      0.9019,      0.9029,      0.9039,      0.9049,     0.90591,     0.90691,     0.90791,     0.90891,     0.90991,     0.91091,     0.91191,\n",
              "           0.91291,     0.91391,     0.91491,     0.91592,     0.91692,     0.91792,     0.91892,     0.91992,     0.92092,     0.92192,     0.92292,     0.92392,     0.92492,     0.92593,     0.92693,     0.92793,     0.92893,     0.92993,     0.93093,     0.93193,     0.93293,     0.93393,     0.93493,     0.93594,\n",
              "           0.93694,     0.93794,     0.93894,     0.93994,     0.94094,     0.94194,     0.94294,     0.94394,     0.94494,     0.94595,     0.94695,     0.94795,     0.94895,     0.94995,     0.95095,     0.95195,     0.95295,     0.95395,     0.95495,     0.95596,     0.95696,     0.95796,     0.95896,     0.95996,\n",
              "           0.96096,     0.96196,     0.96296,     0.96396,     0.96496,     0.96597,     0.96697,     0.96797,     0.96897,     0.96997,     0.97097,     0.97197,     0.97297,     0.97397,     0.97497,     0.97598,     0.97698,     0.97798,     0.97898,     0.97998,     0.98098,     0.98198,     0.98298,     0.98398,\n",
              "           0.98498,     0.98599,     0.98699,     0.98799,     0.98899,     0.98999,     0.99099,     0.99199,     0.99299,     0.99399,     0.99499,       0.996,       0.997,       0.998,       0.999,           1]), array([[          1,           1,           1, ...,  0.00032987,  0.00016494,           0],\n",
              "       [          1,           1,           1, ...,  0.00022416,  0.00011208,           0]]), 'Recall', 'Precision'], [array([          0,    0.001001,    0.002002,    0.003003,    0.004004,    0.005005,    0.006006,    0.007007,    0.008008,    0.009009,     0.01001,    0.011011,    0.012012,    0.013013,    0.014014,    0.015015,    0.016016,    0.017017,    0.018018,    0.019019,     0.02002,    0.021021,    0.022022,    0.023023,\n",
              "          0.024024,    0.025025,    0.026026,    0.027027,    0.028028,    0.029029,     0.03003,    0.031031,    0.032032,    0.033033,    0.034034,    0.035035,    0.036036,    0.037037,    0.038038,    0.039039,     0.04004,    0.041041,    0.042042,    0.043043,    0.044044,    0.045045,    0.046046,    0.047047,\n",
              "          0.048048,    0.049049,     0.05005,    0.051051,    0.052052,    0.053053,    0.054054,    0.055055,    0.056056,    0.057057,    0.058058,    0.059059,     0.06006,    0.061061,    0.062062,    0.063063,    0.064064,    0.065065,    0.066066,    0.067067,    0.068068,    0.069069,     0.07007,    0.071071,\n",
              "          0.072072,    0.073073,    0.074074,    0.075075,    0.076076,    0.077077,    0.078078,    0.079079,     0.08008,    0.081081,    0.082082,    0.083083,    0.084084,    0.085085,    0.086086,    0.087087,    0.088088,    0.089089,     0.09009,    0.091091,    0.092092,    0.093093,    0.094094,    0.095095,\n",
              "          0.096096,    0.097097,    0.098098,    0.099099,      0.1001,      0.1011,      0.1021,      0.1031,      0.1041,     0.10511,     0.10611,     0.10711,     0.10811,     0.10911,     0.11011,     0.11111,     0.11211,     0.11311,     0.11411,     0.11512,     0.11612,     0.11712,     0.11812,     0.11912,\n",
              "           0.12012,     0.12112,     0.12212,     0.12312,     0.12412,     0.12513,     0.12613,     0.12713,     0.12813,     0.12913,     0.13013,     0.13113,     0.13213,     0.13313,     0.13413,     0.13514,     0.13614,     0.13714,     0.13814,     0.13914,     0.14014,     0.14114,     0.14214,     0.14314,\n",
              "           0.14414,     0.14515,     0.14615,     0.14715,     0.14815,     0.14915,     0.15015,     0.15115,     0.15215,     0.15315,     0.15415,     0.15516,     0.15616,     0.15716,     0.15816,     0.15916,     0.16016,     0.16116,     0.16216,     0.16316,     0.16416,     0.16517,     0.16617,     0.16717,\n",
              "           0.16817,     0.16917,     0.17017,     0.17117,     0.17217,     0.17317,     0.17417,     0.17518,     0.17618,     0.17718,     0.17818,     0.17918,     0.18018,     0.18118,     0.18218,     0.18318,     0.18418,     0.18519,     0.18619,     0.18719,     0.18819,     0.18919,     0.19019,     0.19119,\n",
              "           0.19219,     0.19319,     0.19419,      0.1952,      0.1962,      0.1972,      0.1982,      0.1992,      0.2002,      0.2012,      0.2022,      0.2032,      0.2042,     0.20521,     0.20621,     0.20721,     0.20821,     0.20921,     0.21021,     0.21121,     0.21221,     0.21321,     0.21421,     0.21522,\n",
              "           0.21622,     0.21722,     0.21822,     0.21922,     0.22022,     0.22122,     0.22222,     0.22322,     0.22422,     0.22523,     0.22623,     0.22723,     0.22823,     0.22923,     0.23023,     0.23123,     0.23223,     0.23323,     0.23423,     0.23524,     0.23624,     0.23724,     0.23824,     0.23924,\n",
              "           0.24024,     0.24124,     0.24224,     0.24324,     0.24424,     0.24525,     0.24625,     0.24725,     0.24825,     0.24925,     0.25025,     0.25125,     0.25225,     0.25325,     0.25425,     0.25526,     0.25626,     0.25726,     0.25826,     0.25926,     0.26026,     0.26126,     0.26226,     0.26326,\n",
              "           0.26426,     0.26527,     0.26627,     0.26727,     0.26827,     0.26927,     0.27027,     0.27127,     0.27227,     0.27327,     0.27427,     0.27528,     0.27628,     0.27728,     0.27828,     0.27928,     0.28028,     0.28128,     0.28228,     0.28328,     0.28428,     0.28529,     0.28629,     0.28729,\n",
              "           0.28829,     0.28929,     0.29029,     0.29129,     0.29229,     0.29329,     0.29429,      0.2953,      0.2963,      0.2973,      0.2983,      0.2993,      0.3003,      0.3013,      0.3023,      0.3033,      0.3043,     0.30531,     0.30631,     0.30731,     0.30831,     0.30931,     0.31031,     0.31131,\n",
              "           0.31231,     0.31331,     0.31431,     0.31532,     0.31632,     0.31732,     0.31832,     0.31932,     0.32032,     0.32132,     0.32232,     0.32332,     0.32432,     0.32533,     0.32633,     0.32733,     0.32833,     0.32933,     0.33033,     0.33133,     0.33233,     0.33333,     0.33433,     0.33534,\n",
              "           0.33634,     0.33734,     0.33834,     0.33934,     0.34034,     0.34134,     0.34234,     0.34334,     0.34434,     0.34535,     0.34635,     0.34735,     0.34835,     0.34935,     0.35035,     0.35135,     0.35235,     0.35335,     0.35435,     0.35536,     0.35636,     0.35736,     0.35836,     0.35936,\n",
              "           0.36036,     0.36136,     0.36236,     0.36336,     0.36436,     0.36537,     0.36637,     0.36737,     0.36837,     0.36937,     0.37037,     0.37137,     0.37237,     0.37337,     0.37437,     0.37538,     0.37638,     0.37738,     0.37838,     0.37938,     0.38038,     0.38138,     0.38238,     0.38338,\n",
              "           0.38438,     0.38539,     0.38639,     0.38739,     0.38839,     0.38939,     0.39039,     0.39139,     0.39239,     0.39339,     0.39439,      0.3954,      0.3964,      0.3974,      0.3984,      0.3994,      0.4004,      0.4014,      0.4024,      0.4034,      0.4044,     0.40541,     0.40641,     0.40741,\n",
              "           0.40841,     0.40941,     0.41041,     0.41141,     0.41241,     0.41341,     0.41441,     0.41542,     0.41642,     0.41742,     0.41842,     0.41942,     0.42042,     0.42142,     0.42242,     0.42342,     0.42442,     0.42543,     0.42643,     0.42743,     0.42843,     0.42943,     0.43043,     0.43143,\n",
              "           0.43243,     0.43343,     0.43443,     0.43544,     0.43644,     0.43744,     0.43844,     0.43944,     0.44044,     0.44144,     0.44244,     0.44344,     0.44444,     0.44545,     0.44645,     0.44745,     0.44845,     0.44945,     0.45045,     0.45145,     0.45245,     0.45345,     0.45445,     0.45546,\n",
              "           0.45646,     0.45746,     0.45846,     0.45946,     0.46046,     0.46146,     0.46246,     0.46346,     0.46446,     0.46547,     0.46647,     0.46747,     0.46847,     0.46947,     0.47047,     0.47147,     0.47247,     0.47347,     0.47447,     0.47548,     0.47648,     0.47748,     0.47848,     0.47948,\n",
              "           0.48048,     0.48148,     0.48248,     0.48348,     0.48448,     0.48549,     0.48649,     0.48749,     0.48849,     0.48949,     0.49049,     0.49149,     0.49249,     0.49349,     0.49449,      0.4955,      0.4965,      0.4975,      0.4985,      0.4995,      0.5005,      0.5015,      0.5025,      0.5035,\n",
              "            0.5045,     0.50551,     0.50651,     0.50751,     0.50851,     0.50951,     0.51051,     0.51151,     0.51251,     0.51351,     0.51451,     0.51552,     0.51652,     0.51752,     0.51852,     0.51952,     0.52052,     0.52152,     0.52252,     0.52352,     0.52452,     0.52553,     0.52653,     0.52753,\n",
              "           0.52853,     0.52953,     0.53053,     0.53153,     0.53253,     0.53353,     0.53453,     0.53554,     0.53654,     0.53754,     0.53854,     0.53954,     0.54054,     0.54154,     0.54254,     0.54354,     0.54454,     0.54555,     0.54655,     0.54755,     0.54855,     0.54955,     0.55055,     0.55155,\n",
              "           0.55255,     0.55355,     0.55455,     0.55556,     0.55656,     0.55756,     0.55856,     0.55956,     0.56056,     0.56156,     0.56256,     0.56356,     0.56456,     0.56557,     0.56657,     0.56757,     0.56857,     0.56957,     0.57057,     0.57157,     0.57257,     0.57357,     0.57457,     0.57558,\n",
              "           0.57658,     0.57758,     0.57858,     0.57958,     0.58058,     0.58158,     0.58258,     0.58358,     0.58458,     0.58559,     0.58659,     0.58759,     0.58859,     0.58959,     0.59059,     0.59159,     0.59259,     0.59359,     0.59459,      0.5956,      0.5966,      0.5976,      0.5986,      0.5996,\n",
              "            0.6006,      0.6016,      0.6026,      0.6036,      0.6046,     0.60561,     0.60661,     0.60761,     0.60861,     0.60961,     0.61061,     0.61161,     0.61261,     0.61361,     0.61461,     0.61562,     0.61662,     0.61762,     0.61862,     0.61962,     0.62062,     0.62162,     0.62262,     0.62362,\n",
              "           0.62462,     0.62563,     0.62663,     0.62763,     0.62863,     0.62963,     0.63063,     0.63163,     0.63263,     0.63363,     0.63463,     0.63564,     0.63664,     0.63764,     0.63864,     0.63964,     0.64064,     0.64164,     0.64264,     0.64364,     0.64464,     0.64565,     0.64665,     0.64765,\n",
              "           0.64865,     0.64965,     0.65065,     0.65165,     0.65265,     0.65365,     0.65465,     0.65566,     0.65666,     0.65766,     0.65866,     0.65966,     0.66066,     0.66166,     0.66266,     0.66366,     0.66466,     0.66567,     0.66667,     0.66767,     0.66867,     0.66967,     0.67067,     0.67167,\n",
              "           0.67267,     0.67367,     0.67467,     0.67568,     0.67668,     0.67768,     0.67868,     0.67968,     0.68068,     0.68168,     0.68268,     0.68368,     0.68468,     0.68569,     0.68669,     0.68769,     0.68869,     0.68969,     0.69069,     0.69169,     0.69269,     0.69369,     0.69469,      0.6957,\n",
              "            0.6967,      0.6977,      0.6987,      0.6997,      0.7007,      0.7017,      0.7027,      0.7037,      0.7047,     0.70571,     0.70671,     0.70771,     0.70871,     0.70971,     0.71071,     0.71171,     0.71271,     0.71371,     0.71471,     0.71572,     0.71672,     0.71772,     0.71872,     0.71972,\n",
              "           0.72072,     0.72172,     0.72272,     0.72372,     0.72472,     0.72573,     0.72673,     0.72773,     0.72873,     0.72973,     0.73073,     0.73173,     0.73273,     0.73373,     0.73473,     0.73574,     0.73674,     0.73774,     0.73874,     0.73974,     0.74074,     0.74174,     0.74274,     0.74374,\n",
              "           0.74474,     0.74575,     0.74675,     0.74775,     0.74875,     0.74975,     0.75075,     0.75175,     0.75275,     0.75375,     0.75475,     0.75576,     0.75676,     0.75776,     0.75876,     0.75976,     0.76076,     0.76176,     0.76276,     0.76376,     0.76476,     0.76577,     0.76677,     0.76777,\n",
              "           0.76877,     0.76977,     0.77077,     0.77177,     0.77277,     0.77377,     0.77477,     0.77578,     0.77678,     0.77778,     0.77878,     0.77978,     0.78078,     0.78178,     0.78278,     0.78378,     0.78478,     0.78579,     0.78679,     0.78779,     0.78879,     0.78979,     0.79079,     0.79179,\n",
              "           0.79279,     0.79379,     0.79479,      0.7958,      0.7968,      0.7978,      0.7988,      0.7998,      0.8008,      0.8018,      0.8028,      0.8038,      0.8048,     0.80581,     0.80681,     0.80781,     0.80881,     0.80981,     0.81081,     0.81181,     0.81281,     0.81381,     0.81481,     0.81582,\n",
              "           0.81682,     0.81782,     0.81882,     0.81982,     0.82082,     0.82182,     0.82282,     0.82382,     0.82482,     0.82583,     0.82683,     0.82783,     0.82883,     0.82983,     0.83083,     0.83183,     0.83283,     0.83383,     0.83483,     0.83584,     0.83684,     0.83784,     0.83884,     0.83984,\n",
              "           0.84084,     0.84184,     0.84284,     0.84384,     0.84484,     0.84585,     0.84685,     0.84785,     0.84885,     0.84985,     0.85085,     0.85185,     0.85285,     0.85385,     0.85485,     0.85586,     0.85686,     0.85786,     0.85886,     0.85986,     0.86086,     0.86186,     0.86286,     0.86386,\n",
              "           0.86486,     0.86587,     0.86687,     0.86787,     0.86887,     0.86987,     0.87087,     0.87187,     0.87287,     0.87387,     0.87487,     0.87588,     0.87688,     0.87788,     0.87888,     0.87988,     0.88088,     0.88188,     0.88288,     0.88388,     0.88488,     0.88589,     0.88689,     0.88789,\n",
              "           0.88889,     0.88989,     0.89089,     0.89189,     0.89289,     0.89389,     0.89489,      0.8959,      0.8969,      0.8979,      0.8989,      0.8999,      0.9009,      0.9019,      0.9029,      0.9039,      0.9049,     0.90591,     0.90691,     0.90791,     0.90891,     0.90991,     0.91091,     0.91191,\n",
              "           0.91291,     0.91391,     0.91491,     0.91592,     0.91692,     0.91792,     0.91892,     0.91992,     0.92092,     0.92192,     0.92292,     0.92392,     0.92492,     0.92593,     0.92693,     0.92793,     0.92893,     0.92993,     0.93093,     0.93193,     0.93293,     0.93393,     0.93493,     0.93594,\n",
              "           0.93694,     0.93794,     0.93894,     0.93994,     0.94094,     0.94194,     0.94294,     0.94394,     0.94494,     0.94595,     0.94695,     0.94795,     0.94895,     0.94995,     0.95095,     0.95195,     0.95295,     0.95395,     0.95495,     0.95596,     0.95696,     0.95796,     0.95896,     0.95996,\n",
              "           0.96096,     0.96196,     0.96296,     0.96396,     0.96496,     0.96597,     0.96697,     0.96797,     0.96897,     0.96997,     0.97097,     0.97197,     0.97297,     0.97397,     0.97497,     0.97598,     0.97698,     0.97798,     0.97898,     0.97998,     0.98098,     0.98198,     0.98298,     0.98398,\n",
              "           0.98498,     0.98599,     0.98699,     0.98799,     0.98899,     0.98999,     0.99099,     0.99199,     0.99299,     0.99399,     0.99499,       0.996,       0.997,       0.998,       0.999,           1]), array([[   0.015564,    0.015564,    0.074753, ...,           0,           0,           0],\n",
              "       [   0.010604,    0.010604,    0.046779, ...,           0,           0,           0]]), 'Confidence', 'F1'], [array([          0,    0.001001,    0.002002,    0.003003,    0.004004,    0.005005,    0.006006,    0.007007,    0.008008,    0.009009,     0.01001,    0.011011,    0.012012,    0.013013,    0.014014,    0.015015,    0.016016,    0.017017,    0.018018,    0.019019,     0.02002,    0.021021,    0.022022,    0.023023,\n",
              "          0.024024,    0.025025,    0.026026,    0.027027,    0.028028,    0.029029,     0.03003,    0.031031,    0.032032,    0.033033,    0.034034,    0.035035,    0.036036,    0.037037,    0.038038,    0.039039,     0.04004,    0.041041,    0.042042,    0.043043,    0.044044,    0.045045,    0.046046,    0.047047,\n",
              "          0.048048,    0.049049,     0.05005,    0.051051,    0.052052,    0.053053,    0.054054,    0.055055,    0.056056,    0.057057,    0.058058,    0.059059,     0.06006,    0.061061,    0.062062,    0.063063,    0.064064,    0.065065,    0.066066,    0.067067,    0.068068,    0.069069,     0.07007,    0.071071,\n",
              "          0.072072,    0.073073,    0.074074,    0.075075,    0.076076,    0.077077,    0.078078,    0.079079,     0.08008,    0.081081,    0.082082,    0.083083,    0.084084,    0.085085,    0.086086,    0.087087,    0.088088,    0.089089,     0.09009,    0.091091,    0.092092,    0.093093,    0.094094,    0.095095,\n",
              "          0.096096,    0.097097,    0.098098,    0.099099,      0.1001,      0.1011,      0.1021,      0.1031,      0.1041,     0.10511,     0.10611,     0.10711,     0.10811,     0.10911,     0.11011,     0.11111,     0.11211,     0.11311,     0.11411,     0.11512,     0.11612,     0.11712,     0.11812,     0.11912,\n",
              "           0.12012,     0.12112,     0.12212,     0.12312,     0.12412,     0.12513,     0.12613,     0.12713,     0.12813,     0.12913,     0.13013,     0.13113,     0.13213,     0.13313,     0.13413,     0.13514,     0.13614,     0.13714,     0.13814,     0.13914,     0.14014,     0.14114,     0.14214,     0.14314,\n",
              "           0.14414,     0.14515,     0.14615,     0.14715,     0.14815,     0.14915,     0.15015,     0.15115,     0.15215,     0.15315,     0.15415,     0.15516,     0.15616,     0.15716,     0.15816,     0.15916,     0.16016,     0.16116,     0.16216,     0.16316,     0.16416,     0.16517,     0.16617,     0.16717,\n",
              "           0.16817,     0.16917,     0.17017,     0.17117,     0.17217,     0.17317,     0.17417,     0.17518,     0.17618,     0.17718,     0.17818,     0.17918,     0.18018,     0.18118,     0.18218,     0.18318,     0.18418,     0.18519,     0.18619,     0.18719,     0.18819,     0.18919,     0.19019,     0.19119,\n",
              "           0.19219,     0.19319,     0.19419,      0.1952,      0.1962,      0.1972,      0.1982,      0.1992,      0.2002,      0.2012,      0.2022,      0.2032,      0.2042,     0.20521,     0.20621,     0.20721,     0.20821,     0.20921,     0.21021,     0.21121,     0.21221,     0.21321,     0.21421,     0.21522,\n",
              "           0.21622,     0.21722,     0.21822,     0.21922,     0.22022,     0.22122,     0.22222,     0.22322,     0.22422,     0.22523,     0.22623,     0.22723,     0.22823,     0.22923,     0.23023,     0.23123,     0.23223,     0.23323,     0.23423,     0.23524,     0.23624,     0.23724,     0.23824,     0.23924,\n",
              "           0.24024,     0.24124,     0.24224,     0.24324,     0.24424,     0.24525,     0.24625,     0.24725,     0.24825,     0.24925,     0.25025,     0.25125,     0.25225,     0.25325,     0.25425,     0.25526,     0.25626,     0.25726,     0.25826,     0.25926,     0.26026,     0.26126,     0.26226,     0.26326,\n",
              "           0.26426,     0.26527,     0.26627,     0.26727,     0.26827,     0.26927,     0.27027,     0.27127,     0.27227,     0.27327,     0.27427,     0.27528,     0.27628,     0.27728,     0.27828,     0.27928,     0.28028,     0.28128,     0.28228,     0.28328,     0.28428,     0.28529,     0.28629,     0.28729,\n",
              "           0.28829,     0.28929,     0.29029,     0.29129,     0.29229,     0.29329,     0.29429,      0.2953,      0.2963,      0.2973,      0.2983,      0.2993,      0.3003,      0.3013,      0.3023,      0.3033,      0.3043,     0.30531,     0.30631,     0.30731,     0.30831,     0.30931,     0.31031,     0.31131,\n",
              "           0.31231,     0.31331,     0.31431,     0.31532,     0.31632,     0.31732,     0.31832,     0.31932,     0.32032,     0.32132,     0.32232,     0.32332,     0.32432,     0.32533,     0.32633,     0.32733,     0.32833,     0.32933,     0.33033,     0.33133,     0.33233,     0.33333,     0.33433,     0.33534,\n",
              "           0.33634,     0.33734,     0.33834,     0.33934,     0.34034,     0.34134,     0.34234,     0.34334,     0.34434,     0.34535,     0.34635,     0.34735,     0.34835,     0.34935,     0.35035,     0.35135,     0.35235,     0.35335,     0.35435,     0.35536,     0.35636,     0.35736,     0.35836,     0.35936,\n",
              "           0.36036,     0.36136,     0.36236,     0.36336,     0.36436,     0.36537,     0.36637,     0.36737,     0.36837,     0.36937,     0.37037,     0.37137,     0.37237,     0.37337,     0.37437,     0.37538,     0.37638,     0.37738,     0.37838,     0.37938,     0.38038,     0.38138,     0.38238,     0.38338,\n",
              "           0.38438,     0.38539,     0.38639,     0.38739,     0.38839,     0.38939,     0.39039,     0.39139,     0.39239,     0.39339,     0.39439,      0.3954,      0.3964,      0.3974,      0.3984,      0.3994,      0.4004,      0.4014,      0.4024,      0.4034,      0.4044,     0.40541,     0.40641,     0.40741,\n",
              "           0.40841,     0.40941,     0.41041,     0.41141,     0.41241,     0.41341,     0.41441,     0.41542,     0.41642,     0.41742,     0.41842,     0.41942,     0.42042,     0.42142,     0.42242,     0.42342,     0.42442,     0.42543,     0.42643,     0.42743,     0.42843,     0.42943,     0.43043,     0.43143,\n",
              "           0.43243,     0.43343,     0.43443,     0.43544,     0.43644,     0.43744,     0.43844,     0.43944,     0.44044,     0.44144,     0.44244,     0.44344,     0.44444,     0.44545,     0.44645,     0.44745,     0.44845,     0.44945,     0.45045,     0.45145,     0.45245,     0.45345,     0.45445,     0.45546,\n",
              "           0.45646,     0.45746,     0.45846,     0.45946,     0.46046,     0.46146,     0.46246,     0.46346,     0.46446,     0.46547,     0.46647,     0.46747,     0.46847,     0.46947,     0.47047,     0.47147,     0.47247,     0.47347,     0.47447,     0.47548,     0.47648,     0.47748,     0.47848,     0.47948,\n",
              "           0.48048,     0.48148,     0.48248,     0.48348,     0.48448,     0.48549,     0.48649,     0.48749,     0.48849,     0.48949,     0.49049,     0.49149,     0.49249,     0.49349,     0.49449,      0.4955,      0.4965,      0.4975,      0.4985,      0.4995,      0.5005,      0.5015,      0.5025,      0.5035,\n",
              "            0.5045,     0.50551,     0.50651,     0.50751,     0.50851,     0.50951,     0.51051,     0.51151,     0.51251,     0.51351,     0.51451,     0.51552,     0.51652,     0.51752,     0.51852,     0.51952,     0.52052,     0.52152,     0.52252,     0.52352,     0.52452,     0.52553,     0.52653,     0.52753,\n",
              "           0.52853,     0.52953,     0.53053,     0.53153,     0.53253,     0.53353,     0.53453,     0.53554,     0.53654,     0.53754,     0.53854,     0.53954,     0.54054,     0.54154,     0.54254,     0.54354,     0.54454,     0.54555,     0.54655,     0.54755,     0.54855,     0.54955,     0.55055,     0.55155,\n",
              "           0.55255,     0.55355,     0.55455,     0.55556,     0.55656,     0.55756,     0.55856,     0.55956,     0.56056,     0.56156,     0.56256,     0.56356,     0.56456,     0.56557,     0.56657,     0.56757,     0.56857,     0.56957,     0.57057,     0.57157,     0.57257,     0.57357,     0.57457,     0.57558,\n",
              "           0.57658,     0.57758,     0.57858,     0.57958,     0.58058,     0.58158,     0.58258,     0.58358,     0.58458,     0.58559,     0.58659,     0.58759,     0.58859,     0.58959,     0.59059,     0.59159,     0.59259,     0.59359,     0.59459,      0.5956,      0.5966,      0.5976,      0.5986,      0.5996,\n",
              "            0.6006,      0.6016,      0.6026,      0.6036,      0.6046,     0.60561,     0.60661,     0.60761,     0.60861,     0.60961,     0.61061,     0.61161,     0.61261,     0.61361,     0.61461,     0.61562,     0.61662,     0.61762,     0.61862,     0.61962,     0.62062,     0.62162,     0.62262,     0.62362,\n",
              "           0.62462,     0.62563,     0.62663,     0.62763,     0.62863,     0.62963,     0.63063,     0.63163,     0.63263,     0.63363,     0.63463,     0.63564,     0.63664,     0.63764,     0.63864,     0.63964,     0.64064,     0.64164,     0.64264,     0.64364,     0.64464,     0.64565,     0.64665,     0.64765,\n",
              "           0.64865,     0.64965,     0.65065,     0.65165,     0.65265,     0.65365,     0.65465,     0.65566,     0.65666,     0.65766,     0.65866,     0.65966,     0.66066,     0.66166,     0.66266,     0.66366,     0.66466,     0.66567,     0.66667,     0.66767,     0.66867,     0.66967,     0.67067,     0.67167,\n",
              "           0.67267,     0.67367,     0.67467,     0.67568,     0.67668,     0.67768,     0.67868,     0.67968,     0.68068,     0.68168,     0.68268,     0.68368,     0.68468,     0.68569,     0.68669,     0.68769,     0.68869,     0.68969,     0.69069,     0.69169,     0.69269,     0.69369,     0.69469,      0.6957,\n",
              "            0.6967,      0.6977,      0.6987,      0.6997,      0.7007,      0.7017,      0.7027,      0.7037,      0.7047,     0.70571,     0.70671,     0.70771,     0.70871,     0.70971,     0.71071,     0.71171,     0.71271,     0.71371,     0.71471,     0.71572,     0.71672,     0.71772,     0.71872,     0.71972,\n",
              "           0.72072,     0.72172,     0.72272,     0.72372,     0.72472,     0.72573,     0.72673,     0.72773,     0.72873,     0.72973,     0.73073,     0.73173,     0.73273,     0.73373,     0.73473,     0.73574,     0.73674,     0.73774,     0.73874,     0.73974,     0.74074,     0.74174,     0.74274,     0.74374,\n",
              "           0.74474,     0.74575,     0.74675,     0.74775,     0.74875,     0.74975,     0.75075,     0.75175,     0.75275,     0.75375,     0.75475,     0.75576,     0.75676,     0.75776,     0.75876,     0.75976,     0.76076,     0.76176,     0.76276,     0.76376,     0.76476,     0.76577,     0.76677,     0.76777,\n",
              "           0.76877,     0.76977,     0.77077,     0.77177,     0.77277,     0.77377,     0.77477,     0.77578,     0.77678,     0.77778,     0.77878,     0.77978,     0.78078,     0.78178,     0.78278,     0.78378,     0.78478,     0.78579,     0.78679,     0.78779,     0.78879,     0.78979,     0.79079,     0.79179,\n",
              "           0.79279,     0.79379,     0.79479,      0.7958,      0.7968,      0.7978,      0.7988,      0.7998,      0.8008,      0.8018,      0.8028,      0.8038,      0.8048,     0.80581,     0.80681,     0.80781,     0.80881,     0.80981,     0.81081,     0.81181,     0.81281,     0.81381,     0.81481,     0.81582,\n",
              "           0.81682,     0.81782,     0.81882,     0.81982,     0.82082,     0.82182,     0.82282,     0.82382,     0.82482,     0.82583,     0.82683,     0.82783,     0.82883,     0.82983,     0.83083,     0.83183,     0.83283,     0.83383,     0.83483,     0.83584,     0.83684,     0.83784,     0.83884,     0.83984,\n",
              "           0.84084,     0.84184,     0.84284,     0.84384,     0.84484,     0.84585,     0.84685,     0.84785,     0.84885,     0.84985,     0.85085,     0.85185,     0.85285,     0.85385,     0.85485,     0.85586,     0.85686,     0.85786,     0.85886,     0.85986,     0.86086,     0.86186,     0.86286,     0.86386,\n",
              "           0.86486,     0.86587,     0.86687,     0.86787,     0.86887,     0.86987,     0.87087,     0.87187,     0.87287,     0.87387,     0.87487,     0.87588,     0.87688,     0.87788,     0.87888,     0.87988,     0.88088,     0.88188,     0.88288,     0.88388,     0.88488,     0.88589,     0.88689,     0.88789,\n",
              "           0.88889,     0.88989,     0.89089,     0.89189,     0.89289,     0.89389,     0.89489,      0.8959,      0.8969,      0.8979,      0.8989,      0.8999,      0.9009,      0.9019,      0.9029,      0.9039,      0.9049,     0.90591,     0.90691,     0.90791,     0.90891,     0.90991,     0.91091,     0.91191,\n",
              "           0.91291,     0.91391,     0.91491,     0.91592,     0.91692,     0.91792,     0.91892,     0.91992,     0.92092,     0.92192,     0.92292,     0.92392,     0.92492,     0.92593,     0.92693,     0.92793,     0.92893,     0.92993,     0.93093,     0.93193,     0.93293,     0.93393,     0.93493,     0.93594,\n",
              "           0.93694,     0.93794,     0.93894,     0.93994,     0.94094,     0.94194,     0.94294,     0.94394,     0.94494,     0.94595,     0.94695,     0.94795,     0.94895,     0.94995,     0.95095,     0.95195,     0.95295,     0.95395,     0.95495,     0.95596,     0.95696,     0.95796,     0.95896,     0.95996,\n",
              "           0.96096,     0.96196,     0.96296,     0.96396,     0.96496,     0.96597,     0.96697,     0.96797,     0.96897,     0.96997,     0.97097,     0.97197,     0.97297,     0.97397,     0.97497,     0.97598,     0.97698,     0.97798,     0.97898,     0.97998,     0.98098,     0.98198,     0.98298,     0.98398,\n",
              "           0.98498,     0.98599,     0.98699,     0.98799,     0.98899,     0.98999,     0.99099,     0.99199,     0.99299,     0.99399,     0.99499,       0.996,       0.997,       0.998,       0.999,           1]), array([[  0.0078462,   0.0078462,    0.038903, ...,           1,           1,           1],\n",
              "       [  0.0053319,   0.0053319,    0.023978, ...,           1,           1,           1]]), 'Confidence', 'Precision'], [array([          0,    0.001001,    0.002002,    0.003003,    0.004004,    0.005005,    0.006006,    0.007007,    0.008008,    0.009009,     0.01001,    0.011011,    0.012012,    0.013013,    0.014014,    0.015015,    0.016016,    0.017017,    0.018018,    0.019019,     0.02002,    0.021021,    0.022022,    0.023023,\n",
              "          0.024024,    0.025025,    0.026026,    0.027027,    0.028028,    0.029029,     0.03003,    0.031031,    0.032032,    0.033033,    0.034034,    0.035035,    0.036036,    0.037037,    0.038038,    0.039039,     0.04004,    0.041041,    0.042042,    0.043043,    0.044044,    0.045045,    0.046046,    0.047047,\n",
              "          0.048048,    0.049049,     0.05005,    0.051051,    0.052052,    0.053053,    0.054054,    0.055055,    0.056056,    0.057057,    0.058058,    0.059059,     0.06006,    0.061061,    0.062062,    0.063063,    0.064064,    0.065065,    0.066066,    0.067067,    0.068068,    0.069069,     0.07007,    0.071071,\n",
              "          0.072072,    0.073073,    0.074074,    0.075075,    0.076076,    0.077077,    0.078078,    0.079079,     0.08008,    0.081081,    0.082082,    0.083083,    0.084084,    0.085085,    0.086086,    0.087087,    0.088088,    0.089089,     0.09009,    0.091091,    0.092092,    0.093093,    0.094094,    0.095095,\n",
              "          0.096096,    0.097097,    0.098098,    0.099099,      0.1001,      0.1011,      0.1021,      0.1031,      0.1041,     0.10511,     0.10611,     0.10711,     0.10811,     0.10911,     0.11011,     0.11111,     0.11211,     0.11311,     0.11411,     0.11512,     0.11612,     0.11712,     0.11812,     0.11912,\n",
              "           0.12012,     0.12112,     0.12212,     0.12312,     0.12412,     0.12513,     0.12613,     0.12713,     0.12813,     0.12913,     0.13013,     0.13113,     0.13213,     0.13313,     0.13413,     0.13514,     0.13614,     0.13714,     0.13814,     0.13914,     0.14014,     0.14114,     0.14214,     0.14314,\n",
              "           0.14414,     0.14515,     0.14615,     0.14715,     0.14815,     0.14915,     0.15015,     0.15115,     0.15215,     0.15315,     0.15415,     0.15516,     0.15616,     0.15716,     0.15816,     0.15916,     0.16016,     0.16116,     0.16216,     0.16316,     0.16416,     0.16517,     0.16617,     0.16717,\n",
              "           0.16817,     0.16917,     0.17017,     0.17117,     0.17217,     0.17317,     0.17417,     0.17518,     0.17618,     0.17718,     0.17818,     0.17918,     0.18018,     0.18118,     0.18218,     0.18318,     0.18418,     0.18519,     0.18619,     0.18719,     0.18819,     0.18919,     0.19019,     0.19119,\n",
              "           0.19219,     0.19319,     0.19419,      0.1952,      0.1962,      0.1972,      0.1982,      0.1992,      0.2002,      0.2012,      0.2022,      0.2032,      0.2042,     0.20521,     0.20621,     0.20721,     0.20821,     0.20921,     0.21021,     0.21121,     0.21221,     0.21321,     0.21421,     0.21522,\n",
              "           0.21622,     0.21722,     0.21822,     0.21922,     0.22022,     0.22122,     0.22222,     0.22322,     0.22422,     0.22523,     0.22623,     0.22723,     0.22823,     0.22923,     0.23023,     0.23123,     0.23223,     0.23323,     0.23423,     0.23524,     0.23624,     0.23724,     0.23824,     0.23924,\n",
              "           0.24024,     0.24124,     0.24224,     0.24324,     0.24424,     0.24525,     0.24625,     0.24725,     0.24825,     0.24925,     0.25025,     0.25125,     0.25225,     0.25325,     0.25425,     0.25526,     0.25626,     0.25726,     0.25826,     0.25926,     0.26026,     0.26126,     0.26226,     0.26326,\n",
              "           0.26426,     0.26527,     0.26627,     0.26727,     0.26827,     0.26927,     0.27027,     0.27127,     0.27227,     0.27327,     0.27427,     0.27528,     0.27628,     0.27728,     0.27828,     0.27928,     0.28028,     0.28128,     0.28228,     0.28328,     0.28428,     0.28529,     0.28629,     0.28729,\n",
              "           0.28829,     0.28929,     0.29029,     0.29129,     0.29229,     0.29329,     0.29429,      0.2953,      0.2963,      0.2973,      0.2983,      0.2993,      0.3003,      0.3013,      0.3023,      0.3033,      0.3043,     0.30531,     0.30631,     0.30731,     0.30831,     0.30931,     0.31031,     0.31131,\n",
              "           0.31231,     0.31331,     0.31431,     0.31532,     0.31632,     0.31732,     0.31832,     0.31932,     0.32032,     0.32132,     0.32232,     0.32332,     0.32432,     0.32533,     0.32633,     0.32733,     0.32833,     0.32933,     0.33033,     0.33133,     0.33233,     0.33333,     0.33433,     0.33534,\n",
              "           0.33634,     0.33734,     0.33834,     0.33934,     0.34034,     0.34134,     0.34234,     0.34334,     0.34434,     0.34535,     0.34635,     0.34735,     0.34835,     0.34935,     0.35035,     0.35135,     0.35235,     0.35335,     0.35435,     0.35536,     0.35636,     0.35736,     0.35836,     0.35936,\n",
              "           0.36036,     0.36136,     0.36236,     0.36336,     0.36436,     0.36537,     0.36637,     0.36737,     0.36837,     0.36937,     0.37037,     0.37137,     0.37237,     0.37337,     0.37437,     0.37538,     0.37638,     0.37738,     0.37838,     0.37938,     0.38038,     0.38138,     0.38238,     0.38338,\n",
              "           0.38438,     0.38539,     0.38639,     0.38739,     0.38839,     0.38939,     0.39039,     0.39139,     0.39239,     0.39339,     0.39439,      0.3954,      0.3964,      0.3974,      0.3984,      0.3994,      0.4004,      0.4014,      0.4024,      0.4034,      0.4044,     0.40541,     0.40641,     0.40741,\n",
              "           0.40841,     0.40941,     0.41041,     0.41141,     0.41241,     0.41341,     0.41441,     0.41542,     0.41642,     0.41742,     0.41842,     0.41942,     0.42042,     0.42142,     0.42242,     0.42342,     0.42442,     0.42543,     0.42643,     0.42743,     0.42843,     0.42943,     0.43043,     0.43143,\n",
              "           0.43243,     0.43343,     0.43443,     0.43544,     0.43644,     0.43744,     0.43844,     0.43944,     0.44044,     0.44144,     0.44244,     0.44344,     0.44444,     0.44545,     0.44645,     0.44745,     0.44845,     0.44945,     0.45045,     0.45145,     0.45245,     0.45345,     0.45445,     0.45546,\n",
              "           0.45646,     0.45746,     0.45846,     0.45946,     0.46046,     0.46146,     0.46246,     0.46346,     0.46446,     0.46547,     0.46647,     0.46747,     0.46847,     0.46947,     0.47047,     0.47147,     0.47247,     0.47347,     0.47447,     0.47548,     0.47648,     0.47748,     0.47848,     0.47948,\n",
              "           0.48048,     0.48148,     0.48248,     0.48348,     0.48448,     0.48549,     0.48649,     0.48749,     0.48849,     0.48949,     0.49049,     0.49149,     0.49249,     0.49349,     0.49449,      0.4955,      0.4965,      0.4975,      0.4985,      0.4995,      0.5005,      0.5015,      0.5025,      0.5035,\n",
              "            0.5045,     0.50551,     0.50651,     0.50751,     0.50851,     0.50951,     0.51051,     0.51151,     0.51251,     0.51351,     0.51451,     0.51552,     0.51652,     0.51752,     0.51852,     0.51952,     0.52052,     0.52152,     0.52252,     0.52352,     0.52452,     0.52553,     0.52653,     0.52753,\n",
              "           0.52853,     0.52953,     0.53053,     0.53153,     0.53253,     0.53353,     0.53453,     0.53554,     0.53654,     0.53754,     0.53854,     0.53954,     0.54054,     0.54154,     0.54254,     0.54354,     0.54454,     0.54555,     0.54655,     0.54755,     0.54855,     0.54955,     0.55055,     0.55155,\n",
              "           0.55255,     0.55355,     0.55455,     0.55556,     0.55656,     0.55756,     0.55856,     0.55956,     0.56056,     0.56156,     0.56256,     0.56356,     0.56456,     0.56557,     0.56657,     0.56757,     0.56857,     0.56957,     0.57057,     0.57157,     0.57257,     0.57357,     0.57457,     0.57558,\n",
              "           0.57658,     0.57758,     0.57858,     0.57958,     0.58058,     0.58158,     0.58258,     0.58358,     0.58458,     0.58559,     0.58659,     0.58759,     0.58859,     0.58959,     0.59059,     0.59159,     0.59259,     0.59359,     0.59459,      0.5956,      0.5966,      0.5976,      0.5986,      0.5996,\n",
              "            0.6006,      0.6016,      0.6026,      0.6036,      0.6046,     0.60561,     0.60661,     0.60761,     0.60861,     0.60961,     0.61061,     0.61161,     0.61261,     0.61361,     0.61461,     0.61562,     0.61662,     0.61762,     0.61862,     0.61962,     0.62062,     0.62162,     0.62262,     0.62362,\n",
              "           0.62462,     0.62563,     0.62663,     0.62763,     0.62863,     0.62963,     0.63063,     0.63163,     0.63263,     0.63363,     0.63463,     0.63564,     0.63664,     0.63764,     0.63864,     0.63964,     0.64064,     0.64164,     0.64264,     0.64364,     0.64464,     0.64565,     0.64665,     0.64765,\n",
              "           0.64865,     0.64965,     0.65065,     0.65165,     0.65265,     0.65365,     0.65465,     0.65566,     0.65666,     0.65766,     0.65866,     0.65966,     0.66066,     0.66166,     0.66266,     0.66366,     0.66466,     0.66567,     0.66667,     0.66767,     0.66867,     0.66967,     0.67067,     0.67167,\n",
              "           0.67267,     0.67367,     0.67467,     0.67568,     0.67668,     0.67768,     0.67868,     0.67968,     0.68068,     0.68168,     0.68268,     0.68368,     0.68468,     0.68569,     0.68669,     0.68769,     0.68869,     0.68969,     0.69069,     0.69169,     0.69269,     0.69369,     0.69469,      0.6957,\n",
              "            0.6967,      0.6977,      0.6987,      0.6997,      0.7007,      0.7017,      0.7027,      0.7037,      0.7047,     0.70571,     0.70671,     0.70771,     0.70871,     0.70971,     0.71071,     0.71171,     0.71271,     0.71371,     0.71471,     0.71572,     0.71672,     0.71772,     0.71872,     0.71972,\n",
              "           0.72072,     0.72172,     0.72272,     0.72372,     0.72472,     0.72573,     0.72673,     0.72773,     0.72873,     0.72973,     0.73073,     0.73173,     0.73273,     0.73373,     0.73473,     0.73574,     0.73674,     0.73774,     0.73874,     0.73974,     0.74074,     0.74174,     0.74274,     0.74374,\n",
              "           0.74474,     0.74575,     0.74675,     0.74775,     0.74875,     0.74975,     0.75075,     0.75175,     0.75275,     0.75375,     0.75475,     0.75576,     0.75676,     0.75776,     0.75876,     0.75976,     0.76076,     0.76176,     0.76276,     0.76376,     0.76476,     0.76577,     0.76677,     0.76777,\n",
              "           0.76877,     0.76977,     0.77077,     0.77177,     0.77277,     0.77377,     0.77477,     0.77578,     0.77678,     0.77778,     0.77878,     0.77978,     0.78078,     0.78178,     0.78278,     0.78378,     0.78478,     0.78579,     0.78679,     0.78779,     0.78879,     0.78979,     0.79079,     0.79179,\n",
              "           0.79279,     0.79379,     0.79479,      0.7958,      0.7968,      0.7978,      0.7988,      0.7998,      0.8008,      0.8018,      0.8028,      0.8038,      0.8048,     0.80581,     0.80681,     0.80781,     0.80881,     0.80981,     0.81081,     0.81181,     0.81281,     0.81381,     0.81481,     0.81582,\n",
              "           0.81682,     0.81782,     0.81882,     0.81982,     0.82082,     0.82182,     0.82282,     0.82382,     0.82482,     0.82583,     0.82683,     0.82783,     0.82883,     0.82983,     0.83083,     0.83183,     0.83283,     0.83383,     0.83483,     0.83584,     0.83684,     0.83784,     0.83884,     0.83984,\n",
              "           0.84084,     0.84184,     0.84284,     0.84384,     0.84484,     0.84585,     0.84685,     0.84785,     0.84885,     0.84985,     0.85085,     0.85185,     0.85285,     0.85385,     0.85485,     0.85586,     0.85686,     0.85786,     0.85886,     0.85986,     0.86086,     0.86186,     0.86286,     0.86386,\n",
              "           0.86486,     0.86587,     0.86687,     0.86787,     0.86887,     0.86987,     0.87087,     0.87187,     0.87287,     0.87387,     0.87487,     0.87588,     0.87688,     0.87788,     0.87888,     0.87988,     0.88088,     0.88188,     0.88288,     0.88388,     0.88488,     0.88589,     0.88689,     0.88789,\n",
              "           0.88889,     0.88989,     0.89089,     0.89189,     0.89289,     0.89389,     0.89489,      0.8959,      0.8969,      0.8979,      0.8989,      0.8999,      0.9009,      0.9019,      0.9029,      0.9039,      0.9049,     0.90591,     0.90691,     0.90791,     0.90891,     0.90991,     0.91091,     0.91191,\n",
              "           0.91291,     0.91391,     0.91491,     0.91592,     0.91692,     0.91792,     0.91892,     0.91992,     0.92092,     0.92192,     0.92292,     0.92392,     0.92492,     0.92593,     0.92693,     0.92793,     0.92893,     0.92993,     0.93093,     0.93193,     0.93293,     0.93393,     0.93493,     0.93594,\n",
              "           0.93694,     0.93794,     0.93894,     0.93994,     0.94094,     0.94194,     0.94294,     0.94394,     0.94494,     0.94595,     0.94695,     0.94795,     0.94895,     0.94995,     0.95095,     0.95195,     0.95295,     0.95395,     0.95495,     0.95596,     0.95696,     0.95796,     0.95896,     0.95996,\n",
              "           0.96096,     0.96196,     0.96296,     0.96396,     0.96496,     0.96597,     0.96697,     0.96797,     0.96897,     0.96997,     0.97097,     0.97197,     0.97297,     0.97397,     0.97497,     0.97598,     0.97698,     0.97798,     0.97898,     0.97998,     0.98098,     0.98198,     0.98298,     0.98398,\n",
              "           0.98498,     0.98599,     0.98699,     0.98799,     0.98899,     0.98999,     0.99099,     0.99199,     0.99299,     0.99399,     0.99499,       0.996,       0.997,       0.998,       0.999,           1]), array([[    0.95238,     0.95238,     0.95238, ...,           0,           0,           0],\n",
              "       [    0.95238,     0.95238,     0.95238, ...,           0,           0,           0]]), 'Confidence', 'Recall']]\n",
              "fitness: 0.6148990219387439\n",
              "keys: ['metrics/precision(B)', 'metrics/recall(B)', 'metrics/mAP50(B)', 'metrics/mAP50-95(B)']\n",
              "maps: array([    0.54682,     0.60918])\n",
              "names: {0: 'liters', 1: 'meters'}\n",
              "plot: True\n",
              "results_dict: {'metrics/precision(B)': 0.9706316040868144, 'metrics/recall(B)': 0.899771269869309, 'metrics/mAP50(B)': 0.946988187169582, 'metrics/mAP50-95(B)': 0.5780002258019841, 'fitness': 0.6148990219387439}\n",
              "save_dir: PosixPath('runs/detect/train')\n",
              "speed: {'preprocess': 0.23975826445079984, 'inference': 3.078279041108631, 'loss': 0.0011807396298363095, 'postprocess': 1.1987913222539994}\n",
              "task: 'detect'"
            ]
          },
          "execution_count": 16,
          "metadata": {},
          "output_type": "execute_result"
        }
      ],
      "source": [
        "model.train(data=f\"{dataset.location}/data.yaml\", epochs=100)"
      ]
    },
    {
      "cell_type": "markdown",
      "metadata": {
        "id": "YWA38U5S6IKK"
      },
      "source": [
        "**NOTE:** The results of the completed training are saved in `{HOME}/runs/detect/train/`. Let's examine them."
      ]
    },
    {
      "cell_type": "code",
      "execution_count": null,
      "metadata": {
        "colab": {
          "base_uri": "https://localhost:8080/"
        },
        "id": "h0JOiEcMmuPC",
        "outputId": "87106d25-ae34-4b76-dd0c-844814c3eae9"
      },
      "outputs": [
        {
          "name": "stdout",
          "output_type": "stream",
          "text": [
            "args.yaml\t\t\t\t\t   P_curve.png\t     train_batch2.jpg\n",
            "confusion_matrix_normalized.png\t\t\t   PR_curve.png      train_batch450.jpg\n",
            "confusion_matrix.png\t\t\t\t   R_curve.png\t     train_batch451.jpg\n",
            "events.out.tfevents.1729014130.f49ce6aae9a4.342.1  results.csv\t     train_batch452.jpg\n",
            "F1_curve.png\t\t\t\t\t   results.png\t     val_batch0_labels.jpg\n",
            "labels_correlogram.jpg\t\t\t\t   train_batch0.jpg  val_batch0_pred.jpg\n",
            "labels.jpg\t\t\t\t\t   train_batch1.jpg  weights\n"
          ]
        }
      ],
      "source": [
        "!ls {HOME}/runs/detect/train/ # print all the results and prove that the weights are here in the format pt"
      ]
    },
    {
      "cell_type": "code",
      "execution_count": null,
      "metadata": {
        "colab": {
          "base_uri": "https://localhost:8080/",
          "height": 317
        },
        "id": "vHubmwACFlym",
        "outputId": "7f3e5b8c-6b22-46b6-b51b-6cf12b6d8b2e"
      },
      "outputs": [
        {
          "data": {
            "image/png": "[encoded data removed]",
            "text/plain": [
              "<IPython.core.display.Image object>"
            ]
          },
          "execution_count": 18,
          "metadata": {
            "image/png": {
              "width": 600
            }
          },
          "output_type": "execute_result"
        }
      ],
      "source": [
        "from IPython.display import Image as IPyImage\n",
        "\n",
        "IPyImage(filename=f'{HOME}/runs/detect/train/results.png', width=600)"
      ]
    },
    {
      "cell_type": "markdown",
      "metadata": {
        "id": "VcJ8aFtAJ-4y"
      },
      "source": [
        "### Validation of the model"
      ]
    },
    {
      "cell_type": "code",
      "execution_count": null,
      "metadata": {
        "colab": {
          "base_uri": "https://localhost:8080/"
        },
        "id": "pmvw7_6CQMHP",
        "outputId": "2af2338e-b852-4876-fb51-63b533748510"
      },
      "outputs": [
        {
          "name": "stdout",
          "output_type": "stream",
          "text": [
            "Ultralytics 8.3.13 🚀 Python-3.10.12 torch-2.4.1+cu121 CUDA:0 (Tesla T4, 15102MiB)\n",
            "YOLO11n summary (fused): 238 layers, 2,582,542 parameters, 0 gradients, 6.3 GFLOPs\n"
          ]
        },
        {
          "name": "stderr",
          "output_type": "stream",
          "text": [
            "\u001b[34m\u001b[1mval: \u001b[0mScanning /content/drive/MyDrive/AI-meter-reading/datasets/ai-meter-reading-1/valid/labels.cache... 21 images, 0 backgrounds, 0 corrupt: 100%|██████████| 21/21 [00:00<?, ?it/s]\n",
            "                 Class     Images  Instances      Box(P          R      mAP50  mAP50-95): 100%|██████████| 2/2 [00:01<00:00,  1.30it/s]\n"
          ]
        },
        {
          "name": "stdout",
          "output_type": "stream",
          "text": [
            "                   all         21         42      0.972        0.9      0.947      0.569\n",
            "                liters         21         21          1      0.847      0.939      0.535\n",
            "                meters         21         21      0.945      0.952      0.955      0.602\n",
            "Speed: 0.4ms preprocess, 18.2ms inference, 0.0ms loss, 1.7ms postprocess per image\n",
            "Results saved to \u001b[1mruns/detect/train2\u001b[0m\n"
          ]
        },
        {
          "data": {
            "text/plain": [
              "{'metrics/precision(B)': 0.9723705685877451,\n",
              " 'metrics/recall(B)': 0.8995884375946575,\n",
              " 'metrics/mAP50(B)': 0.9469881006093457,\n",
              " 'metrics/mAP50-95(B)': 0.5685241166485087,\n",
              " 'fitness': 0.6063705150445924}"
            ]
          },
          "execution_count": 19,
          "metadata": {},
          "output_type": "execute_result"
        }
      ],
      "source": [
        "metrics = model.val()\n",
        "metrics.results_dict"
      ]
    },
    {
      "cell_type": "markdown",
      "metadata": {
        "id": "0aVvTOlF6BuM"
      },
      "source": []
    },
    {
      "cell_type": "code",
      "execution_count": null,
      "metadata": {
        "id": "o0puv_PDPXRU"
      },
      "outputs": [],
      "source": [
        "# Load the model\n",
        "model = ultralytics.YOLO(PATH_PROJECT + '/runs/detect/train/weights/best.pt')\n",
        "FOLDER_IMAGE_PATH = PATH_PROJECT + '/pictures'"
      ]
    },
    {
      "cell_type": "code",
      "execution_count": null,
      "metadata": {
        "id": "QXqnrpPBh0dm"
      },
      "outputs": [],
      "source": [
        "results = model.predict(source=FOLDER_IMAGE_PATH,  project='pictures_annotated', stream=True) # generator in order to avoid memory leak"
      ]
    },
    {
      "cell_type": "code",
      "execution_count": null,
      "metadata": {
        "id": "_XX17dyvUpGw"
      },
      "outputs": [],
      "source": [
        "from ultralytics.utils.plotting import save_one_box\n",
        "# found in ultralytics/engine/results.py\n",
        "# We use composition to include Results instances within the ResultMeters class instead of inheriting\n",
        "from PIL import Image, ImageDraw, ImageFont\n",
        "from ultralytics.utils import IS_COLAB, IS_KAGGLE, LOGGER, TryExcept, ops\n",
        "from ultralytics.utils.files import increment_path\n",
        "\n",
        "\n",
        "\n",
        "class ResultMeters():\n",
        "    \"\"\"\n",
        "    A class for storing and manipulating inference results containing dial meters.\n",
        "\n",
        "    This class encapsulates among other the functionality for handling dial meters\n",
        "    and classification results from YOLO models. it is a composition with the original\n",
        "    results class in the package ultralytics.\n",
        "\n",
        "    Attributes:\n",
        "        result (ultralytics.engine.Results): A result containing the bounding boxes and associated probabilities for classification tasks.\n",
        "        detection_precision (int): A flag indicating the degree of certainty of the position of bounding boxes.\n",
        "        filename (str): Path to the image file.\n",
        "\n",
        "    Methods:\n",
        "        save_meters_crop(save_dir, file_name=None): Saves cropped detection (containing meters) images to specified directory (one per dial) following some criterion.\n",
        "        set_detection_precision(flag=0): Set the precision of the detection from the scale from -1 to 1 (no, maybe, sure).\n",
        "        set_filename(file_name): Set the filename of the image.\n",
        "        show: Shows annotated results on screen.\n",
        "    \"\"\"\n",
        "    def __init__(self, result):\n",
        "        \"\"\"\n",
        "        Result for\n",
        "        \"\"\"\n",
        "        self.result = result\n",
        "        self.detection_precision = None\n",
        "        self.filename = None\n",
        "\n",
        "\n",
        "    def save_meters_crop(self, save_dir, file_name=None):\n",
        "        \"\"\"\n",
        "        Saves cropped detection (containing meters) images to specified directory (one per dial) following some criterion.\n",
        "\n",
        "        This method saves cropped images of detected objects to a specified directory. Each crop is saved in a\n",
        "        subdirectory named after the object's class, with the filename based on the input file_name.\n",
        "\n",
        "        Args:\n",
        "            save_dir (str | Path): Directory path where cropped images will be saved (flag -1, 0 or 1)\n",
        "            file_name (str | Path): Base filename for the saved cropped images. Default is Path(\"im.jpg\").\n",
        "\n",
        "        Notes:\n",
        "            - This method does not support Classify or Oriented Bounding Box (OBB) tasks.\n",
        "            - Crops are saved as 'save_dir/class_name/file_name.jpg'.\n",
        "            - The method will create necessary subdirectories if they don't exist.\n",
        "            - Original image is copied before cropping to avoid modifying the original.\n",
        "        \"\"\"\n",
        "        cropped = False\n",
        "        if self.result.probs is not None:\n",
        "            ultralytics.utils.LOGGER.warning(\"WARNING ⚠️ Classify task do not support `save_crop`.\")\n",
        "            return\n",
        "        if self.result.obb is not None:\n",
        "            ultralytics.utils.LOGGER.warning(\"WARNING ⚠️ OBB task do not support `save_crop`.\")\n",
        "            return\n",
        "        if file_name is None:\n",
        "            file_name = Path(self.result.path).stem\n",
        "        # It is ensured that the boxes are not empty!\n",
        "        max_conf = 0\n",
        "        # min_conf = float('inf')\n",
        "        box1_max_conf = None # only class meters\n",
        "        # box0_min_conf = None\n",
        "        cnt_liters = 0\n",
        "        for d in self.result.boxes:\n",
        "            confidence = d.conf\n",
        "            if int(d.cls) == 1 and confidence > max_conf:\n",
        "                max_conf = confidence\n",
        "                box1_max_conf = d\n",
        "            # elif int(d.cls) == 0 and confidence < min_conf:\n",
        "            #     min_conf = confidence\n",
        "            #     box0_min_conf = d\n",
        "            #     cnt_liters += 1\n",
        "\n",
        "        if box1_max_conf is not None:\n",
        "            cropped = True\n",
        "            self.set_detection_precision(1)\n",
        "            crop = save_one_box(\n",
        "                box1_max_conf.xyxy,\n",
        "                self.result.orig_img.copy(),\n",
        "                file=Path(save_dir)  / f\"{Path(file_name)}-res.jpg\",\n",
        "                BGR=True,\n",
        "            )\n",
        "        # elif cnt_liters == 2:\n",
        "        #     cropped = True\n",
        "        #     self.set_detection_precision(0)\n",
        "        #     crop = save_one_box(\n",
        "        #         box0_min_conf.xyxy,\n",
        "        #         self.result.orig_img.copy(),\n",
        "        #         file=Path(save_dir)  / f\"{Path(file_name)}-cropped_around_liters.jpg\",\n",
        "        #         BGR=True,\n",
        "        #     )\n",
        "        else:\n",
        "            self.set_detection_precision(-1)\n",
        "            file = Path(save_dir) / f\"{Path(file_name)}-res.jpg\"\n",
        "            file.parent.mkdir(parents=True, exist_ok=True)  # make directory\n",
        "            Image.fromarray(self.result.orig_img.copy()).save(file, quality=95, subsampling=0)  # save RGB\n",
        "            # self.result.save(filename=Path(save_dir) / f\"{Path(file_name)}_no_cropped.jpg\")\n",
        "            ultralytics.utils.LOGGER.warning(\"WARNING ⚠️ No meters detected.\")\n",
        "        self.set_filename(file_name)\n",
        "        return cropped\n",
        "\n",
        "\n",
        "    def set_detection_precision(self, flag=0):\n",
        "        \"\"\"\n",
        "        Set the precision of the detection from the scale from -1 to 1 (no, maybe, sure)\n",
        "        \"\"\"\n",
        "        self.detection_precision = flag\n",
        "\n",
        "    def set_filename(self, file_name):\n",
        "        \"\"\"\n",
        "        Set the filename of the image\n",
        "        \"\"\"\n",
        "        self.filename = file_name\n",
        "\n",
        "    def show(self, result):\n",
        "        \"\"\"\n",
        "        Use the show method of Result class to show the resulting annotated image\n",
        "        \"\"\"\n",
        "        self.result.show()\n"
      ]
    },
    {
      "cell_type": "markdown",
      "metadata": {
        "id": "ioJvVKfoAXA-"
      },
      "source": [
        "Count of pictures to get the efficiency"
      ]
    },
    {
      "cell_type": "code",
      "execution_count": null,
      "metadata": {
        "colab": {
          "base_uri": "https://localhost:8080/"
        },
        "id": "QBoVJKL9jxzG",
        "outputId": "ad14f987-53b2-4af6-8630-00075eead183"
      },
      "outputs": [
        {
          "name": "stdout",
          "output_type": "stream",
          "text": [
            "\n",
            "image 1/793 /content/drive/MyDrive/AI-meter-reading/pictures/0127d0.jpg: 320x640 1 liters, 51.1ms\n",
            "WARNING ⚠️ No meters detected.\n",
            "image 2/793 /content/drive/MyDrive/AI-meter-reading/pictures/012e2f.jpg: 480x640 1 liters, 1 meters, 51.0ms\n",
            "image 3/793 /content/drive/MyDrive/AI-meter-reading/pictures/01a650.jpg: 384x640 1 liters, 1 meters, 54.1ms\n",
            "image 4/793 /content/drive/MyDrive/AI-meter-reading/pictures/0249c2.jpg: 480x640 1 liters, 1 meters, 13.4ms\n",
            "image 5/793 /content/drive/MyDrive/AI-meter-reading/pictures/027912.jpg: 640x480 1 liters, 1 meters, 76.3ms\n",
            "image 6/793 /content/drive/MyDrive/AI-meter-reading/pictures/0311da.jpg: 480x640 1 liters, 1 meters, 15.5ms\n",
            "image 7/793 /content/drive/MyDrive/AI-meter-reading/pictures/032a07.jpg: 640x576 1 meters, 60.5ms\n",
            "image 8/793 /content/drive/MyDrive/AI-meter-reading/pictures/03e8fc.jpg: 480x640 1 liters, 17.3ms\n",
            "WARNING ⚠️ No meters detected.\n",
            "image 9/793 /content/drive/MyDrive/AI-meter-reading/pictures/03f766.jpg: 640x480 1 liters, 2 meterss, 13.4ms\n",
            "image 10/793 /content/drive/MyDrive/AI-meter-reading/pictures/040901.jpg: 480x640 1 liters, 1 meters, 10.4ms\n",
            "image 11/793 /content/drive/MyDrive/AI-meter-reading/pictures/0430a5.jpg: 640x480 1 liters, 2 meterss, 9.5ms\n",
            "image 12/793 /content/drive/MyDrive/AI-meter-reading/pictures/049234.jpg: 480x640 1 liters, 1 meters, 10.1ms\n",
            "image 13/793 /content/drive/MyDrive/AI-meter-reading/pictures/049ea9.jpg: 480x640 1 liters, 2 meterss, 16.1ms\n",
            "image 14/793 /content/drive/MyDrive/AI-meter-reading/pictures/0507e2.jpg: 640x480 1 liters, 1 meters, 14.3ms\n",
            "image 15/793 /content/drive/MyDrive/AI-meter-reading/pictures/0530c9.jpg: 480x640 1 liters, 1 meters, 13.9ms\n",
            "image 16/793 /content/drive/MyDrive/AI-meter-reading/pictures/05a950.jpg: 480x640 1 liters, 1 meters, 14.2ms\n",
            "image 17/793 /content/drive/MyDrive/AI-meter-reading/pictures/05e971.jpg: 480x640 1 liters, 1 meters, 12.4ms\n",
            "image 18/793 /content/drive/MyDrive/AI-meter-reading/pictures/066aaa.jpg: 320x640 1 liters, 1 meters, 13.5ms\n",
            "image 19/793 /content/drive/MyDrive/AI-meter-reading/pictures/06bf2c.jpg: 640x480 1 liters, 1 meters, 14.6ms\n",
            "image 20/793 /content/drive/MyDrive/AI-meter-reading/pictures/079f21.jpg: 640x480 1 liters, 2 meterss, 13.7ms\n",
            "image 21/793 /content/drive/MyDrive/AI-meter-reading/pictures/07d00c.jpg: 640x384 1 liters, 1 meters, 57.8ms\n",
            "image 22/793 /content/drive/MyDrive/AI-meter-reading/pictures/081204.jpg: 640x480 1 liters, 1 meters, 15.2ms\n",
            "image 23/793 /content/drive/MyDrive/AI-meter-reading/pictures/087834.jpg: 384x640 1 liters, 1 meters, 10.9ms\n",
            "image 24/793 /content/drive/MyDrive/AI-meter-reading/pictures/08a897.jpg: 320x640 1 meters, 10.5ms\n",
            "image 25/793 /content/drive/MyDrive/AI-meter-reading/pictures/08cc8f.jpg: 384x640 1 liters, 1 meters, 10.5ms\n",
            "image 26/793 /content/drive/MyDrive/AI-meter-reading/pictures/08fd32.jpg: 640x480 1 liters, 1 meters, 10.0ms\n",
            "image 27/793 /content/drive/MyDrive/AI-meter-reading/pictures/092221.jpg: 480x640 1 liters, 2 meterss, 10.1ms\n",
            "image 28/793 /content/drive/MyDrive/AI-meter-reading/pictures/092865.jpg: 384x640 1 liters, 1 meters, 11.4ms\n",
            "image 29/793 /content/drive/MyDrive/AI-meter-reading/pictures/095078.jpg: 640x512 1 liters, 1 meters, 58.2ms\n",
            "image 30/793 /content/drive/MyDrive/AI-meter-reading/pictures/0955fd.jpg: 480x640 1 liters, 1 meters, 11.1ms\n",
            "image 31/793 /content/drive/MyDrive/AI-meter-reading/pictures/0968cc.jpg: 640x480 (no detections), 16.5ms\n",
            "WARNING ⚠️ No meters detected.\n",
            "image 32/793 /content/drive/MyDrive/AI-meter-reading/pictures/0a6ef0.jpg: 480x640 1 liters, 1 meters, 10.3ms\n",
            "image 33/793 /content/drive/MyDrive/AI-meter-reading/pictures/0af124.jpg: 384x640 1 liters, 1 meters, 10.8ms\n",
            "image 34/793 /content/drive/MyDrive/AI-meter-reading/pictures/0b69ed.jpg: 480x640 1 liters, 1 meters, 9.6ms\n",
            "image 35/793 /content/drive/MyDrive/AI-meter-reading/pictures/0c429f.jpg: 480x640 1 liters, 1 meters, 9.4ms\n",
            "image 36/793 /content/drive/MyDrive/AI-meter-reading/pictures/0c5ec4.jpg: 480x640 1 liters, 1 meters, 9.2ms\n",
            "image 37/793 /content/drive/MyDrive/AI-meter-reading/pictures/0cdd59.jpg: 480x640 1 liters, 1 meters, 18.1ms\n",
            "image 38/793 /content/drive/MyDrive/AI-meter-reading/pictures/0cee7a.jpg: 480x640 1 liters, 1 meters, 9.2ms\n",
            "image 39/793 /content/drive/MyDrive/AI-meter-reading/pictures/0cfa42.jpg: 480x640 1 liters, 1 meters, 9.0ms\n",
            "image 40/793 /content/drive/MyDrive/AI-meter-reading/pictures/0d1801.jpg: 480x640 1 liters, 2 meterss, 8.8ms\n",
            "image 41/793 /content/drive/MyDrive/AI-meter-reading/pictures/0d55b5.jpg: 480x640 1 liters, 1 meters, 8.7ms\n",
            "image 42/793 /content/drive/MyDrive/AI-meter-reading/pictures/0da303.jpg: 480x640 1 liters, 1 meters, 11.2ms\n",
            "image 43/793 /content/drive/MyDrive/AI-meter-reading/pictures/0e0106.jpg: 480x640 1 liters, 2 meterss, 9.2ms\n",
            "image 44/793 /content/drive/MyDrive/AI-meter-reading/pictures/0e6201.jpg: 480x640 1 liters, 1 meters, 9.7ms\n",
            "image 45/793 /content/drive/MyDrive/AI-meter-reading/pictures/0ea4f7.jpg: 480x640 1 liters, 1 meters, 10.1ms\n",
            "image 46/793 /content/drive/MyDrive/AI-meter-reading/pictures/0ec255.jpg: 384x640 1 meters, 10.1ms\n",
            "image 47/793 /content/drive/MyDrive/AI-meter-reading/pictures/0f1f4d.jpg: 480x640 1 liters, 2 meterss, 10.8ms\n",
            "image 48/793 /content/drive/MyDrive/AI-meter-reading/pictures/0f38b6.jpg: 384x640 1 liters, 1 meters, 10.5ms\n",
            "image 49/793 /content/drive/MyDrive/AI-meter-reading/pictures/0fe040.jpg: 640x384 1 liters, 1 meters, 22.0ms\n",
            "image 50/793 /content/drive/MyDrive/AI-meter-reading/pictures/10efaf.jpg: 384x640 1 liters, 1 meters, 22.2ms\n",
            "image 51/793 /content/drive/MyDrive/AI-meter-reading/pictures/10f28d.jpg: 480x640 2 literss, 1 meters, 20.1ms\n",
            "image 52/793 /content/drive/MyDrive/AI-meter-reading/pictures/112b83.jpg: 448x640 1 liters, 1 meters, 70.7ms\n",
            "image 53/793 /content/drive/MyDrive/AI-meter-reading/pictures/115889.jpg: 320x640 1 liters, 1 meters, 12.9ms\n",
            "image 54/793 /content/drive/MyDrive/AI-meter-reading/pictures/115c77.jpg: 640x480 1 liters, 1 meters, 16.1ms\n",
            "image 55/793 /content/drive/MyDrive/AI-meter-reading/pictures/116c83.jpg: 480x640 1 liters, 2 meterss, 13.5ms\n",
            "image 56/793 /content/drive/MyDrive/AI-meter-reading/pictures/1199dc.jpg: 480x640 1 liters, 1 meters, 12.2ms\n",
            "image 57/793 /content/drive/MyDrive/AI-meter-reading/pictures/11eeaa.jpg: 640x480 1 liters, 1 meters, 12.2ms\n",
            "image 58/793 /content/drive/MyDrive/AI-meter-reading/pictures/1234fd.jpg: 480x640 (no detections), 16.0ms\n",
            "WARNING ⚠️ No meters detected.\n",
            "image 59/793 /content/drive/MyDrive/AI-meter-reading/pictures/123c0a.jpg: 480x640 1 liters, 1 meters, 12.0ms\n",
            "image 60/793 /content/drive/MyDrive/AI-meter-reading/pictures/12aa0e.jpg: 480x640 1 liters, 2 meterss, 15.3ms\n",
            "image 61/793 /content/drive/MyDrive/AI-meter-reading/pictures/12f380.jpg: 480x640 1 liters, 1 meters, 31.1ms\n",
            "image 62/793 /content/drive/MyDrive/AI-meter-reading/pictures/12f3ce.jpg: 640x480 1 liters, 2 meterss, 15.9ms\n",
            "image 63/793 /content/drive/MyDrive/AI-meter-reading/pictures/1437de.jpg: 480x640 1 liters, 1 meters, 19.1ms\n",
            "image 64/793 /content/drive/MyDrive/AI-meter-reading/pictures/148cbf.jpg: 480x640 1 liters, 1 meters, 13.1ms\n",
            "image 65/793 /content/drive/MyDrive/AI-meter-reading/pictures/14e784.jpg: 480x640 1 liters, 1 meters, 25.0ms\n",
            "image 66/793 /content/drive/MyDrive/AI-meter-reading/pictures/15e656.jpg: 544x640 2 literss, 1 meters, 70.9ms\n",
            "image 67/793 /content/drive/MyDrive/AI-meter-reading/pictures/169e78.jpg: 480x640 1 liters, 1 meters, 20.5ms\n",
            "image 68/793 /content/drive/MyDrive/AI-meter-reading/pictures/16b5f8.jpg: 384x640 1 liters, 1 meters, 24.1ms\n",
            "image 69/793 /content/drive/MyDrive/AI-meter-reading/pictures/16b747.jpg: 480x640 1 liters, 1 meters, 14.4ms\n",
            "image 70/793 /content/drive/MyDrive/AI-meter-reading/pictures/16d06c.jpg: 480x640 1 liters, 1 meters, 13.4ms\n",
            "image 71/793 /content/drive/MyDrive/AI-meter-reading/pictures/1720a4.jpg: 480x640 1 liters, 1 meters, 21.1ms\n",
            "image 72/793 /content/drive/MyDrive/AI-meter-reading/pictures/1765dd.jpg: 384x640 1 liters, 1 meters, 15.9ms\n",
            "image 73/793 /content/drive/MyDrive/AI-meter-reading/pictures/17a888.jpg: 480x640 1 liters, 1 meters, 17.3ms\n",
            "image 74/793 /content/drive/MyDrive/AI-meter-reading/pictures/17ce88.jpg: 480x640 1 liters, 1 meters, 16.7ms\n",
            "image 75/793 /content/drive/MyDrive/AI-meter-reading/pictures/180718.jpg: 480x640 1 liters, 1 meters, 16.7ms\n",
            "image 76/793 /content/drive/MyDrive/AI-meter-reading/pictures/180a51.jpg: 480x640 1 liters, 1 meters, 17.2ms\n",
            "image 77/793 /content/drive/MyDrive/AI-meter-reading/pictures/186e7f.jpg: 480x640 1 liters, 1 meters, 10.3ms\n",
            "image 78/793 /content/drive/MyDrive/AI-meter-reading/pictures/18827c.jpg: 640x512 1 liters, 1 meters, 13.5ms\n",
            "image 79/793 /content/drive/MyDrive/AI-meter-reading/pictures/19adbe.jpg: 384x640 1 liters, 1 meters, 11.2ms\n",
            "image 80/793 /content/drive/MyDrive/AI-meter-reading/pictures/19d49d.jpg: 640x384 1 liters, 1 meters, 11.1ms\n",
            "image 81/793 /content/drive/MyDrive/AI-meter-reading/pictures/19dfc7.jpg: 480x640 1 liters, 1 meters, 10.1ms\n",
            "image 82/793 /content/drive/MyDrive/AI-meter-reading/pictures/1a17b2.jpg: 384x640 1 liters, 1 meters, 10.3ms\n",
            "image 83/793 /content/drive/MyDrive/AI-meter-reading/pictures/1a3c33.jpg: 480x640 1 liters, 1 meters, 11.7ms\n",
            "image 84/793 /content/drive/MyDrive/AI-meter-reading/pictures/1a5854.jpg: 480x640 1 liters, 1 meters, 9.6ms\n",
            "image 85/793 /content/drive/MyDrive/AI-meter-reading/pictures/1a7097.jpg: 480x640 1 liters, 1 meters, 9.4ms\n",
            "image 86/793 /content/drive/MyDrive/AI-meter-reading/pictures/1aa5db.jpg: 480x640 1 meters, 9.2ms\n",
            "image 87/793 /content/drive/MyDrive/AI-meter-reading/pictures/1b4fe1.jpg: 384x640 1 liters, 1 meters, 9.7ms\n",
            "image 88/793 /content/drive/MyDrive/AI-meter-reading/pictures/1b79dc.jpg: 480x640 2 literss, 1 meters, 10.0ms\n",
            "image 89/793 /content/drive/MyDrive/AI-meter-reading/pictures/1ba26b.jpg: 640x480 1 liters, 1 meters, 10.8ms\n",
            "image 90/793 /content/drive/MyDrive/AI-meter-reading/pictures/1ba5a7.jpg: 448x640 1 meters, 10.9ms\n",
            "image 91/793 /content/drive/MyDrive/AI-meter-reading/pictures/1bd14e.jpg: 480x640 2 literss, 1 meters, 11.3ms\n",
            "image 92/793 /content/drive/MyDrive/AI-meter-reading/pictures/1be84b.jpg: 480x640 1 meters, 11.4ms\n",
            "image 93/793 /content/drive/MyDrive/AI-meter-reading/pictures/1df3e4.jpg: 640x480 1 liters, 1 meters, 9.5ms\n",
            "image 94/793 /content/drive/MyDrive/AI-meter-reading/pictures/1dfc4d.jpg: 448x640 1 liters, 1 meters, 9.5ms\n",
            "image 95/793 /content/drive/MyDrive/AI-meter-reading/pictures/1e157c.jpg: 384x640 2 literss, 10.0ms\n",
            "WARNING ⚠️ No meters detected.\n",
            "image 96/793 /content/drive/MyDrive/AI-meter-reading/pictures/1ec531.jpg: 480x640 1 liters, 1 meters, 14.4ms\n",
            "image 97/793 /content/drive/MyDrive/AI-meter-reading/pictures/1f09ce.jpg: 640x480 1 liters, 1 meters, 9.9ms\n",
            "image 98/793 /content/drive/MyDrive/AI-meter-reading/pictures/20215d.jpg: 384x640 1 liters, 1 meters, 10.1ms\n",
            "image 99/793 /content/drive/MyDrive/AI-meter-reading/pictures/209178.jpg: 480x640 1 liters, 1 meters, 10.3ms\n",
            "image 100/793 /content/drive/MyDrive/AI-meter-reading/pictures/20fe64.jpg: 480x640 1 liters, 1 meters, 9.6ms\n",
            "image 101/793 /content/drive/MyDrive/AI-meter-reading/pictures/21623c.jpg: 640x480 1 liters, 1 meters, 9.9ms\n",
            "image 102/793 /content/drive/MyDrive/AI-meter-reading/pictures/2173c2.jpg: 640x384 1 liters, 1 meters, 17.7ms\n",
            "image 103/793 /content/drive/MyDrive/AI-meter-reading/pictures/2234d5.jpg: 640x384 1 liters, 1 meters, 9.4ms\n",
            "image 104/793 /content/drive/MyDrive/AI-meter-reading/pictures/2290b4.jpg: 320x640 1 liters, 9.7ms\n",
            "WARNING ⚠️ No meters detected.\n",
            "image 105/793 /content/drive/MyDrive/AI-meter-reading/pictures/22d4fa.jpg: 480x640 1 liters, 1 meters, 17.4ms\n",
            "image 106/793 /content/drive/MyDrive/AI-meter-reading/pictures/23626d.jpg: 480x640 1 meters, 9.3ms\n",
            "image 107/793 /content/drive/MyDrive/AI-meter-reading/pictures/23ca1c.jpg: 640x384 1 meters, 9.5ms\n",
            "image 108/793 /content/drive/MyDrive/AI-meter-reading/pictures/240068.jpg: 544x640 1 liters, 1 meters, 16.4ms\n",
            "image 109/793 /content/drive/MyDrive/AI-meter-reading/pictures/248c80.jpg: 448x640 1 liters, 1 meters, 11.1ms\n",
            "image 110/793 /content/drive/MyDrive/AI-meter-reading/pictures/24a33b.jpg: 640x384 1 liters, 3 meterss, 10.7ms\n",
            "image 111/793 /content/drive/MyDrive/AI-meter-reading/pictures/24a67a.jpg: 480x640 1 liters, 1 meters, 9.3ms\n",
            "image 112/793 /content/drive/MyDrive/AI-meter-reading/pictures/24e4d7.jpg: 384x640 1 liters, 1 meters, 10.1ms\n",
            "image 113/793 /content/drive/MyDrive/AI-meter-reading/pictures/2507d9.jpg: 640x480 1 liters, 1 meters, 9.5ms\n",
            "image 114/793 /content/drive/MyDrive/AI-meter-reading/pictures/2509d8.jpg: 640x480 1 liters, 1 meters, 8.9ms\n",
            "image 115/793 /content/drive/MyDrive/AI-meter-reading/pictures/25a53d.jpg: 640x480 1 liters, 1 meters, 8.7ms\n",
            "image 116/793 /content/drive/MyDrive/AI-meter-reading/pictures/2669b5.jpg: 640x384 1 liters, 1 meters, 9.5ms\n",
            "image 117/793 /content/drive/MyDrive/AI-meter-reading/pictures/269953.jpg: 480x640 1 liters, 1 meters, 9.8ms\n",
            "image 118/793 /content/drive/MyDrive/AI-meter-reading/pictures/26c1f3.jpg: 480x640 1 liters, 1 meters, 11.3ms\n",
            "image 119/793 /content/drive/MyDrive/AI-meter-reading/pictures/27044e.jpg: 640x640 1 liters, 1 meters, 9.9ms\n",
            "image 120/793 /content/drive/MyDrive/AI-meter-reading/pictures/2766e2.jpg: 480x640 1 liters, 1 meters, 9.3ms\n",
            "image 121/793 /content/drive/MyDrive/AI-meter-reading/pictures/277d05.jpg: 480x640 1 liters, 1 meters, 9.1ms\n",
            "image 122/793 /content/drive/MyDrive/AI-meter-reading/pictures/27fc8d.jpg: 640x480 1 liters, 1 meters, 9.4ms\n",
            "image 123/793 /content/drive/MyDrive/AI-meter-reading/pictures/28451c.jpg: 640x480 1 liters, 1 meters, 8.8ms\n",
            "image 124/793 /content/drive/MyDrive/AI-meter-reading/pictures/284ecb.jpg: 320x640 1 liters, 1 meters, 10.7ms\n",
            "image 125/793 /content/drive/MyDrive/AI-meter-reading/pictures/286635.jpg: 320x640 1 liters, 1 meters, 10.9ms\n",
            "image 126/793 /content/drive/MyDrive/AI-meter-reading/pictures/28edf7.jpg: 384x640 1 liters, 1 meters, 10.2ms\n",
            "image 127/793 /content/drive/MyDrive/AI-meter-reading/pictures/291d75.jpg: 480x640 1 liters, 1 meters, 9.8ms\n",
            "image 128/793 /content/drive/MyDrive/AI-meter-reading/pictures/292c58.jpg: 384x640 1 liters, 1 meters, 14.2ms\n",
            "image 129/793 /content/drive/MyDrive/AI-meter-reading/pictures/29639d.jpg: 480x640 1 liters, 1 meters, 10.9ms\n",
            "image 130/793 /content/drive/MyDrive/AI-meter-reading/pictures/29abcf.jpg: 480x640 1 liters, 3 meterss, 20.3ms\n",
            "image 131/793 /content/drive/MyDrive/AI-meter-reading/pictures/29b363.jpg: 480x640 1 liters, 1 meters, 14.4ms\n",
            "image 132/793 /content/drive/MyDrive/AI-meter-reading/pictures/29c666.jpg: 320x640 3 meterss, 13.9ms\n",
            "image 133/793 /content/drive/MyDrive/AI-meter-reading/pictures/29f796.jpg: 480x640 1 liters, 1 meters, 36.3ms\n",
            "image 134/793 /content/drive/MyDrive/AI-meter-reading/pictures/2ab46d.jpg: 640x480 1 liters, 1 meters, 13.7ms\n",
            "image 135/793 /content/drive/MyDrive/AI-meter-reading/pictures/2aee00.jpg: 640x480 1 liters, 1 meters, 12.1ms\n",
            "image 136/793 /content/drive/MyDrive/AI-meter-reading/pictures/2b69d9.jpg: 480x640 1 liters, 1 meters, 13.1ms\n",
            "image 137/793 /content/drive/MyDrive/AI-meter-reading/pictures/2bbad8.jpg: 384x640 1 liters, 1 meters, 13.4ms\n",
            "image 138/793 /content/drive/MyDrive/AI-meter-reading/pictures/2c3aa4.jpg: 640x512 2 meterss, 21.7ms\n",
            "image 139/793 /content/drive/MyDrive/AI-meter-reading/pictures/2c65a1.jpg: 480x640 1 liters, 1 meters, 12.7ms\n",
            "image 140/793 /content/drive/MyDrive/AI-meter-reading/pictures/2c7b5d.jpg: 640x480 1 liters, 1 meters, 11.9ms\n",
            "image 141/793 /content/drive/MyDrive/AI-meter-reading/pictures/2ce0ef.jpg: 640x384 1 liters, 14.7ms\n",
            "WARNING ⚠️ No meters detected.\n",
            "image 142/793 /content/drive/MyDrive/AI-meter-reading/pictures/2cf302.jpg: 480x640 1 meters, 14.8ms\n",
            "image 143/793 /content/drive/MyDrive/AI-meter-reading/pictures/2d22ed.jpg: 480x640 1 liters, 1 meters, 21.9ms\n",
            "image 144/793 /content/drive/MyDrive/AI-meter-reading/pictures/2d72ee.jpg: 480x640 1 meters, 19.8ms\n",
            "image 145/793 /content/drive/MyDrive/AI-meter-reading/pictures/2d9383.jpg: 480x640 1 liters, 1 meters, 14.1ms\n",
            "image 146/793 /content/drive/MyDrive/AI-meter-reading/pictures/2e5f8d.jpg: 480x640 1 liters, 1 meters, 24.8ms\n",
            "image 147/793 /content/drive/MyDrive/AI-meter-reading/pictures/2ee109.jpg: 640x480 1 liters, 1 meters, 14.9ms\n",
            "image 148/793 /content/drive/MyDrive/AI-meter-reading/pictures/2f3cd1.jpg: 480x640 1 liters, 1 meters, 14.2ms\n",
            "image 149/793 /content/drive/MyDrive/AI-meter-reading/pictures/2f728d.jpg: 640x320 1 liters, 1 meters, 93.9ms\n",
            "image 150/793 /content/drive/MyDrive/AI-meter-reading/pictures/303276.jpg: 480x640 1 meters, 16.1ms\n",
            "image 151/793 /content/drive/MyDrive/AI-meter-reading/pictures/309363.jpg: 640x384 1 meters, 15.8ms\n",
            "image 152/793 /content/drive/MyDrive/AI-meter-reading/pictures/31603a.jpg: 640x416 1 liters, 1 meters, 75.2ms\n",
            "image 153/793 /content/drive/MyDrive/AI-meter-reading/pictures/316c0e.jpg: 640x640 1 liters, 3 meterss, 15.0ms\n",
            "image 154/793 /content/drive/MyDrive/AI-meter-reading/pictures/3196e8.jpg: 480x640 1 liters, 1 meters, 16.0ms\n",
            "image 155/793 /content/drive/MyDrive/AI-meter-reading/pictures/31fe30.jpg: 448x640 1 meters, 15.9ms\n",
            "image 156/793 /content/drive/MyDrive/AI-meter-reading/pictures/326ce8.jpg: 384x640 1 liters, 1 meters, 23.6ms\n",
            "image 157/793 /content/drive/MyDrive/AI-meter-reading/pictures/3275da.jpg: 384x640 1 liters, 1 meters, 13.3ms\n",
            "image 158/793 /content/drive/MyDrive/AI-meter-reading/pictures/32904d.jpg: 640x480 1 liters, 1 meters, 16.6ms\n",
            "image 159/793 /content/drive/MyDrive/AI-meter-reading/pictures/32e454.jpg: 384x640 1 liters, 1 meters, 16.9ms\n",
            "image 160/793 /content/drive/MyDrive/AI-meter-reading/pictures/33160e.jpg: 480x640 1 liters, 1 meters, 9.9ms\n",
            "image 161/793 /content/drive/MyDrive/AI-meter-reading/pictures/33719e.jpg: 480x640 1 liters, 2 meterss, 16.5ms\n",
            "image 162/793 /content/drive/MyDrive/AI-meter-reading/pictures/3385f1.jpg: 480x640 1 liters, 1 meters, 20.0ms\n",
            "image 163/793 /content/drive/MyDrive/AI-meter-reading/pictures/33ed3a.jpg: 480x640 1 liters, 1 meters, 9.2ms\n",
            "image 164/793 /content/drive/MyDrive/AI-meter-reading/pictures/342068.jpg: 384x640 1 liters, 1 meters, 9.7ms\n",
            "image 165/793 /content/drive/MyDrive/AI-meter-reading/pictures/342693.jpg: 640x640 1 liters, 1 meters, 9.5ms\n",
            "image 166/793 /content/drive/MyDrive/AI-meter-reading/pictures/346f75.jpg: 480x640 1 liters, 1 meters, 10.7ms\n",
            "image 167/793 /content/drive/MyDrive/AI-meter-reading/pictures/355f72.jpg: 480x640 1 meters, 10.0ms\n",
            "image 168/793 /content/drive/MyDrive/AI-meter-reading/pictures/35a882.jpg: 640x480 1 liters, 1 meters, 9.7ms\n",
            "image 169/793 /content/drive/MyDrive/AI-meter-reading/pictures/35af5b.jpg: 384x640 1 meters, 9.4ms\n",
            "image 170/793 /content/drive/MyDrive/AI-meter-reading/pictures/362442.jpg: 640x544 1 liters, 1 meters, 45.7ms\n",
            "image 171/793 /content/drive/MyDrive/AI-meter-reading/pictures/36ff56.jpg: 480x640 1 liters, 1 meters, 14.4ms\n",
            "image 172/793 /content/drive/MyDrive/AI-meter-reading/pictures/3723f6.jpg: 480x640 1 meters, 8.6ms\n",
            "image 173/793 /content/drive/MyDrive/AI-meter-reading/pictures/3757e2.jpg: 640x480 1 liters, 1 meters, 13.0ms\n",
            "image 174/793 /content/drive/MyDrive/AI-meter-reading/pictures/37a08e.jpg: 640x320 1 liters, 1 meters, 10.5ms\n",
            "image 175/793 /content/drive/MyDrive/AI-meter-reading/pictures/37dbdf.jpg: 480x640 1 liters, 1 meters, 10.1ms\n",
            "image 176/793 /content/drive/MyDrive/AI-meter-reading/pictures/37e2a4.jpg: 480x640 1 liters, 1 meters, 9.7ms\n",
            "image 177/793 /content/drive/MyDrive/AI-meter-reading/pictures/380815.jpg: 480x640 1 liters, 1 meters, 9.3ms\n",
            "image 178/793 /content/drive/MyDrive/AI-meter-reading/pictures/38c6e8.jpg: 384x640 1 liters, 1 meters, 10.6ms\n",
            "image 179/793 /content/drive/MyDrive/AI-meter-reading/pictures/392ef4.jpg: 480x640 1 liters, 1 meters, 9.8ms\n",
            "image 180/793 /content/drive/MyDrive/AI-meter-reading/pictures/3a6fce.jpg: 480x640 1 liters, 1 meters, 9.0ms\n",
            "image 181/793 /content/drive/MyDrive/AI-meter-reading/pictures/3af34b.jpg: 480x640 1 liters, 1 meters, 9.2ms\n",
            "image 182/793 /content/drive/MyDrive/AI-meter-reading/pictures/3b0812.jpg: 480x640 1 liters, 1 meters, 10.4ms\n",
            "image 183/793 /content/drive/MyDrive/AI-meter-reading/pictures/3b0b1f.jpg: 480x640 1 liters, 1 meters, 9.3ms\n",
            "image 184/793 /content/drive/MyDrive/AI-meter-reading/pictures/3bc665.jpg: 640x480 1 liters, 1 meters, 11.0ms\n",
            "image 185/793 /content/drive/MyDrive/AI-meter-reading/pictures/3beb85.jpg: 480x640 1 liters, 1 meters, 9.4ms\n",
            "image 186/793 /content/drive/MyDrive/AI-meter-reading/pictures/3c95cc.jpg: 640x480 1 liters, 1 meters, 17.2ms\n",
            "image 187/793 /content/drive/MyDrive/AI-meter-reading/pictures/3cbf1c.jpg: 384x640 2 literss, 1 meters, 9.8ms\n",
            "image 188/793 /content/drive/MyDrive/AI-meter-reading/pictures/3e0ec1.jpg: 480x640 1 liters, 1 meters, 9.8ms\n",
            "image 189/793 /content/drive/MyDrive/AI-meter-reading/pictures/3e3a50.jpg: 640x480 (no detections), 12.6ms\n",
            "WARNING ⚠️ No meters detected.\n",
            "image 190/793 /content/drive/MyDrive/AI-meter-reading/pictures/3e7092.jpg: 640x480 1 liters, 1 meters, 9.2ms\n",
            "image 191/793 /content/drive/MyDrive/AI-meter-reading/pictures/3ea5d6.jpg: 640x480 1 liters, 1 meters, 9.1ms\n",
            "image 192/793 /content/drive/MyDrive/AI-meter-reading/pictures/3ef13c.jpg: 640x480 1 liters, 1 meters, 9.7ms\n",
            "image 193/793 /content/drive/MyDrive/AI-meter-reading/pictures/3f5ed0.jpg: 480x640 1 meters, 10.0ms\n",
            "image 194/793 /content/drive/MyDrive/AI-meter-reading/pictures/402039.jpg: 480x640 1 liters, 1 meters, 9.0ms\n",
            "image 195/793 /content/drive/MyDrive/AI-meter-reading/pictures/417dea.jpg: 480x640 1 liters, 2 meterss, 8.9ms\n",
            "image 196/793 /content/drive/MyDrive/AI-meter-reading/pictures/419611.jpg: 384x640 1 liters, 1 meters, 10.1ms\n",
            "image 197/793 /content/drive/MyDrive/AI-meter-reading/pictures/41bb58.jpg: 480x640 1 liters, 2 meterss, 10.4ms\n",
            "image 198/793 /content/drive/MyDrive/AI-meter-reading/pictures/425907.jpg: 480x640 1 liters, 9.7ms\n",
            "WARNING ⚠️ No meters detected.\n",
            "image 199/793 /content/drive/MyDrive/AI-meter-reading/pictures/42b0c6.jpg: 480x640 1 liters, 1 meters, 9.5ms\n",
            "image 200/793 /content/drive/MyDrive/AI-meter-reading/pictures/430e1c.jpg: 320x640 1 meters, 10.5ms\n",
            "image 201/793 /content/drive/MyDrive/AI-meter-reading/pictures/432351.jpg: 640x480 1 liters, 1 meters, 10.4ms\n",
            "image 202/793 /content/drive/MyDrive/AI-meter-reading/pictures/437944.jpg: 480x640 1 liters, 1 meters, 10.0ms\n",
            "image 203/793 /content/drive/MyDrive/AI-meter-reading/pictures/43b1fb.jpg: 640x480 1 liters, 1 meters, 10.6ms\n",
            "image 204/793 /content/drive/MyDrive/AI-meter-reading/pictures/43db92.jpg: 640x480 1 liters, 1 meters, 9.1ms\n",
            "image 205/793 /content/drive/MyDrive/AI-meter-reading/pictures/43f8b3.jpg: 480x640 1 liters, 1 meters, 13.4ms\n",
            "image 206/793 /content/drive/MyDrive/AI-meter-reading/pictures/457f70.jpg: 384x640 1 liters, 1 meters, 9.9ms\n",
            "image 207/793 /content/drive/MyDrive/AI-meter-reading/pictures/45eaf0.jpg: 480x640 1 liters, 1 meters, 12.7ms\n",
            "image 208/793 /content/drive/MyDrive/AI-meter-reading/pictures/4642e0.jpg: 384x640 1 liters, 12.5ms\n",
            "WARNING ⚠️ No meters detected.\n",
            "image 209/793 /content/drive/MyDrive/AI-meter-reading/pictures/464c6b.jpg: 480x640 1 liters, 1 meters, 22.9ms\n",
            "image 210/793 /content/drive/MyDrive/AI-meter-reading/pictures/46ad3b.jpg: 480x640 1 liters, 1 meters, 16.4ms\n",
            "image 211/793 /content/drive/MyDrive/AI-meter-reading/pictures/46fde3.jpg: 544x640 1 liters, 1 meters, 18.1ms\n",
            "image 212/793 /content/drive/MyDrive/AI-meter-reading/pictures/473c7a.jpg: 384x640 1 liters, 1 meters, 14.2ms\n",
            "image 213/793 /content/drive/MyDrive/AI-meter-reading/pictures/47832b.jpg: 480x640 1 liters, 20.6ms\n",
            "WARNING ⚠️ No meters detected.\n",
            "image 214/793 /content/drive/MyDrive/AI-meter-reading/pictures/4792cf.jpg: 480x640 1 liters, 1 meters, 12.5ms\n",
            "image 215/793 /content/drive/MyDrive/AI-meter-reading/pictures/48349f.jpg: 480x640 1 liters, 1 meters, 11.8ms\n",
            "image 216/793 /content/drive/MyDrive/AI-meter-reading/pictures/489d3d.jpg: 320x640 2 literss, 1 meters, 13.3ms\n",
            "image 217/793 /content/drive/MyDrive/AI-meter-reading/pictures/48a69d.jpg: 480x640 1 liters, 1 meters, 16.2ms\n",
            "image 218/793 /content/drive/MyDrive/AI-meter-reading/pictures/48bea7.jpg: 640x480 1 liters, 1 meters, 14.4ms\n",
            "image 219/793 /content/drive/MyDrive/AI-meter-reading/pictures/492d4e.jpg: 480x640 1 liters, 1 meters, 15.4ms\n",
            "image 220/793 /content/drive/MyDrive/AI-meter-reading/pictures/49820a.jpg: 640x480 1 liters, 1 meters, 14.5ms\n",
            "image 221/793 /content/drive/MyDrive/AI-meter-reading/pictures/498ebe.jpg: 480x640 1 liters, 1 meters, 15.0ms\n",
            "image 222/793 /content/drive/MyDrive/AI-meter-reading/pictures/4a0441.jpg: 480x640 (no detections), 13.7ms\n",
            "WARNING ⚠️ No meters detected.\n",
            "image 223/793 /content/drive/MyDrive/AI-meter-reading/pictures/4aefa8.jpg: 480x640 1 liters, 1 meters, 13.8ms\n",
            "image 224/793 /content/drive/MyDrive/AI-meter-reading/pictures/4b1339.jpg: 640x480 1 liters, 1 meters, 17.6ms\n",
            "image 225/793 /content/drive/MyDrive/AI-meter-reading/pictures/4b64c7.jpg: 384x640 1 liters, 1 meters, 15.6ms\n",
            "image 226/793 /content/drive/MyDrive/AI-meter-reading/pictures/4b8f33.jpg: 480x640 (no detections), 18.3ms\n",
            "WARNING ⚠️ No meters detected.\n",
            "image 227/793 /content/drive/MyDrive/AI-meter-reading/pictures/4c223a.jpg: 480x640 1 liters, 1 meters, 14.4ms\n",
            "image 228/793 /content/drive/MyDrive/AI-meter-reading/pictures/4c27a0.jpg: 640x480 1 meters, 15.3ms\n",
            "image 229/793 /content/drive/MyDrive/AI-meter-reading/pictures/4ccdc0.jpg: 640x480 1 liters, 1 meters, 14.5ms\n",
            "image 230/793 /content/drive/MyDrive/AI-meter-reading/pictures/4d0391.jpg: 480x640 1 liters, 1 meters, 16.8ms\n",
            "image 231/793 /content/drive/MyDrive/AI-meter-reading/pictures/4d5e50.jpg: 384x640 1 liters, 1 meters, 18.5ms\n",
            "image 232/793 /content/drive/MyDrive/AI-meter-reading/pictures/4d8ad9.jpg: 480x640 1 meters, 12.8ms\n",
            "image 233/793 /content/drive/MyDrive/AI-meter-reading/pictures/4e4858.jpg: 480x640 1 liters, 1 meters, 9.5ms\n",
            "image 234/793 /content/drive/MyDrive/AI-meter-reading/pictures/4e9620.jpg: 480x640 1 liters, 1 meters, 9.6ms\n",
            "image 235/793 /content/drive/MyDrive/AI-meter-reading/pictures/4f0739.jpg: 480x640 1 liters, 2 meterss, 8.8ms\n",
            "image 236/793 /content/drive/MyDrive/AI-meter-reading/pictures/4f099c.jpg: 480x640 1 liters, 1 meters, 9.6ms\n",
            "image 237/793 /content/drive/MyDrive/AI-meter-reading/pictures/4fc120.jpg: 480x640 6 literss, 2 meterss, 9.4ms\n",
            "image 238/793 /content/drive/MyDrive/AI-meter-reading/pictures/4fc143.jpg: 480x640 3 literss, 1 meters, 9.8ms\n",
            "image 239/793 /content/drive/MyDrive/AI-meter-reading/pictures/500334.jpg: 480x640 1 liters, 1 meters, 9.3ms\n",
            "image 240/793 /content/drive/MyDrive/AI-meter-reading/pictures/505176.jpg: 640x480 1 meters, 13.1ms\n",
            "image 241/793 /content/drive/MyDrive/AI-meter-reading/pictures/50553f.jpg: 640x640 1 liters, 10.1ms\n",
            "WARNING ⚠️ No meters detected.\n",
            "image 242/793 /content/drive/MyDrive/AI-meter-reading/pictures/516b43.jpg: 480x640 1 liters, 1 meters, 10.3ms\n",
            "image 243/793 /content/drive/MyDrive/AI-meter-reading/pictures/51b24a.jpg: 480x640 1 liters, 4 meterss, 10.5ms\n",
            "image 244/793 /content/drive/MyDrive/AI-meter-reading/pictures/5266b9.jpg: 480x640 1 liters, 1 meters, 9.3ms\n",
            "image 245/793 /content/drive/MyDrive/AI-meter-reading/pictures/532408.jpg: 640x480 1 liters, 1 meters, 10.7ms\n",
            "image 246/793 /content/drive/MyDrive/AI-meter-reading/pictures/534968.jpg: 640x640 2 literss, 1 meters, 11.0ms\n",
            "image 247/793 /content/drive/MyDrive/AI-meter-reading/pictures/536b85.jpg: 480x640 1 liters, 1 meters, 13.7ms\n",
            "image 248/793 /content/drive/MyDrive/AI-meter-reading/pictures/54d0ab.jpg: 640x384 1 liters, 1 meters, 12.7ms\n",
            "image 249/793 /content/drive/MyDrive/AI-meter-reading/pictures/5516eb.jpg: 480x640 1 meters, 9.7ms\n",
            "image 250/793 /content/drive/MyDrive/AI-meter-reading/pictures/553dda.jpg: 384x640 1 meters, 9.5ms\n",
            "image 251/793 /content/drive/MyDrive/AI-meter-reading/pictures/5549e5.jpg: 480x640 1 liters, 1 meters, 10.2ms\n",
            "image 252/793 /content/drive/MyDrive/AI-meter-reading/pictures/556de6.jpg: 480x640 1 liters, 1 meters, 9.4ms\n",
            "image 253/793 /content/drive/MyDrive/AI-meter-reading/pictures/55f087.jpg: 448x640 1 liters, 1 meters, 9.7ms\n",
            "image 254/793 /content/drive/MyDrive/AI-meter-reading/pictures/5660e2.jpg: 640x640 (no detections), 10.0ms\n",
            "WARNING ⚠️ No meters detected.\n",
            "image 255/793 /content/drive/MyDrive/AI-meter-reading/pictures/5683c2.jpg: 480x640 1 liters, 1 meters, 9.7ms\n",
            "image 256/793 /content/drive/MyDrive/AI-meter-reading/pictures/56eca8.jpg: 640x480 1 liters, 1 meters, 10.3ms\n",
            "image 257/793 /content/drive/MyDrive/AI-meter-reading/pictures/578047.jpg: 384x640 1 liters, 10.1ms\n",
            "WARNING ⚠️ No meters detected.\n",
            "image 258/793 /content/drive/MyDrive/AI-meter-reading/pictures/57c155.jpg: 544x640 1 liters, 1 meters, 11.0ms\n",
            "image 259/793 /content/drive/MyDrive/AI-meter-reading/pictures/57ef30.jpg: 320x640 1 liters, 1 meters, 10.2ms\n",
            "image 260/793 /content/drive/MyDrive/AI-meter-reading/pictures/581d64.jpg: 480x640 1 liters, 1 meters, 9.7ms\n",
            "image 261/793 /content/drive/MyDrive/AI-meter-reading/pictures/583b93.jpg: 512x640 1 liters, 1 meters, 47.5ms\n",
            "image 262/793 /content/drive/MyDrive/AI-meter-reading/pictures/587621.jpg: 480x640 1 liters, 1 meters, 10.1ms\n",
            "image 263/793 /content/drive/MyDrive/AI-meter-reading/pictures/58d982.jpg: 384x640 1 liters, 1 meters, 12.9ms\n",
            "image 264/793 /content/drive/MyDrive/AI-meter-reading/pictures/598204.jpg: 480x640 1 liters, 1 meters, 10.2ms\n",
            "image 265/793 /content/drive/MyDrive/AI-meter-reading/pictures/5a5105.jpg: 480x640 1 liters, 1 meters, 9.1ms\n",
            "image 266/793 /content/drive/MyDrive/AI-meter-reading/pictures/5ab82d.jpg: 320x640 1 liters, 1 meters, 10.7ms\n",
            "image 267/793 /content/drive/MyDrive/AI-meter-reading/pictures/5ac118.jpg: 480x640 1 liters, 1 meters, 10.4ms\n",
            "image 268/793 /content/drive/MyDrive/AI-meter-reading/pictures/5ae8ef.jpg: 640x320 1 liters, 1 meters, 10.3ms\n",
            "image 269/793 /content/drive/MyDrive/AI-meter-reading/pictures/5af86f.jpg: 480x640 1 liters, 1 meters, 12.1ms\n",
            "image 270/793 /content/drive/MyDrive/AI-meter-reading/pictures/5b4295.jpg: 480x640 1 liters, 1 meters, 10.1ms\n",
            "image 271/793 /content/drive/MyDrive/AI-meter-reading/pictures/5b5846.jpg: 480x640 1 liters, 1 meters, 9.0ms\n",
            "image 272/793 /content/drive/MyDrive/AI-meter-reading/pictures/5b630f.jpg: 640x480 1 liters, 1 meters, 9.5ms\n",
            "image 273/793 /content/drive/MyDrive/AI-meter-reading/pictures/5b7fc1.jpg: 384x640 1 meters, 10.0ms\n",
            "image 274/793 /content/drive/MyDrive/AI-meter-reading/pictures/5b9884.jpg: 640x480 1 liters, 1 meters, 13.9ms\n",
            "image 275/793 /content/drive/MyDrive/AI-meter-reading/pictures/5bc52c.jpg: 480x640 1 liters, 3 meterss, 9.8ms\n",
            "image 276/793 /content/drive/MyDrive/AI-meter-reading/pictures/5c1da5.jpg: 640x480 1 liters, 1 meters, 9.9ms\n",
            "image 277/793 /content/drive/MyDrive/AI-meter-reading/pictures/5c708e.jpg: 640x512 1 liters, 1 meters, 14.4ms\n",
            "image 278/793 /content/drive/MyDrive/AI-meter-reading/pictures/5c7106.jpg: 640x384 1 liters, 1 meters, 10.4ms\n",
            "image 279/793 /content/drive/MyDrive/AI-meter-reading/pictures/5d0b22.jpg: 480x640 1 liters, 1 meters, 10.7ms\n",
            "image 280/793 /content/drive/MyDrive/AI-meter-reading/pictures/5d3605.jpg: 448x640 1 liters, 1 meters, 9.8ms\n",
            "image 281/793 /content/drive/MyDrive/AI-meter-reading/pictures/5e5ad4.jpg: 480x640 2 meterss, 10.6ms\n",
            "image 282/793 /content/drive/MyDrive/AI-meter-reading/pictures/5e84f0.jpg: 608x640 1 liters, 1 meters, 52.0ms\n",
            "image 283/793 /content/drive/MyDrive/AI-meter-reading/pictures/601a9f.jpg: 480x640 1 liters, 1 meters, 10.6ms\n",
            "image 284/793 /content/drive/MyDrive/AI-meter-reading/pictures/602c71.jpg: 480x640 1 liters, 2 meterss, 9.5ms\n",
            "image 285/793 /content/drive/MyDrive/AI-meter-reading/pictures/61082a.jpg: 640x384 1 liters, 1 meters, 10.4ms\n",
            "image 286/793 /content/drive/MyDrive/AI-meter-reading/pictures/61d3e1.jpg: 640x384 1 liters, 1 meters, 9.8ms\n",
            "image 287/793 /content/drive/MyDrive/AI-meter-reading/pictures/621baa.jpg: 384x640 1 liters, 1 meters, 22.5ms\n",
            "image 288/793 /content/drive/MyDrive/AI-meter-reading/pictures/628be4.jpg: 480x640 (no detections), 11.3ms\n",
            "WARNING ⚠️ No meters detected.\n",
            "image 289/793 /content/drive/MyDrive/AI-meter-reading/pictures/6299b8.jpg: 384x640 1 liters, 2 meterss, 10.3ms\n",
            "image 290/793 /content/drive/MyDrive/AI-meter-reading/pictures/631f90.jpg: 640x480 1 liters, 1 meters, 9.9ms\n",
            "image 291/793 /content/drive/MyDrive/AI-meter-reading/pictures/64043c.jpg: 384x640 1 liters, 1 meters, 10.1ms\n",
            "image 292/793 /content/drive/MyDrive/AI-meter-reading/pictures/647351.jpg: 480x640 1 liters, 1 meters, 9.7ms\n",
            "image 293/793 /content/drive/MyDrive/AI-meter-reading/pictures/64e752.jpg: 480x640 1 liters, 1 meters, 9.0ms\n",
            "image 294/793 /content/drive/MyDrive/AI-meter-reading/pictures/651a95.jpg: 480x640 1 liters, 1 meters, 9.7ms\n",
            "image 295/793 /content/drive/MyDrive/AI-meter-reading/pictures/653ba5.jpg: 480x640 1 liters, 1 meters, 8.8ms\n",
            "image 296/793 /content/drive/MyDrive/AI-meter-reading/pictures/660f33.jpg: 480x640 1 liters, 1 meters, 9.3ms\n",
            "image 297/793 /content/drive/MyDrive/AI-meter-reading/pictures/66600c.jpg: 480x640 1 liters, 1 meters, 9.5ms\n",
            "image 298/793 /content/drive/MyDrive/AI-meter-reading/pictures/6714f2.jpg: 640x480 1 liters, 1 meters, 10.7ms\n",
            "image 299/793 /content/drive/MyDrive/AI-meter-reading/pictures/674069.jpg: 480x640 1 liters, 2 meterss, 9.7ms\n",
            "image 300/793 /content/drive/MyDrive/AI-meter-reading/pictures/6750e5.jpg: 640x480 (no detections), 12.7ms\n",
            "WARNING ⚠️ No meters detected.\n",
            "image 301/793 /content/drive/MyDrive/AI-meter-reading/pictures/679988.jpg: 640x640 1 liters, 1 meters, 14.9ms\n",
            "image 302/793 /content/drive/MyDrive/AI-meter-reading/pictures/67a2ed.jpg: 448x640 1 meters, 14.4ms\n",
            "image 303/793 /content/drive/MyDrive/AI-meter-reading/pictures/688e25.jpg: 480x640 1 liters, 2 meterss, 15.1ms\n",
            "image 304/793 /content/drive/MyDrive/AI-meter-reading/pictures/6a09b5.jpg: 480x640 1 liters, 1 meters, 17.6ms\n",
            "image 305/793 /content/drive/MyDrive/AI-meter-reading/pictures/6ad7e9.jpg: 480x640 1 liters, 1 meters, 12.3ms\n",
            "image 306/793 /content/drive/MyDrive/AI-meter-reading/pictures/6b02be.jpg: 640x384 1 liters, 1 meters, 18.2ms\n",
            "image 307/793 /content/drive/MyDrive/AI-meter-reading/pictures/6b68c2.jpg: 480x640 1 liters, 1 meters, 13.0ms\n",
            "image 308/793 /content/drive/MyDrive/AI-meter-reading/pictures/6b6b96.jpg: 640x384 1 liters, 1 meters, 13.3ms\n",
            "image 309/793 /content/drive/MyDrive/AI-meter-reading/pictures/6b7360.jpg: 480x640 1 liters, 1 meters, 15.8ms\n",
            "image 310/793 /content/drive/MyDrive/AI-meter-reading/pictures/6b918b.jpg: 640x512 1 meters, 12.2ms\n",
            "image 311/793 /content/drive/MyDrive/AI-meter-reading/pictures/6baec4.jpg: 480x640 1 liters, 1 meters, 12.3ms\n",
            "image 312/793 /content/drive/MyDrive/AI-meter-reading/pictures/6bdb82.jpg: 480x640 1 liters, 1 meters, 11.6ms\n",
            "image 313/793 /content/drive/MyDrive/AI-meter-reading/pictures/6bf1d8.jpg: 480x640 1 liters, 2 meterss, 13.8ms\n",
            "image 314/793 /content/drive/MyDrive/AI-meter-reading/pictures/6c9ea3.jpg: 480x640 1 liters, 1 meters, 13.9ms\n",
            "image 315/793 /content/drive/MyDrive/AI-meter-reading/pictures/6ca8eb.jpg: 480x640 1 liters, 1 meters, 14.5ms\n",
            "image 316/793 /content/drive/MyDrive/AI-meter-reading/pictures/6caf66.jpg: 480x640 1 liters, 1 meters, 17.9ms\n",
            "image 317/793 /content/drive/MyDrive/AI-meter-reading/pictures/6cfe70.jpg: 480x640 1 liters, 1 meters, 35.9ms\n",
            "image 318/793 /content/drive/MyDrive/AI-meter-reading/pictures/6d3f44.jpg: 640x480 1 meters, 14.7ms\n",
            "image 319/793 /content/drive/MyDrive/AI-meter-reading/pictures/6ed5b2.jpg: 480x640 1 liters, 2 meterss, 21.1ms\n",
            "image 320/793 /content/drive/MyDrive/AI-meter-reading/pictures/6ef503.jpg: 480x640 1 liters, 1 meters, 13.5ms\n",
            "image 321/793 /content/drive/MyDrive/AI-meter-reading/pictures/6efc38.jpg: 640x384 1 liters, 1 meters, 22.8ms\n",
            "image 322/793 /content/drive/MyDrive/AI-meter-reading/pictures/6f2546.jpg: 480x640 1 liters, 1 meters, 13.9ms\n",
            "image 323/793 /content/drive/MyDrive/AI-meter-reading/pictures/6f9fed.jpg: 640x480 1 liters, 1 meters, 10.1ms\n",
            "image 324/793 /content/drive/MyDrive/AI-meter-reading/pictures/6faa84.jpg: 480x640 1 liters, 1 meters, 10.0ms\n",
            "image 325/793 /content/drive/MyDrive/AI-meter-reading/pictures/6fb2f1.jpg: 480x640 1 liters, 1 meters, 9.2ms\n",
            "image 326/793 /content/drive/MyDrive/AI-meter-reading/pictures/6fce9c.jpg: 320x640 1 liters, 1 meters, 10.7ms\n",
            "image 327/793 /content/drive/MyDrive/AI-meter-reading/pictures/70885d.jpg: 480x640 1 liters, 1 meters, 9.8ms\n",
            "image 328/793 /content/drive/MyDrive/AI-meter-reading/pictures/70a4d3.jpg: 480x640 1 liters, 1 meters, 9.2ms\n",
            "image 329/793 /content/drive/MyDrive/AI-meter-reading/pictures/71311a.jpg: 640x576 1 liters, 1 meters, 11.7ms\n",
            "image 330/793 /content/drive/MyDrive/AI-meter-reading/pictures/716392.jpg: 480x640 1 liters, 2 meterss, 11.2ms\n",
            "image 331/793 /content/drive/MyDrive/AI-meter-reading/pictures/71bcac.jpg: 512x640 1 liters, 11.7ms\n",
            "WARNING ⚠️ No meters detected.\n",
            "image 332/793 /content/drive/MyDrive/AI-meter-reading/pictures/71f4ed.jpg: 384x640 (no detections), 10.1ms\n",
            "WARNING ⚠️ No meters detected.\n",
            "image 333/793 /content/drive/MyDrive/AI-meter-reading/pictures/720e3f.jpg: 480x640 1 liters, 1 meters, 10.3ms\n",
            "image 334/793 /content/drive/MyDrive/AI-meter-reading/pictures/721d69.jpg: 384x640 1 liters, 1 meters, 10.1ms\n",
            "image 335/793 /content/drive/MyDrive/AI-meter-reading/pictures/721fe1.jpg: 480x640 1 liters, 1 meters, 10.0ms\n",
            "image 336/793 /content/drive/MyDrive/AI-meter-reading/pictures/72c553.jpg: 384x640 1 liters, 1 meters, 10.3ms\n",
            "image 337/793 /content/drive/MyDrive/AI-meter-reading/pictures/72c96f.jpg: 640x480 1 liters, 1 meters, 11.1ms\n",
            "image 338/793 /content/drive/MyDrive/AI-meter-reading/pictures/72fd80.jpg: 384x640 1 liters, 1 meters, 10.1ms\n",
            "image 339/793 /content/drive/MyDrive/AI-meter-reading/pictures/734ea9.jpg: 384x640 1 liters, 1 meters, 9.6ms\n",
            "image 340/793 /content/drive/MyDrive/AI-meter-reading/pictures/738ac9.jpg: 480x640 1 liters, 1 meters, 10.6ms\n",
            "image 341/793 /content/drive/MyDrive/AI-meter-reading/pictures/73ae12.jpg: 480x640 2 literss, 1 meters, 9.5ms\n",
            "image 342/793 /content/drive/MyDrive/AI-meter-reading/pictures/74a7c8.jpg: 640x384 1 liters, 1 meters, 9.9ms\n",
            "image 343/793 /content/drive/MyDrive/AI-meter-reading/pictures/75a9d5.jpg: 576x640 1 liters, 1 meters, 42.8ms\n",
            "image 344/793 /content/drive/MyDrive/AI-meter-reading/pictures/760eb5.jpg: 480x640 1 liters, 1 meters, 9.9ms\n",
            "image 345/793 /content/drive/MyDrive/AI-meter-reading/pictures/763bde.jpg: 480x640 1 liters, 1 meters, 12.3ms\n",
            "image 346/793 /content/drive/MyDrive/AI-meter-reading/pictures/766d82.jpg: 640x576 1 liters, 1 meters, 9.8ms\n",
            "image 347/793 /content/drive/MyDrive/AI-meter-reading/pictures/76ab88.jpg: 480x640 1 liters, 1 meters, 18.8ms\n",
            "image 348/793 /content/drive/MyDrive/AI-meter-reading/pictures/76afe5.jpg: 320x640 1 liters, 2 meterss, 14.1ms\n",
            "image 349/793 /content/drive/MyDrive/AI-meter-reading/pictures/76de68.jpg: 480x640 1 meters, 14.1ms\n",
            "image 350/793 /content/drive/MyDrive/AI-meter-reading/pictures/772d29.jpg: 480x640 1 liters, 1 meters, 8.8ms\n",
            "image 351/793 /content/drive/MyDrive/AI-meter-reading/pictures/7798af.jpg: 480x640 1 liters, 2 meterss, 9.2ms\n",
            "image 352/793 /content/drive/MyDrive/AI-meter-reading/pictures/77b250.jpg: 384x640 2 literss, 1 meters, 15.4ms\n",
            "image 353/793 /content/drive/MyDrive/AI-meter-reading/pictures/77d6fe.jpg: 480x640 1 liters, 1 meters, 10.0ms\n",
            "image 354/793 /content/drive/MyDrive/AI-meter-reading/pictures/77d9a4.jpg: 640x384 1 liters, 10.2ms\n",
            "WARNING ⚠️ No meters detected.\n",
            "image 355/793 /content/drive/MyDrive/AI-meter-reading/pictures/7859fe.jpg: 480x640 1 liters, 1 meters, 10.0ms\n",
            "image 356/793 /content/drive/MyDrive/AI-meter-reading/pictures/787058.jpg: 384x640 1 liters, 1 meters, 9.8ms\n",
            "image 357/793 /content/drive/MyDrive/AI-meter-reading/pictures/788d13.jpg: 640x640 2 literss, 2 meterss, 9.4ms\n",
            "image 358/793 /content/drive/MyDrive/AI-meter-reading/pictures/78f567.jpg: 480x640 1 liters, 1 meters, 9.6ms\n",
            "image 359/793 /content/drive/MyDrive/AI-meter-reading/pictures/78fbf9.jpg: 480x640 1 liters, 1 meters, 8.9ms\n",
            "image 360/793 /content/drive/MyDrive/AI-meter-reading/pictures/792cd1.jpg: 480x640 1 liters, 3 meterss, 12.5ms\n",
            "image 361/793 /content/drive/MyDrive/AI-meter-reading/pictures/79ecf1.jpg: 480x640 1 liters, 2 meterss, 8.9ms\n",
            "image 362/793 /content/drive/MyDrive/AI-meter-reading/pictures/79fcc1.jpg: 384x640 1 liters, 1 meters, 15.3ms\n",
            "image 363/793 /content/drive/MyDrive/AI-meter-reading/pictures/7a02a4.jpg: 384x640 1 liters, 1 meters, 9.9ms\n",
            "image 364/793 /content/drive/MyDrive/AI-meter-reading/pictures/7ad598.jpg: 640x608 1 liters, 1 meters, 41.6ms\n",
            "image 365/793 /content/drive/MyDrive/AI-meter-reading/pictures/7b1ecc.jpg: 480x640 1 meters, 10.0ms\n",
            "image 366/793 /content/drive/MyDrive/AI-meter-reading/pictures/7bbb2d.jpg: 640x384 1 liters, 1 meters, 9.8ms\n",
            "image 367/793 /content/drive/MyDrive/AI-meter-reading/pictures/7bf2e3.jpg: 640x576 1 liters, 1 meters, 9.8ms\n",
            "image 368/793 /content/drive/MyDrive/AI-meter-reading/pictures/7c00b7.jpg: 640x640 1 liters, 1 meters, 10.0ms\n",
            "image 369/793 /content/drive/MyDrive/AI-meter-reading/pictures/7c5f75.jpg: 480x640 1 liters, 1 meters, 22.5ms\n",
            "image 370/793 /content/drive/MyDrive/AI-meter-reading/pictures/7c62d4.jpg: 384x640 1 liters, 1 meters, 73.1ms\n",
            "image 371/793 /content/drive/MyDrive/AI-meter-reading/pictures/7c76e1.jpg: 640x384 1 liters, 1 meters, 24.1ms\n",
            "image 372/793 /content/drive/MyDrive/AI-meter-reading/pictures/7cb139.jpg: 480x640 1 liters, 1 meters, 34.5ms\n",
            "image 373/793 /content/drive/MyDrive/AI-meter-reading/pictures/7ce3d4.jpg: 608x640 2 literss, 1 meters, 54.8ms\n",
            "image 374/793 /content/drive/MyDrive/AI-meter-reading/pictures/7d4ce9.jpg: 640x480 1 liters, 1 meters, 54.9ms\n",
            "image 375/793 /content/drive/MyDrive/AI-meter-reading/pictures/7d8bee.jpg: 480x640 1 liters, 1 meters, 15.8ms\n",
            "image 376/793 /content/drive/MyDrive/AI-meter-reading/pictures/7dfd57.jpg: 480x640 1 liters, 1 meters, 33.1ms\n",
            "image 377/793 /content/drive/MyDrive/AI-meter-reading/pictures/7e3627.jpg: 480x640 1 meters, 20.9ms\n",
            "image 378/793 /content/drive/MyDrive/AI-meter-reading/pictures/7e609e.jpg: 480x640 1 liters, 1 meters, 12.7ms\n",
            "image 379/793 /content/drive/MyDrive/AI-meter-reading/pictures/7f674b.jpg: 640x480 1 liters, 2 meterss, 13.3ms\n",
            "image 380/793 /content/drive/MyDrive/AI-meter-reading/pictures/7f7ef1.jpg: 480x640 1 liters, 1 meters, 13.3ms\n",
            "image 381/793 /content/drive/MyDrive/AI-meter-reading/pictures/7f867c.jpg: 384x640 1 liters, 16.8ms\n",
            "WARNING ⚠️ No meters detected.\n",
            "image 382/793 /content/drive/MyDrive/AI-meter-reading/pictures/7f8ec9.jpg: 480x640 1 liters, 1 meters, 12.9ms\n",
            "image 383/793 /content/drive/MyDrive/AI-meter-reading/pictures/7fc20f.jpg: 640x608 (no detections), 12.8ms\n",
            "WARNING ⚠️ No meters detected.\n",
            "image 384/793 /content/drive/MyDrive/AI-meter-reading/pictures/7fd9c1.jpg: 480x640 1 liters, 2 meterss, 13.8ms\n",
            "image 385/793 /content/drive/MyDrive/AI-meter-reading/pictures/80245e.jpg: 640x384 (no detections), 14.2ms\n",
            "WARNING ⚠️ No meters detected.\n",
            "image 386/793 /content/drive/MyDrive/AI-meter-reading/pictures/804de7.jpg: 640x480 1 liters, 1 meters, 19.4ms\n",
            "image 387/793 /content/drive/MyDrive/AI-meter-reading/pictures/805fe2.jpg: 640x480 1 liters, 1 meters, 18.0ms\n",
            "image 388/793 /content/drive/MyDrive/AI-meter-reading/pictures/806f01.jpg: 480x640 (no detections), 14.0ms\n",
            "WARNING ⚠️ No meters detected.\n",
            "image 389/793 /content/drive/MyDrive/AI-meter-reading/pictures/80c340.jpg: 480x640 1 liters, 1 meters, 14.5ms\n",
            "image 390/793 /content/drive/MyDrive/AI-meter-reading/pictures/811d0a.jpg: 480x640 3 literss, 1 meters, 16.8ms\n",
            "image 391/793 /content/drive/MyDrive/AI-meter-reading/pictures/816a5e.jpg: 640x320 1 liters, 1 meters, 14.9ms\n",
            "image 392/793 /content/drive/MyDrive/AI-meter-reading/pictures/817001.jpg: 640x640 1 liters, 1 meters, 16.9ms\n",
            "image 393/793 /content/drive/MyDrive/AI-meter-reading/pictures/818ba6.jpg: 640x480 1 liters, 1 meters, 14.9ms\n",
            "image 394/793 /content/drive/MyDrive/AI-meter-reading/pictures/831432.jpg: 384x640 1 liters, 1 meters, 19.1ms\n",
            "image 395/793 /content/drive/MyDrive/AI-meter-reading/pictures/835cf1.jpg: 640x480 1 liters, 1 meters, 17.0ms\n",
            "image 396/793 /content/drive/MyDrive/AI-meter-reading/pictures/8390ba.jpg: 480x640 1 liters, 1 meters, 15.1ms\n",
            "image 397/793 /content/drive/MyDrive/AI-meter-reading/pictures/84acc1.jpg: 640x480 1 liters, 1 meters, 18.1ms\n",
            "image 398/793 /content/drive/MyDrive/AI-meter-reading/pictures/84b82e.jpg: 480x640 1 liters, 1 meters, 20.1ms\n",
            "image 399/793 /content/drive/MyDrive/AI-meter-reading/pictures/84e6b9.jpg: 640x384 1 meters, 9.8ms\n",
            "image 400/793 /content/drive/MyDrive/AI-meter-reading/pictures/84eda1.jpg: 480x640 1 liters, 1 meters, 10.2ms\n",
            "image 401/793 /content/drive/MyDrive/AI-meter-reading/pictures/857871.jpg: 480x640 1 liters, 1 meters, 9.2ms\n",
            "image 402/793 /content/drive/MyDrive/AI-meter-reading/pictures/85849b.jpg: 480x640 1 liters, 1 meters, 12.1ms\n",
            "image 403/793 /content/drive/MyDrive/AI-meter-reading/pictures/8592e2.jpg: 480x640 1 liters, 1 meters, 9.2ms\n",
            "image 404/793 /content/drive/MyDrive/AI-meter-reading/pictures/861181.jpg: 384x640 1 liters, 1 meters, 10.4ms\n",
            "image 405/793 /content/drive/MyDrive/AI-meter-reading/pictures/866a9a.jpg: 480x640 1 liters, 1 meters, 17.2ms\n",
            "image 406/793 /content/drive/MyDrive/AI-meter-reading/pictures/86af82.jpg: 480x640 1 liters, 1 meters, 10.0ms\n",
            "image 407/793 /content/drive/MyDrive/AI-meter-reading/pictures/86dffb.jpg: 640x480 1 liters, 1 meters, 9.9ms\n",
            "image 408/793 /content/drive/MyDrive/AI-meter-reading/pictures/875512.jpg: 544x640 1 liters, 1 meters, 9.9ms\n",
            "image 409/793 /content/drive/MyDrive/AI-meter-reading/pictures/87ae23.jpg: 480x640 1 liters, 1 meters, 9.7ms\n",
            "image 410/793 /content/drive/MyDrive/AI-meter-reading/pictures/8891f9.jpg: 640x640 2 meterss, 9.5ms\n",
            "image 411/793 /content/drive/MyDrive/AI-meter-reading/pictures/8953ff.jpg: 384x640 1 liters, 1 meters, 10.5ms\n",
            "image 412/793 /content/drive/MyDrive/AI-meter-reading/pictures/8ad377.jpg: 480x640 1 liters, 1 meters, 9.8ms\n",
            "image 413/793 /content/drive/MyDrive/AI-meter-reading/pictures/8ba70b.jpg: 384x640 3 literss, 1 meters, 10.3ms\n",
            "image 414/793 /content/drive/MyDrive/AI-meter-reading/pictures/8bf080.jpg: 640x320 1 liters, 1 meters, 9.9ms\n",
            "image 415/793 /content/drive/MyDrive/AI-meter-reading/pictures/8ce257.jpg: 640x480 1 liters, 1 meters, 10.0ms\n",
            "image 416/793 /content/drive/MyDrive/AI-meter-reading/pictures/8ce927.jpg: 384x640 1 liters, 1 meters, 10.5ms\n",
            "image 417/793 /content/drive/MyDrive/AI-meter-reading/pictures/8d4c31.jpg: 480x640 1 liters, 1 meters, 9.9ms\n",
            "image 418/793 /content/drive/MyDrive/AI-meter-reading/pictures/8d81fa.jpg: 384x640 1 liters, 1 meters, 16.8ms\n",
            "image 419/793 /content/drive/MyDrive/AI-meter-reading/pictures/8d929e.jpg: 480x640 1 liters, 1 meters, 10.0ms\n",
            "image 420/793 /content/drive/MyDrive/AI-meter-reading/pictures/8db156.jpg: 480x640 1 liters, 1 meters, 9.5ms\n",
            "image 421/793 /content/drive/MyDrive/AI-meter-reading/pictures/8e8618.jpg: 480x640 1 meters, 9.4ms\n",
            "image 422/793 /content/drive/MyDrive/AI-meter-reading/pictures/8edaa4.jpg: 480x640 1 liters, 1 meters, 14.2ms\n",
            "image 423/793 /content/drive/MyDrive/AI-meter-reading/pictures/8f18cb.jpg: 480x640 1 liters, 1 meters, 9.5ms\n",
            "image 424/793 /content/drive/MyDrive/AI-meter-reading/pictures/8f3de1.jpg: 480x640 1 liters, 1 meters, 9.5ms\n",
            "image 425/793 /content/drive/MyDrive/AI-meter-reading/pictures/8f52ae.jpg: 640x480 1 liters, 1 meters, 10.3ms\n",
            "image 426/793 /content/drive/MyDrive/AI-meter-reading/pictures/8f692b.jpg: 640x384 1 liters, 1 meters, 11.7ms\n",
            "image 427/793 /content/drive/MyDrive/AI-meter-reading/pictures/8fb787.jpg: 384x640 1 liters, 1 meters, 10.1ms\n",
            "image 428/793 /content/drive/MyDrive/AI-meter-reading/pictures/9040be.jpg: 448x640 1 liters, 1 meters, 10.0ms\n",
            "image 429/793 /content/drive/MyDrive/AI-meter-reading/pictures/90a6f3.jpg: 384x640 1 liters, 10.0ms\n",
            "WARNING ⚠️ No meters detected.\n",
            "image 430/793 /content/drive/MyDrive/AI-meter-reading/pictures/90cedf.jpg: 480x640 1 liters, 1 meters, 13.6ms\n",
            "image 431/793 /content/drive/MyDrive/AI-meter-reading/pictures/90e3a9.jpg: 480x640 1 liters, 1 meters, 10.1ms\n",
            "image 432/793 /content/drive/MyDrive/AI-meter-reading/pictures/90eff9.jpg: 480x640 1 liters, 1 meters, 9.2ms\n",
            "image 433/793 /content/drive/MyDrive/AI-meter-reading/pictures/90f78f.jpg: 480x640 1 liters, 3 meterss, 10.4ms\n",
            "image 434/793 /content/drive/MyDrive/AI-meter-reading/pictures/912ff1.jpg: 480x640 1 meters, 12.9ms\n",
            "image 435/793 /content/drive/MyDrive/AI-meter-reading/pictures/91f9ae.jpg: 384x640 1 liters, 1 meters, 26.2ms\n",
            "image 436/793 /content/drive/MyDrive/AI-meter-reading/pictures/92c418.jpg: 384x640 1 liters, 1 meters, 9.2ms\n",
            "image 437/793 /content/drive/MyDrive/AI-meter-reading/pictures/92ea78.jpg: 480x640 1 liters, 1 meters, 10.6ms\n",
            "image 438/793 /content/drive/MyDrive/AI-meter-reading/pictures/9336de.jpg: 480x640 2 literss, 1 meters, 9.6ms\n",
            "image 439/793 /content/drive/MyDrive/AI-meter-reading/pictures/93739a.jpg: 480x640 1 liters, 1 meters, 9.2ms\n",
            "image 440/793 /content/drive/MyDrive/AI-meter-reading/pictures/93b97f.jpg: 640x512 1 liters, 1 meters, 9.8ms\n",
            "image 441/793 /content/drive/MyDrive/AI-meter-reading/pictures/93c5fd.jpg: 640x384 1 liters, 1 meters, 10.2ms\n",
            "image 442/793 /content/drive/MyDrive/AI-meter-reading/pictures/945901.jpg: 480x640 1 liters, 1 meters, 9.9ms\n",
            "image 443/793 /content/drive/MyDrive/AI-meter-reading/pictures/951f5d.jpg: 448x640 1 liters, 1 meters, 12.7ms\n",
            "image 444/793 /content/drive/MyDrive/AI-meter-reading/pictures/952265.jpg: 384x640 1 liters, 1 meters, 14.7ms\n",
            "image 445/793 /content/drive/MyDrive/AI-meter-reading/pictures/952423.jpg: 480x640 1 liters, 1 meters, 10.3ms\n",
            "image 446/793 /content/drive/MyDrive/AI-meter-reading/pictures/962993.jpg: 480x640 1 liters, 1 meters, 9.3ms\n",
            "image 447/793 /content/drive/MyDrive/AI-meter-reading/pictures/96a1aa.jpg: 384x640 1 liters, 1 meters, 9.9ms\n",
            "image 448/793 /content/drive/MyDrive/AI-meter-reading/pictures/96d4dd.jpg: 480x640 1 liters, 2 meterss, 10.1ms\n",
            "image 449/793 /content/drive/MyDrive/AI-meter-reading/pictures/974838.jpg: 480x640 1 liters, 9.2ms\n",
            "WARNING ⚠️ No meters detected.\n",
            "image 450/793 /content/drive/MyDrive/AI-meter-reading/pictures/979038.jpg: 480x640 2 meterss, 9.2ms\n",
            "image 451/793 /content/drive/MyDrive/AI-meter-reading/pictures/97b1ef.jpg: 480x640 1 liters, 1 meters, 10.9ms\n",
            "image 452/793 /content/drive/MyDrive/AI-meter-reading/pictures/97b43a.jpg: 448x640 1 liters, 1 meters, 15.6ms\n",
            "image 453/793 /content/drive/MyDrive/AI-meter-reading/pictures/97cf68.jpg: 384x640 1 liters, 1 meters, 10.9ms\n",
            "image 454/793 /content/drive/MyDrive/AI-meter-reading/pictures/97f447.jpg: 640x480 1 liters, 1 meters, 10.0ms\n",
            "image 455/793 /content/drive/MyDrive/AI-meter-reading/pictures/9831a0.jpg: 480x640 1 liters, 1 meters, 10.1ms\n",
            "image 456/793 /content/drive/MyDrive/AI-meter-reading/pictures/986f33.jpg: 480x640 1 liters, 1 meters, 10.6ms\n",
            "image 457/793 /content/drive/MyDrive/AI-meter-reading/pictures/98735a.jpg: 384x640 1 liters, 1 meters, 14.7ms\n",
            "image 458/793 /content/drive/MyDrive/AI-meter-reading/pictures/987606.jpg: 640x480 1 liters, 1 meters, 9.9ms\n",
            "image 459/793 /content/drive/MyDrive/AI-meter-reading/pictures/9895ad.jpg: 640x640 1 liters, 1 meters, 9.9ms\n",
            "image 460/793 /content/drive/MyDrive/AI-meter-reading/pictures/98a5a0.jpg: 384x640 1 liters, 2 meterss, 17.0ms\n",
            "image 461/793 /content/drive/MyDrive/AI-meter-reading/pictures/98ac13.jpg: 480x640 1 liters, 1 meters, 17.4ms\n",
            "image 462/793 /content/drive/MyDrive/AI-meter-reading/pictures/98e81c.jpg: 640x480 1 liters, 1 meters, 15.3ms\n",
            "image 463/793 /content/drive/MyDrive/AI-meter-reading/pictures/98f2fb.jpg: 480x640 2 literss, 1 meters, 13.3ms\n",
            "image 464/793 /content/drive/MyDrive/AI-meter-reading/pictures/99a176.jpg: 640x384 1 liters, 1 meters, 13.5ms\n",
            "image 465/793 /content/drive/MyDrive/AI-meter-reading/pictures/99cea3.jpg: 480x640 1 liters, 2 meterss, 13.7ms\n",
            "image 466/793 /content/drive/MyDrive/AI-meter-reading/pictures/99f975.jpg: 640x480 1 liters, 1 meters, 13.6ms\n",
            "image 467/793 /content/drive/MyDrive/AI-meter-reading/pictures/9a5a63.jpg: 480x640 1 liters, 1 meters, 17.6ms\n",
            "image 468/793 /content/drive/MyDrive/AI-meter-reading/pictures/9a9955.jpg: 384x640 1 liters, 1 meters, 17.1ms\n",
            "image 469/793 /content/drive/MyDrive/AI-meter-reading/pictures/9a9e70.jpg: 480x640 1 liters, 1 meters, 14.5ms\n",
            "image 470/793 /content/drive/MyDrive/AI-meter-reading/pictures/9ab3c5.jpg: 480x640 1 liters, 1 meters, 15.3ms\n",
            "image 471/793 /content/drive/MyDrive/AI-meter-reading/pictures/9b8b61.jpg: 640x640 1 liters, 1 meters, 36.1ms\n",
            "image 472/793 /content/drive/MyDrive/AI-meter-reading/pictures/9b960d.jpg: 480x640 1 liters, 1 meters, 34.9ms\n",
            "image 473/793 /content/drive/MyDrive/AI-meter-reading/pictures/9bb60b.jpg: 640x384 1 liters, 1 meters, 10.2ms\n",
            "image 474/793 /content/drive/MyDrive/AI-meter-reading/pictures/9bd67d.jpg: 480x640 1 liters, 1 meters, 10.8ms\n",
            "image 475/793 /content/drive/MyDrive/AI-meter-reading/pictures/9bea1d.jpg: 384x640 2 meterss, 10.5ms\n",
            "image 476/793 /content/drive/MyDrive/AI-meter-reading/pictures/9c1549.jpg: 480x640 2 meterss, 9.4ms\n",
            "image 477/793 /content/drive/MyDrive/AI-meter-reading/pictures/9c7efe.jpg: 480x640 1 liters, 1 meters, 10.5ms\n",
            "image 478/793 /content/drive/MyDrive/AI-meter-reading/pictures/9cdf58.jpg: 512x640 1 liters, 1 meters, 10.0ms\n",
            "image 479/793 /content/drive/MyDrive/AI-meter-reading/pictures/9d6eb5.jpg: 640x480 1 liters, 1 meters, 10.8ms\n",
            "image 480/793 /content/drive/MyDrive/AI-meter-reading/pictures/9da6ab.jpg: 480x640 (no detections), 9.8ms\n",
            "WARNING ⚠️ No meters detected.\n",
            "image 481/793 /content/drive/MyDrive/AI-meter-reading/pictures/9e0453.jpg: 480x640 1 liters, 1 meters, 9.2ms\n",
            "image 482/793 /content/drive/MyDrive/AI-meter-reading/pictures/9e37a7.jpg: 640x480 1 liters, 1 meters, 10.1ms\n",
            "image 483/793 /content/drive/MyDrive/AI-meter-reading/pictures/9e4220.jpg: 320x640 (no detections), 10.1ms\n",
            "WARNING ⚠️ No meters detected.\n",
            "image 484/793 /content/drive/MyDrive/AI-meter-reading/pictures/9e4ed4.jpg: 640x480 1 liters, 1 meters, 10.3ms\n",
            "image 485/793 /content/drive/MyDrive/AI-meter-reading/pictures/a0c8b0.jpg: 480x640 1 liters, 1 meters, 10.3ms\n",
            "image 486/793 /content/drive/MyDrive/AI-meter-reading/pictures/a0d62a.jpg: 576x640 1 meters, 9.7ms\n",
            "image 487/793 /content/drive/MyDrive/AI-meter-reading/pictures/a0d994.jpg: 480x640 1 liters, 1 meters, 9.9ms\n",
            "image 488/793 /content/drive/MyDrive/AI-meter-reading/pictures/a0de03.jpg: 640x544 2 literss, 4 meterss, 9.9ms\n",
            "image 489/793 /content/drive/MyDrive/AI-meter-reading/pictures/a12817.jpg: 640x384 1 liters, 1 meters, 10.4ms\n",
            "image 490/793 /content/drive/MyDrive/AI-meter-reading/pictures/a152ae.jpg: 640x480 1 liters, 2 meterss, 10.2ms\n",
            "image 491/793 /content/drive/MyDrive/AI-meter-reading/pictures/a15a18.jpg: 640x384 1 liters, 2 meterss, 9.6ms\n",
            "image 492/793 /content/drive/MyDrive/AI-meter-reading/pictures/a1a456.jpg: 640x480 1 liters, 1 meters, 15.9ms\n",
            "image 493/793 /content/drive/MyDrive/AI-meter-reading/pictures/a1d551.jpg: 384x640 1 liters, 1 meters, 10.4ms\n",
            "image 494/793 /content/drive/MyDrive/AI-meter-reading/pictures/a24c5b.jpg: 640x384 1 liters, 1 meters, 10.4ms\n",
            "image 495/793 /content/drive/MyDrive/AI-meter-reading/pictures/a34a65.jpg: 640x384 1 liters, 1 meters, 9.4ms\n",
            "image 496/793 /content/drive/MyDrive/AI-meter-reading/pictures/a3a70f.jpg: 640x640 1 liters, 2 meterss, 9.8ms\n",
            "image 497/793 /content/drive/MyDrive/AI-meter-reading/pictures/a3ccb6.jpg: 480x640 1 liters, 1 meters, 9.7ms\n",
            "image 498/793 /content/drive/MyDrive/AI-meter-reading/pictures/a472ae.jpg: 480x640 1 liters, 2 meterss, 13.3ms\n",
            "image 499/793 /content/drive/MyDrive/AI-meter-reading/pictures/a48a63.jpg: 480x640 1 liters, 1 meters, 10.0ms\n",
            "image 500/793 /content/drive/MyDrive/AI-meter-reading/pictures/a4c005.jpg: 480x640 1 liters, 1 meters, 9.3ms\n",
            "image 501/793 /content/drive/MyDrive/AI-meter-reading/pictures/a5de51.jpg: 640x480 1 liters, 1 meters, 10.5ms\n",
            "image 502/793 /content/drive/MyDrive/AI-meter-reading/pictures/a606dc.jpg: 480x640 1 liters, 1 meters, 10.3ms\n",
            "image 503/793 /content/drive/MyDrive/AI-meter-reading/pictures/a6a3a4.jpg: 480x640 1 liters, 1 meters, 9.7ms\n",
            "image 504/793 /content/drive/MyDrive/AI-meter-reading/pictures/a71b12.jpg: 384x640 1 liters, 1 meters, 9.8ms\n",
            "image 505/793 /content/drive/MyDrive/AI-meter-reading/pictures/a722f1.jpg: 640x480 1 liters, 1 meters, 10.6ms\n",
            "image 506/793 /content/drive/MyDrive/AI-meter-reading/pictures/a7477c.jpg: 640x480 1 liters, 1 meters, 9.0ms\n",
            "image 507/793 /content/drive/MyDrive/AI-meter-reading/pictures/a77607.jpg: 480x640 1 liters, 1 meters, 9.9ms\n",
            "image 508/793 /content/drive/MyDrive/AI-meter-reading/pictures/a7c8cf.jpg: 640x480 1 liters, 1 meters, 9.7ms\n",
            "image 509/793 /content/drive/MyDrive/AI-meter-reading/pictures/a7f337.jpg: 480x640 1 liters, 1 meters, 10.0ms\n",
            "image 510/793 /content/drive/MyDrive/AI-meter-reading/pictures/a8d4b8.jpg: 480x640 1 liters, 1 meters, 9.3ms\n",
            "image 511/793 /content/drive/MyDrive/AI-meter-reading/pictures/a8e63f.jpg: 320x640 1 liters, 1 meters, 9.6ms\n",
            "image 512/793 /content/drive/MyDrive/AI-meter-reading/pictures/a90a15.jpg: 480x640 1 liters, 1 meters, 9.7ms\n",
            "image 513/793 /content/drive/MyDrive/AI-meter-reading/pictures/a9168a.jpg: 640x480 2 meterss, 11.0ms\n",
            "image 514/793 /content/drive/MyDrive/AI-meter-reading/pictures/a93ae6.jpg: 480x640 1 liters, 1 meters, 11.2ms\n",
            "image 515/793 /content/drive/MyDrive/AI-meter-reading/pictures/a94c61.jpg: 640x384 2 meterss, 9.8ms\n",
            "image 516/793 /content/drive/MyDrive/AI-meter-reading/pictures/a96421.jpg: 480x640 1 liters, 1 meters, 10.7ms\n",
            "image 517/793 /content/drive/MyDrive/AI-meter-reading/pictures/aa7e8f.jpg: 384x640 (no detections), 10.3ms\n",
            "WARNING ⚠️ No meters detected.\n",
            "image 518/793 /content/drive/MyDrive/AI-meter-reading/pictures/aaa324.jpg: 480x640 1 liters, 1 meters, 9.8ms\n",
            "image 519/793 /content/drive/MyDrive/AI-meter-reading/pictures/aac385.jpg: 640x320 1 liters, 1 meters, 14.0ms\n",
            "image 520/793 /content/drive/MyDrive/AI-meter-reading/pictures/ab1fc2.jpg: 480x640 1 liters, 1 meters, 9.9ms\n",
            "image 521/793 /content/drive/MyDrive/AI-meter-reading/pictures/ab3ef2.jpg: 480x640 1 liters, 1 meters, 13.6ms\n",
            "image 522/793 /content/drive/MyDrive/AI-meter-reading/pictures/ab99ff.jpg: 480x640 1 liters, 1 meters, 12.3ms\n",
            "image 523/793 /content/drive/MyDrive/AI-meter-reading/pictures/ab9e6f.jpg: 640x480 1 liters, 1 meters, 14.3ms\n",
            "image 524/793 /content/drive/MyDrive/AI-meter-reading/pictures/aba3ff.jpg: 480x640 1 liters, 1 meters, 16.5ms\n",
            "image 525/793 /content/drive/MyDrive/AI-meter-reading/pictures/abf63c.jpg: 480x640 1 liters, 1 meters, 11.2ms\n",
            "image 526/793 /content/drive/MyDrive/AI-meter-reading/pictures/ac7225.jpg: 480x640 1 liters, 1 meters, 11.3ms\n",
            "image 527/793 /content/drive/MyDrive/AI-meter-reading/pictures/ad711d.jpg: 640x384 1 liters, 1 meters, 11.9ms\n",
            "image 528/793 /content/drive/MyDrive/AI-meter-reading/pictures/ae3244.jpg: 640x384 1 liters, 1 meters, 11.8ms\n",
            "image 529/793 /content/drive/MyDrive/AI-meter-reading/pictures/ae372a.jpg: 480x640 1 liters, 1 meters, 12.3ms\n",
            "image 530/793 /content/drive/MyDrive/AI-meter-reading/pictures/ae85a3.jpg: 480x640 1 liters, 1 meters, 22.3ms\n",
            "image 531/793 /content/drive/MyDrive/AI-meter-reading/pictures/aeaac5.jpg: 480x640 1 liters, 1 meters, 16.8ms\n",
            "image 532/793 /content/drive/MyDrive/AI-meter-reading/pictures/aedd14.jpg: 640x384 1 liters, 1 meters, 17.4ms\n",
            "image 533/793 /content/drive/MyDrive/AI-meter-reading/pictures/aedd92.jpg: 480x640 1 liters, 1 meters, 17.8ms\n",
            "image 534/793 /content/drive/MyDrive/AI-meter-reading/pictures/aef0d1.jpg: 384x640 1 liters, 2 meterss, 24.4ms\n",
            "image 535/793 /content/drive/MyDrive/AI-meter-reading/pictures/af1319.jpg: 352x640 1 liters, 1 meters, 74.7ms\n",
            "image 536/793 /content/drive/MyDrive/AI-meter-reading/pictures/af4ebb.jpg: 480x640 1 liters, 2 meterss, 17.2ms\n",
            "image 537/793 /content/drive/MyDrive/AI-meter-reading/pictures/af787b.jpg: 384x640 1 meters, 18.5ms\n",
            "image 538/793 /content/drive/MyDrive/AI-meter-reading/pictures/b00049.jpg: 480x640 1 liters, 1 meters, 15.0ms\n",
            "image 539/793 /content/drive/MyDrive/AI-meter-reading/pictures/b01657.jpg: 384x640 1 liters, 1 meters, 15.8ms\n",
            "image 540/793 /content/drive/MyDrive/AI-meter-reading/pictures/b0b87f.jpg: 480x640 1 meters, 14.6ms\n",
            "image 541/793 /content/drive/MyDrive/AI-meter-reading/pictures/b0cda7.jpg: 480x640 1 liters, 1 meters, 13.5ms\n",
            "image 542/793 /content/drive/MyDrive/AI-meter-reading/pictures/b0d371.jpg: 640x480 1 liters, 1 meters, 21.6ms\n",
            "image 543/793 /content/drive/MyDrive/AI-meter-reading/pictures/b105ec.jpg: 384x640 1 liters, 2 meterss, 18.3ms\n",
            "image 544/793 /content/drive/MyDrive/AI-meter-reading/pictures/b15abf.jpg: 640x480 1 liters, 1 meters, 14.7ms\n",
            "image 545/793 /content/drive/MyDrive/AI-meter-reading/pictures/b19538.jpg: 640x480 1 liters, 1 meters, 12.9ms\n",
            "image 546/793 /content/drive/MyDrive/AI-meter-reading/pictures/b1bc02.jpg: 480x640 1 liters, 1 meters, 13.9ms\n",
            "image 547/793 /content/drive/MyDrive/AI-meter-reading/pictures/b1fb5c.jpg: 480x640 1 liters, 3 meterss, 13.8ms\n",
            "image 548/793 /content/drive/MyDrive/AI-meter-reading/pictures/b24c39.jpg: 480x640 1 liters, 1 meters, 13.8ms\n",
            "image 549/793 /content/drive/MyDrive/AI-meter-reading/pictures/b506c2.jpg: 320x640 1 liters, 1 meters, 15.4ms\n",
            "image 550/793 /content/drive/MyDrive/AI-meter-reading/pictures/b51156.jpg: 480x640 1 liters, 1 meters, 14.7ms\n",
            "image 551/793 /content/drive/MyDrive/AI-meter-reading/pictures/b562d5.jpg: 480x640 1 liters, 1 meters, 13.6ms\n",
            "image 552/793 /content/drive/MyDrive/AI-meter-reading/pictures/b57b6e.jpg: 480x640 1 liters, 1 meters, 13.9ms\n",
            "image 553/793 /content/drive/MyDrive/AI-meter-reading/pictures/b58e77.jpg: 480x640 1 liters, 1 meters, 15.2ms\n",
            "image 554/793 /content/drive/MyDrive/AI-meter-reading/pictures/b591d6.jpg: 480x640 1 liters, 1 meters, 19.2ms\n",
            "image 555/793 /content/drive/MyDrive/AI-meter-reading/pictures/b5a8b3.jpg: 384x640 1 liters, 1 meters, 18.2ms\n",
            "image 556/793 /content/drive/MyDrive/AI-meter-reading/pictures/b68064.jpg: 480x640 2 literss, 1 meters, 14.9ms\n",
            "image 557/793 /content/drive/MyDrive/AI-meter-reading/pictures/b6bc93.jpg: 480x640 2 literss, 2 meterss, 13.5ms\n",
            "image 558/793 /content/drive/MyDrive/AI-meter-reading/pictures/b74fb9.jpg: 384x640 1 liters, 1 meters, 9.9ms\n",
            "image 559/793 /content/drive/MyDrive/AI-meter-reading/pictures/b777c0.jpg: 384x640 1 meters, 9.4ms\n",
            "image 560/793 /content/drive/MyDrive/AI-meter-reading/pictures/b794e4.jpg: 640x480 1 liters, 1 meters, 10.0ms\n",
            "image 561/793 /content/drive/MyDrive/AI-meter-reading/pictures/b7a1d0.jpg: 480x640 1 liters, 1 meters, 9.5ms\n",
            "image 562/793 /content/drive/MyDrive/AI-meter-reading/pictures/b7bf65.jpg: 320x640 1 liters, 1 meters, 9.9ms\n",
            "image 563/793 /content/drive/MyDrive/AI-meter-reading/pictures/b81a67.jpg: 640x480 1 liters, 1 meters, 9.5ms\n",
            "image 564/793 /content/drive/MyDrive/AI-meter-reading/pictures/b83f1f.jpg: 640x384 1 liters, 1 meters, 9.8ms\n",
            "image 565/793 /content/drive/MyDrive/AI-meter-reading/pictures/b8700e.jpg: 480x640 2 literss, 1 meters, 9.8ms\n",
            "image 566/793 /content/drive/MyDrive/AI-meter-reading/pictures/b8c03f.jpg: 480x640 1 liters, 1 meters, 9.2ms\n",
            "image 567/793 /content/drive/MyDrive/AI-meter-reading/pictures/b8c305.jpg: 480x640 1 liters, 1 meters, 9.1ms\n",
            "image 568/793 /content/drive/MyDrive/AI-meter-reading/pictures/b92c50.jpg: 416x640 1 liters, 1 meters, 43.4ms\n",
            "image 569/793 /content/drive/MyDrive/AI-meter-reading/pictures/b950f4.jpg: 640x480 1 liters, 1 meters, 9.9ms\n",
            "image 570/793 /content/drive/MyDrive/AI-meter-reading/pictures/b99955.jpg: 384x640 1 liters, 1 meters, 15.2ms\n",
            "image 571/793 /content/drive/MyDrive/AI-meter-reading/pictures/b99b9c.jpg: 384x640 1 liters, 1 meters, 13.6ms\n",
            "image 572/793 /content/drive/MyDrive/AI-meter-reading/pictures/ba405e.jpg: 640x480 1 liters, 1 meters, 14.7ms\n",
            "image 573/793 /content/drive/MyDrive/AI-meter-reading/pictures/bac57d.jpg: 384x640 1 liters, 1 meters, 19.4ms\n",
            "image 574/793 /content/drive/MyDrive/AI-meter-reading/pictures/baeb02.jpg: 480x640 1 liters, 1 meters, 14.7ms\n",
            "image 575/793 /content/drive/MyDrive/AI-meter-reading/pictures/bb28ac.jpg: 480x640 1 liters, 1 meters, 10.7ms\n",
            "image 576/793 /content/drive/MyDrive/AI-meter-reading/pictures/bbaeac.jpg: 480x640 1 liters, 1 meters, 12.0ms\n",
            "image 577/793 /content/drive/MyDrive/AI-meter-reading/pictures/bc5b43.jpg: 480x640 1 liters, 1 meters, 9.4ms\n",
            "image 578/793 /content/drive/MyDrive/AI-meter-reading/pictures/bc8351.jpg: 480x640 1 liters, 13.7ms\n",
            "WARNING ⚠️ No meters detected.\n",
            "image 579/793 /content/drive/MyDrive/AI-meter-reading/pictures/bc9072.jpg: 480x640 1 meters, 9.2ms\n",
            "image 580/793 /content/drive/MyDrive/AI-meter-reading/pictures/bcb2d8.jpg: 480x640 1 liters, 1 meters, 9.4ms\n",
            "image 581/793 /content/drive/MyDrive/AI-meter-reading/pictures/bcbbba.jpg: 480x640 1 liters, 1 meters, 11.8ms\n",
            "image 582/793 /content/drive/MyDrive/AI-meter-reading/pictures/bcca2a.jpg: 480x640 1 liters, 1 meters, 9.3ms\n",
            "image 583/793 /content/drive/MyDrive/AI-meter-reading/pictures/bdac62.jpg: 384x640 1 liters, 1 meters, 10.0ms\n",
            "image 584/793 /content/drive/MyDrive/AI-meter-reading/pictures/be0825.jpg: 480x640 1 liters, 1 meters, 15.5ms\n",
            "image 585/793 /content/drive/MyDrive/AI-meter-reading/pictures/be0f44.jpg: 480x640 1 liters, 1 meters, 18.5ms\n",
            "image 586/793 /content/drive/MyDrive/AI-meter-reading/pictures/be556f.jpg: 480x640 1 liters, 1 meters, 9.4ms\n",
            "image 587/793 /content/drive/MyDrive/AI-meter-reading/pictures/be9e64.jpg: 320x640 1 liters, 1 meters, 10.2ms\n",
            "image 588/793 /content/drive/MyDrive/AI-meter-reading/pictures/bee7ca.jpg: 640x480 1 liters, 1 meters, 10.6ms\n",
            "image 589/793 /content/drive/MyDrive/AI-meter-reading/pictures/bf4765.jpg: 480x640 1 liters, 1 meters, 10.0ms\n",
            "image 590/793 /content/drive/MyDrive/AI-meter-reading/pictures/bf6aaf.jpg: 480x640 1 liters, 1 meters, 10.4ms\n",
            "image 591/793 /content/drive/MyDrive/AI-meter-reading/pictures/bff931.jpg: 640x480 1 liters, 2 meterss, 9.8ms\n",
            "image 592/793 /content/drive/MyDrive/AI-meter-reading/pictures/c01f42.jpg: 480x640 1 liters, 3 meterss, 10.0ms\n",
            "image 593/793 /content/drive/MyDrive/AI-meter-reading/pictures/c05482.jpg: 480x640 1 liters, 1 meters, 11.9ms\n",
            "image 594/793 /content/drive/MyDrive/AI-meter-reading/pictures/c0625e.jpg: 640x480 1 liters, 2 meterss, 11.5ms\n",
            "image 595/793 /content/drive/MyDrive/AI-meter-reading/pictures/c0b705.jpg: 640x480 1 liters, 1 meters, 9.4ms\n",
            "image 596/793 /content/drive/MyDrive/AI-meter-reading/pictures/c0c926.jpg: 480x640 1 liters, 1 meters, 10.4ms\n",
            "image 597/793 /content/drive/MyDrive/AI-meter-reading/pictures/c204ef.jpg: 320x640 3 literss, 2 meterss, 10.3ms\n",
            "image 598/793 /content/drive/MyDrive/AI-meter-reading/pictures/c31e95.jpg: 480x640 2 literss, 1 meters, 10.0ms\n",
            "image 599/793 /content/drive/MyDrive/AI-meter-reading/pictures/c34682.jpg: 480x640 1 liters, 1 meters, 9.4ms\n",
            "image 600/793 /content/drive/MyDrive/AI-meter-reading/pictures/c4ce63.jpg: 384x640 1 liters, 2 meterss, 17.7ms\n",
            "image 601/793 /content/drive/MyDrive/AI-meter-reading/pictures/c4d515.jpg: 480x640 1 liters, 1 meters, 10.5ms\n",
            "image 602/793 /content/drive/MyDrive/AI-meter-reading/pictures/c535b4.jpg: 320x640 1 meters, 10.2ms\n",
            "image 603/793 /content/drive/MyDrive/AI-meter-reading/pictures/c5a301.jpg: 640x480 1 meters, 10.1ms\n",
            "image 604/793 /content/drive/MyDrive/AI-meter-reading/pictures/c5dcbe.jpg: 640x480 1 liters, 3 meterss, 9.1ms\n",
            "image 605/793 /content/drive/MyDrive/AI-meter-reading/pictures/c65584.jpg: 640x384 1 liters, 1 meters, 10.1ms\n",
            "image 606/793 /content/drive/MyDrive/AI-meter-reading/pictures/c6b16f.jpg: 480x640 1 liters, 1 meters, 10.0ms\n",
            "image 607/793 /content/drive/MyDrive/AI-meter-reading/pictures/c7116e.jpg: 480x640 1 liters, 2 meterss, 13.7ms\n",
            "image 608/793 /content/drive/MyDrive/AI-meter-reading/pictures/c73353.jpg: 480x640 1 liters, 1 meters, 9.2ms\n",
            "image 609/793 /content/drive/MyDrive/AI-meter-reading/pictures/c7e272.jpg: 640x320 1 liters, 2 meterss, 10.0ms\n",
            "image 610/793 /content/drive/MyDrive/AI-meter-reading/pictures/c843a8.jpg: 480x640 1 liters, 1 meters, 10.3ms\n",
            "image 611/793 /content/drive/MyDrive/AI-meter-reading/pictures/c9802d.jpg: 384x640 1 liters, 1 meters, 10.1ms\n",
            "image 612/793 /content/drive/MyDrive/AI-meter-reading/pictures/c998f9.jpg: 384x640 1 liters, 1 meters, 9.8ms\n",
            "image 613/793 /content/drive/MyDrive/AI-meter-reading/pictures/c9c6c8.jpg: 480x640 1 liters, 1 meters, 9.7ms\n",
            "image 614/793 /content/drive/MyDrive/AI-meter-reading/pictures/ca0031.jpg: 640x480 1 liters, 1 meters, 12.0ms\n",
            "image 615/793 /content/drive/MyDrive/AI-meter-reading/pictures/ca3885.jpg: 640x480 1 liters, 2 meterss, 13.1ms\n",
            "image 616/793 /content/drive/MyDrive/AI-meter-reading/pictures/caa962.jpg: 480x640 1 liters, 1 meters, 14.5ms\n",
            "image 617/793 /content/drive/MyDrive/AI-meter-reading/pictures/cabe96.jpg: 480x640 2 literss, 10.1ms\n",
            "WARNING ⚠️ No meters detected.\n",
            "image 618/793 /content/drive/MyDrive/AI-meter-reading/pictures/cadd9a.jpg: 480x640 1 liters, 1 meters, 11.7ms\n",
            "image 619/793 /content/drive/MyDrive/AI-meter-reading/pictures/caf67b.jpg: 640x480 1 liters, 1 meters, 14.8ms\n",
            "image 620/793 /content/drive/MyDrive/AI-meter-reading/pictures/cc167a.jpg: 384x640 1 meters, 10.2ms\n",
            "image 621/793 /content/drive/MyDrive/AI-meter-reading/pictures/cc57e7.jpg: 480x640 1 liters, 2 meterss, 11.3ms\n",
            "image 622/793 /content/drive/MyDrive/AI-meter-reading/pictures/ccfb91.jpg: 640x480 1 liters, 1 meters, 15.4ms\n",
            "image 623/793 /content/drive/MyDrive/AI-meter-reading/pictures/cd03c8.jpg: 480x640 1 liters, 1 meters, 9.8ms\n",
            "image 624/793 /content/drive/MyDrive/AI-meter-reading/pictures/cd0f77.jpg: 640x480 1 liters, 2 meterss, 12.9ms\n",
            "image 625/793 /content/drive/MyDrive/AI-meter-reading/pictures/cdb1ff.jpg: 480x640 1 liters, 1 meters, 9.9ms\n",
            "image 626/793 /content/drive/MyDrive/AI-meter-reading/pictures/cdcd2c.jpg: 480x640 1 liters, 2 meterss, 19.0ms\n",
            "image 627/793 /content/drive/MyDrive/AI-meter-reading/pictures/cddfb5.jpg: 480x640 1 liters, 1 meters, 9.8ms\n",
            "image 628/793 /content/drive/MyDrive/AI-meter-reading/pictures/ce0566.jpg: 480x640 2 literss, 1 meters, 9.1ms\n",
            "image 629/793 /content/drive/MyDrive/AI-meter-reading/pictures/ce90aa.jpg: 384x640 1 liters, 1 meters, 11.2ms\n",
            "image 630/793 /content/drive/MyDrive/AI-meter-reading/pictures/cea6d2.jpg: 640x480 1 liters, 1 meters, 10.2ms\n",
            "image 631/793 /content/drive/MyDrive/AI-meter-reading/pictures/cf16f8.jpg: 480x640 1 liters, 1 meters, 9.8ms\n",
            "image 632/793 /content/drive/MyDrive/AI-meter-reading/pictures/cfe45c.jpg: 640x480 1 liters, 1 meters, 10.0ms\n",
            "image 633/793 /content/drive/MyDrive/AI-meter-reading/pictures/d00f95.jpg: 480x640 1 liters, 1 meters, 10.2ms\n",
            "image 634/793 /content/drive/MyDrive/AI-meter-reading/pictures/d036b2.jpg: 640x384 1 liters, 1 meters, 10.4ms\n",
            "image 635/793 /content/drive/MyDrive/AI-meter-reading/pictures/d06745.jpg: 480x640 1 liters, 1 meters, 10.1ms\n",
            "image 636/793 /content/drive/MyDrive/AI-meter-reading/pictures/d0bf89.jpg: 480x640 1 liters, 1 meters, 17.1ms\n",
            "image 637/793 /content/drive/MyDrive/AI-meter-reading/pictures/d0da65.jpg: 480x640 2 literss, 2 meterss, 12.7ms\n",
            "image 638/793 /content/drive/MyDrive/AI-meter-reading/pictures/d144ce.jpg: 480x640 1 liters, 1 meters, 12.8ms\n",
            "image 639/793 /content/drive/MyDrive/AI-meter-reading/pictures/d14596.jpg: 320x640 1 liters, 1 meters, 14.8ms\n",
            "image 640/793 /content/drive/MyDrive/AI-meter-reading/pictures/d1ce0f.jpg: 480x640 1 liters, 1 meters, 16.6ms\n",
            "image 641/793 /content/drive/MyDrive/AI-meter-reading/pictures/d204a0.jpg: 480x640 1 liters, 1 meters, 17.4ms\n",
            "image 642/793 /content/drive/MyDrive/AI-meter-reading/pictures/d21b91.jpg: 576x640 1 liters, 1 meters, 12.2ms\n",
            "image 643/793 /content/drive/MyDrive/AI-meter-reading/pictures/d22e50.jpg: 480x640 1 liters, 1 meters, 13.2ms\n",
            "image 644/793 /content/drive/MyDrive/AI-meter-reading/pictures/d2913e.jpg: 640x384 1 liters, 1 meters, 12.7ms\n",
            "image 645/793 /content/drive/MyDrive/AI-meter-reading/pictures/d29dde.jpg: 480x640 1 liters, 1 meters, 18.3ms\n",
            "image 646/793 /content/drive/MyDrive/AI-meter-reading/pictures/d2c139.jpg: 480x640 1 liters, 1 meters, 18.7ms\n",
            "image 647/793 /content/drive/MyDrive/AI-meter-reading/pictures/d32e5e.jpg: 640x480 1 liters, 1 meters, 14.9ms\n",
            "image 648/793 /content/drive/MyDrive/AI-meter-reading/pictures/d3a0cc.jpg: 640x480 1 liters, 1 meters, 16.7ms\n",
            "image 649/793 /content/drive/MyDrive/AI-meter-reading/pictures/d403db.jpg: 384x640 1 liters, 1 meters, 14.4ms\n",
            "image 650/793 /content/drive/MyDrive/AI-meter-reading/pictures/d46335.jpg: 480x640 1 liters, 1 meters, 14.4ms\n",
            "image 651/793 /content/drive/MyDrive/AI-meter-reading/pictures/d46813.jpg: 480x640 1 liters, 1 meters, 35.7ms\n",
            "image 652/793 /content/drive/MyDrive/AI-meter-reading/pictures/d4f5ae.jpg: 480x640 1 liters, 1 meters, 26.1ms\n",
            "image 653/793 /content/drive/MyDrive/AI-meter-reading/pictures/d520ec.jpg: 640x480 1 liters, 2 meterss, 20.9ms\n",
            "image 654/793 /content/drive/MyDrive/AI-meter-reading/pictures/d5ddda.jpg: 640x480 1 liters, 1 meters, 13.9ms\n",
            "image 655/793 /content/drive/MyDrive/AI-meter-reading/pictures/d5e25c.jpg: 640x480 1 meters, 13.5ms\n",
            "image 656/793 /content/drive/MyDrive/AI-meter-reading/pictures/d61ced.jpg: 480x640 1 liters, 1 meters, 15.0ms\n",
            "image 657/793 /content/drive/MyDrive/AI-meter-reading/pictures/d63c6c.jpg: 640x384 1 liters, 1 meters, 19.0ms\n",
            "image 658/793 /content/drive/MyDrive/AI-meter-reading/pictures/d63f1c.jpg: 640x480 1 liters, 1 meters, 15.2ms\n",
            "image 659/793 /content/drive/MyDrive/AI-meter-reading/pictures/d6afb9.jpg: 384x640 1 liters, 1 meters, 15.5ms\n",
            "image 660/793 /content/drive/MyDrive/AI-meter-reading/pictures/d6b1c8.jpg: 480x640 1 liters, 1 meters, 17.5ms\n",
            "image 661/793 /content/drive/MyDrive/AI-meter-reading/pictures/d6c1fe.jpg: 480x640 1 liters, 1 meters, 13.6ms\n",
            "image 662/793 /content/drive/MyDrive/AI-meter-reading/pictures/d6f0a0.jpg: 480x640 1 liters, 1 meters, 13.7ms\n",
            "image 663/793 /content/drive/MyDrive/AI-meter-reading/pictures/d70b0e.jpg: 480x640 2 literss, 1 meters, 14.9ms\n",
            "image 664/793 /content/drive/MyDrive/AI-meter-reading/pictures/d72a5f.jpg: 480x640 1 liters, 13.2ms\n",
            "WARNING ⚠️ No meters detected.\n",
            "image 665/793 /content/drive/MyDrive/AI-meter-reading/pictures/d7a83e.jpg: 480x640 1 liters, 1 meters, 14.1ms\n",
            "image 666/793 /content/drive/MyDrive/AI-meter-reading/pictures/d7dd6a.jpg: 480x640 2 literss, 2 meterss, 9.4ms\n",
            "image 667/793 /content/drive/MyDrive/AI-meter-reading/pictures/d8912a.jpg: 640x480 1 liters, 1 meters, 59.0ms\n",
            "image 668/793 /content/drive/MyDrive/AI-meter-reading/pictures/d90465.jpg: 480x640 1 liters, 1 meters, 10.2ms\n",
            "image 669/793 /content/drive/MyDrive/AI-meter-reading/pictures/d932dc.jpg: 480x640 1 liters, 1 meters, 11.3ms\n",
            "image 670/793 /content/drive/MyDrive/AI-meter-reading/pictures/d9fb16.jpg: 640x480 1 liters, 1 meters, 10.3ms\n",
            "image 671/793 /content/drive/MyDrive/AI-meter-reading/pictures/da006a.jpg: 480x640 1 liters, 3 meterss, 31.2ms\n",
            "image 672/793 /content/drive/MyDrive/AI-meter-reading/pictures/da16f1.jpg: 480x640 1 liters, 1 meters, 10.0ms\n",
            "image 673/793 /content/drive/MyDrive/AI-meter-reading/pictures/da32f0.jpg: 384x640 1 liters, 1 meters, 10.4ms\n",
            "image 674/793 /content/drive/MyDrive/AI-meter-reading/pictures/da383d.jpg: 640x480 1 meters, 9.9ms\n",
            "image 675/793 /content/drive/MyDrive/AI-meter-reading/pictures/da463d.jpg: 640x480 1 liters, 1 meters, 9.2ms\n",
            "image 676/793 /content/drive/MyDrive/AI-meter-reading/pictures/da565b.jpg: 480x640 1 liters, 1 meters, 10.4ms\n",
            "image 677/793 /content/drive/MyDrive/AI-meter-reading/pictures/dabe2d.jpg: 480x640 1 liters, 1 meters, 9.6ms\n",
            "image 678/793 /content/drive/MyDrive/AI-meter-reading/pictures/db2c0f.jpg: 640x480 1 liters, 1 meters, 9.8ms\n",
            "image 679/793 /content/drive/MyDrive/AI-meter-reading/pictures/db8297.jpg: 384x640 1 liters, 2 meterss, 10.9ms\n",
            "image 680/793 /content/drive/MyDrive/AI-meter-reading/pictures/dbd857.jpg: 640x480 1 liters, 1 meters, 9.3ms\n",
            "image 681/793 /content/drive/MyDrive/AI-meter-reading/pictures/dc0a2e.jpg: 384x640 1 liters, 1 meters, 9.8ms\n",
            "image 682/793 /content/drive/MyDrive/AI-meter-reading/pictures/dea672.jpg: 384x640 1 liters, 1 meters, 9.0ms\n",
            "image 683/793 /content/drive/MyDrive/AI-meter-reading/pictures/ded4df.jpg: 480x640 1 liters, 1 meters, 9.9ms\n",
            "image 684/793 /content/drive/MyDrive/AI-meter-reading/pictures/df181a.jpg: 480x640 1 liters, 1 meters, 9.1ms\n",
            "image 685/793 /content/drive/MyDrive/AI-meter-reading/pictures/e02c92.jpg: 384x640 1 liters, 1 meters, 9.9ms\n",
            "image 686/793 /content/drive/MyDrive/AI-meter-reading/pictures/e06129.jpg: 480x640 1 meters, 14.4ms\n",
            "image 687/793 /content/drive/MyDrive/AI-meter-reading/pictures/e076a9.jpg: 480x640 1 liters, 1 meters, 9.4ms\n",
            "image 688/793 /content/drive/MyDrive/AI-meter-reading/pictures/e0e058.jpg: 480x640 1 liters, 1 meters, 14.0ms\n",
            "image 689/793 /content/drive/MyDrive/AI-meter-reading/pictures/e1f2b5.jpg: 640x480 2 literss, 1 meters, 10.9ms\n",
            "image 690/793 /content/drive/MyDrive/AI-meter-reading/pictures/e278b2.jpg: 480x640 1 liters, 1 meters, 9.8ms\n",
            "image 691/793 /content/drive/MyDrive/AI-meter-reading/pictures/e30d51.jpg: 640x480 1 liters, 1 meters, 10.2ms\n",
            "image 692/793 /content/drive/MyDrive/AI-meter-reading/pictures/e31fcf.jpg: 480x640 1 liters, 1 meters, 10.0ms\n",
            "image 693/793 /content/drive/MyDrive/AI-meter-reading/pictures/e32b41.jpg: 384x640 1 liters, 2 meterss, 10.2ms\n",
            "image 694/793 /content/drive/MyDrive/AI-meter-reading/pictures/e37a78.jpg: 480x640 1 liters, 1 meters, 12.1ms\n",
            "image 695/793 /content/drive/MyDrive/AI-meter-reading/pictures/e3d6bb.jpg: 480x640 1 liters, 2 meterss, 9.5ms\n",
            "image 696/793 /content/drive/MyDrive/AI-meter-reading/pictures/e3e7ea.jpg: 640x384 1 liters, 1 meters, 10.0ms\n",
            "image 697/793 /content/drive/MyDrive/AI-meter-reading/pictures/e442e0.jpg: 480x640 1 liters, 1 meters, 11.7ms\n",
            "image 698/793 /content/drive/MyDrive/AI-meter-reading/pictures/e4bf95.jpg: 480x640 1 liters, 1 meters, 9.2ms\n",
            "image 699/793 /content/drive/MyDrive/AI-meter-reading/pictures/e4e5ba.jpg: 640x480 1 liters, 2 meterss, 10.3ms\n",
            "image 700/793 /content/drive/MyDrive/AI-meter-reading/pictures/e559ae.jpg: 480x640 1 liters, 1 meters, 9.5ms\n",
            "image 701/793 /content/drive/MyDrive/AI-meter-reading/pictures/e5e2ed.jpg: 640x640 1 liters, 1 meters, 9.9ms\n",
            "image 702/793 /content/drive/MyDrive/AI-meter-reading/pictures/e5e5e7.jpg: 384x640 1 liters, 1 meters, 13.6ms\n",
            "image 703/793 /content/drive/MyDrive/AI-meter-reading/pictures/e68040.jpg: 640x640 1 liters, 1 meters, 9.5ms\n",
            "image 704/793 /content/drive/MyDrive/AI-meter-reading/pictures/e69453.jpg: 384x640 1 liters, 1 meters, 9.7ms\n",
            "image 705/793 /content/drive/MyDrive/AI-meter-reading/pictures/e6a148.jpg: 576x640 1 liters, 1 meters, 9.9ms\n",
            "image 706/793 /content/drive/MyDrive/AI-meter-reading/pictures/e6d9aa.jpg: 480x640 1 liters, 1 meters, 9.6ms\n",
            "image 707/793 /content/drive/MyDrive/AI-meter-reading/pictures/e6ebae.jpg: 640x480 1 liters, 1 meters, 10.1ms\n",
            "image 708/793 /content/drive/MyDrive/AI-meter-reading/pictures/e77c2d.jpg: 384x640 1 liters, 1 meters, 10.1ms\n",
            "image 709/793 /content/drive/MyDrive/AI-meter-reading/pictures/e78bf8.jpg: 480x640 1 liters, 1 meters, 9.9ms\n",
            "image 710/793 /content/drive/MyDrive/AI-meter-reading/pictures/e7d095.jpg: 384x640 1 liters, 1 meters, 10.5ms\n",
            "image 711/793 /content/drive/MyDrive/AI-meter-reading/pictures/e7db13.jpg: 384x640 1 liters, 1 meters, 9.3ms\n",
            "image 712/793 /content/drive/MyDrive/AI-meter-reading/pictures/e80567.jpg: 480x640 1 liters, 1 meters, 14.9ms\n",
            "image 713/793 /content/drive/MyDrive/AI-meter-reading/pictures/e84daf.jpg: 480x640 1 liters, 1 meters, 9.1ms\n",
            "image 714/793 /content/drive/MyDrive/AI-meter-reading/pictures/e8e20b.jpg: 480x640 1 meters, 13.0ms\n",
            "image 715/793 /content/drive/MyDrive/AI-meter-reading/pictures/e8f407.jpg: 640x384 1 liters, 1 meters, 11.0ms\n",
            "image 716/793 /content/drive/MyDrive/AI-meter-reading/pictures/e91ba1.jpg: 480x640 1 liters, 1 meters, 10.5ms\n",
            "image 717/793 /content/drive/MyDrive/AI-meter-reading/pictures/ea1ea7.jpg: 480x640 2 literss, 1 meters, 9.2ms\n",
            "image 718/793 /content/drive/MyDrive/AI-meter-reading/pictures/ea2acc.jpg: 480x640 1 liters, 1 meters, 9.3ms\n",
            "image 719/793 /content/drive/MyDrive/AI-meter-reading/pictures/eaa2f9.jpg: 480x640 1 liters, 1 meters, 9.9ms\n",
            "image 720/793 /content/drive/MyDrive/AI-meter-reading/pictures/eaa73b.jpg: 480x640 1 liters, 1 meters, 9.3ms\n",
            "image 721/793 /content/drive/MyDrive/AI-meter-reading/pictures/eaabb1.jpg: 480x640 1 liters, 1 meters, 9.2ms\n",
            "image 722/793 /content/drive/MyDrive/AI-meter-reading/pictures/eab65f.jpg: 640x480 1 liters, 1 meters, 9.4ms\n",
            "image 723/793 /content/drive/MyDrive/AI-meter-reading/pictures/eac5bb.jpg: 480x640 1 liters, 2 meterss, 12.8ms\n",
            "image 724/793 /content/drive/MyDrive/AI-meter-reading/pictures/ebe13c.jpg: 480x640 1 liters, 1 meters, 8.8ms\n",
            "image 725/793 /content/drive/MyDrive/AI-meter-reading/pictures/ec07f5.jpg: 384x640 1 liters, 1 meters, 9.7ms\n",
            "image 726/793 /content/drive/MyDrive/AI-meter-reading/pictures/ec0937.jpg: 480x640 1 liters, 1 meters, 9.5ms\n",
            "image 727/793 /content/drive/MyDrive/AI-meter-reading/pictures/ec8698.jpg: 480x640 1 liters, 1 meters, 8.9ms\n",
            "image 728/793 /content/drive/MyDrive/AI-meter-reading/pictures/ed0941.jpg: 384x640 1 liters, 1 meters, 9.9ms\n",
            "image 729/793 /content/drive/MyDrive/AI-meter-reading/pictures/ed10d5.jpg: 480x640 2 literss, 1 meters, 11.8ms\n",
            "image 730/793 /content/drive/MyDrive/AI-meter-reading/pictures/ed451d.jpg: 480x640 3 literss, 1 meters, 14.1ms\n",
            "image 731/793 /content/drive/MyDrive/AI-meter-reading/pictures/ed6f88.jpg: 480x640 1 liters, 1 meters, 15.9ms\n",
            "image 732/793 /content/drive/MyDrive/AI-meter-reading/pictures/edb814.jpg: 480x640 1 liters, 1 meters, 9.9ms\n",
            "image 733/793 /content/drive/MyDrive/AI-meter-reading/pictures/edcdf9.jpg: 480x640 1 liters, 1 meters, 9.9ms\n",
            "image 734/793 /content/drive/MyDrive/AI-meter-reading/pictures/ee05e4.jpg: 480x640 1 liters, 1 meters, 18.2ms\n",
            "image 735/793 /content/drive/MyDrive/AI-meter-reading/pictures/ef3de5.jpg: 480x640 1 liters, 1 meters, 16.7ms\n",
            "image 736/793 /content/drive/MyDrive/AI-meter-reading/pictures/ef42ea.jpg: 640x480 3 literss, 2 meterss, 16.5ms\n",
            "image 737/793 /content/drive/MyDrive/AI-meter-reading/pictures/ef4cf4.jpg: 480x640 1 liters, 1 meters, 13.1ms\n",
            "image 738/793 /content/drive/MyDrive/AI-meter-reading/pictures/ef806d.jpg: 480x640 1 liters, 1 meters, 11.9ms\n",
            "image 739/793 /content/drive/MyDrive/AI-meter-reading/pictures/efa016.jpg: 448x640 1 liters, 1 meters, 13.1ms\n",
            "image 740/793 /content/drive/MyDrive/AI-meter-reading/pictures/efa78f.jpg: 640x640 1 liters, 1 meters, 13.5ms\n",
            "image 741/793 /content/drive/MyDrive/AI-meter-reading/pictures/efbec8.jpg: 480x640 1 liters, 1 meters, 18.0ms\n",
            "image 742/793 /content/drive/MyDrive/AI-meter-reading/pictures/f01920.jpg: 640x480 1 liters, 1 meters, 12.5ms\n",
            "image 743/793 /content/drive/MyDrive/AI-meter-reading/pictures/f0424c.jpg: 384x640 1 liters, 1 meters, 12.3ms\n",
            "image 744/793 /content/drive/MyDrive/AI-meter-reading/pictures/f074ce.jpg: 640x480 1 liters, 1 meters, 12.3ms\n",
            "image 745/793 /content/drive/MyDrive/AI-meter-reading/pictures/f1a334.jpg: 480x640 2 literss, 1 meters, 15.1ms\n",
            "image 746/793 /content/drive/MyDrive/AI-meter-reading/pictures/f1dcf2.jpg: 384x640 1 liters, 1 meters, 15.8ms\n",
            "image 747/793 /content/drive/MyDrive/AI-meter-reading/pictures/f21b8d.jpg: 384x640 1 liters, 16.7ms\n",
            "WARNING ⚠️ No meters detected.\n",
            "image 748/793 /content/drive/MyDrive/AI-meter-reading/pictures/f221e4.jpg: 640x480 1 liters, 1 meters, 14.4ms\n",
            "image 749/793 /content/drive/MyDrive/AI-meter-reading/pictures/f2c6da.jpg: 640x640 1 liters, 1 meters, 16.0ms\n",
            "image 750/793 /content/drive/MyDrive/AI-meter-reading/pictures/f35291.jpg: 480x640 1 liters, 2 meterss, 24.8ms\n",
            "image 751/793 /content/drive/MyDrive/AI-meter-reading/pictures/f356c5.jpg: 640x480 1 liters, 1 meters, 13.1ms\n",
            "image 752/793 /content/drive/MyDrive/AI-meter-reading/pictures/f3677f.jpg: 480x640 1 meters, 14.7ms\n",
            "image 753/793 /content/drive/MyDrive/AI-meter-reading/pictures/f39de9.jpg: 640x384 1 liters, 1 meters, 12.8ms\n",
            "image 754/793 /content/drive/MyDrive/AI-meter-reading/pictures/f3fbbb.jpg: 480x640 1 liters, 1 meters, 13.6ms\n",
            "image 755/793 /content/drive/MyDrive/AI-meter-reading/pictures/f41b1d.jpg: 640x480 2 literss, 1 meters, 12.2ms\n",
            "image 756/793 /content/drive/MyDrive/AI-meter-reading/pictures/f479ae.jpg: 480x640 1 liters, 1 meters, 12.3ms\n",
            "image 757/793 /content/drive/MyDrive/AI-meter-reading/pictures/f49672.jpg: 480x640 1 liters, 1 meters, 11.9ms\n",
            "image 758/793 /content/drive/MyDrive/AI-meter-reading/pictures/f4a316.jpg: 480x640 1 meters, 14.3ms\n",
            "image 759/793 /content/drive/MyDrive/AI-meter-reading/pictures/f4a968.jpg: 640x480 1 liters, 1 meters, 19.0ms\n",
            "image 760/793 /content/drive/MyDrive/AI-meter-reading/pictures/f4b32a.jpg: 640x640 1 liters, 3 meterss, 20.0ms\n",
            "image 761/793 /content/drive/MyDrive/AI-meter-reading/pictures/f4de88.jpg: 384x640 1 liters, 1 meters, 17.5ms\n",
            "image 762/793 /content/drive/MyDrive/AI-meter-reading/pictures/f4f570.jpg: 480x640 1 liters, 1 meters, 17.8ms\n",
            "image 763/793 /content/drive/MyDrive/AI-meter-reading/pictures/f54ac4.jpg: 480x640 2 literss, 1 meters, 13.0ms\n",
            "image 764/793 /content/drive/MyDrive/AI-meter-reading/pictures/f5d3fd.jpg: 640x320 1 liters, 1 meters, 19.7ms\n",
            "image 765/793 /content/drive/MyDrive/AI-meter-reading/pictures/f5e5d1.jpg: 480x640 1 liters, 1 meters, 14.5ms\n",
            "image 766/793 /content/drive/MyDrive/AI-meter-reading/pictures/f60258.jpg: 608x640 1 liters, 1 meters, 17.2ms\n",
            "image 767/793 /content/drive/MyDrive/AI-meter-reading/pictures/f6738a.jpg: 640x480 1 liters, 1 meters, 15.6ms\n",
            "image 768/793 /content/drive/MyDrive/AI-meter-reading/pictures/f696db.jpg: 384x640 1 liters, 1 meters, 18.5ms\n",
            "image 769/793 /content/drive/MyDrive/AI-meter-reading/pictures/f74ab4.jpg: 480x640 1 liters, 1 meters, 14.6ms\n",
            "image 770/793 /content/drive/MyDrive/AI-meter-reading/pictures/f7578f.jpg: 480x640 1 liters, 1 meters, 15.1ms\n",
            "image 771/793 /content/drive/MyDrive/AI-meter-reading/pictures/f7e28a.jpg: 640x480 1 liters, 1 meters, 14.4ms\n",
            "image 772/793 /content/drive/MyDrive/AI-meter-reading/pictures/f811d9.jpg: 640x480 1 liters, 2 meterss, 14.0ms\n",
            "image 773/793 /content/drive/MyDrive/AI-meter-reading/pictures/f8a679.jpg: 480x640 1 liters, 1 meters, 13.9ms\n",
            "image 774/793 /content/drive/MyDrive/AI-meter-reading/pictures/f8c691.jpg: 384x640 1 liters, 1 meters, 15.1ms\n",
            "image 775/793 /content/drive/MyDrive/AI-meter-reading/pictures/f8d9b0.jpg: 384x640 1 liters, 1 meters, 13.5ms\n",
            "image 776/793 /content/drive/MyDrive/AI-meter-reading/pictures/f95a6d.jpg: 480x640 1 liters, 1 meters, 14.4ms\n",
            "image 777/793 /content/drive/MyDrive/AI-meter-reading/pictures/f97ff4.jpg: 480x640 1 liters, 1 meters, 17.3ms\n",
            "image 778/793 /content/drive/MyDrive/AI-meter-reading/pictures/f9878d.jpg: 384x640 1 liters, 1 meters, 15.1ms\n",
            "image 779/793 /content/drive/MyDrive/AI-meter-reading/pictures/f9ee69.jpg: 480x640 1 liters, 1 meters, 19.4ms\n",
            "image 780/793 /content/drive/MyDrive/AI-meter-reading/pictures/fa3dde.jpg: 640x480 1 liters, 2 meterss, 17.2ms\n",
            "image 781/793 /content/drive/MyDrive/AI-meter-reading/pictures/fb5207.jpg: 480x640 1 liters, 1 meters, 18.9ms\n",
            "image 782/793 /content/drive/MyDrive/AI-meter-reading/pictures/fba966.jpg: 480x640 1 liters, 1 meters, 9.1ms\n",
            "image 783/793 /content/drive/MyDrive/AI-meter-reading/pictures/fc7ae9.jpg: 640x480 2 literss, 1 meters, 9.7ms\n",
            "image 784/793 /content/drive/MyDrive/AI-meter-reading/pictures/fc831c.jpg: 480x640 1 liters, 1 meters, 9.6ms\n",
            "image 785/793 /content/drive/MyDrive/AI-meter-reading/pictures/fd39de.jpg: 320x640 1 meters, 10.1ms\n",
            "image 786/793 /content/drive/MyDrive/AI-meter-reading/pictures/fd491b.jpg: 640x384 1 liters, 1 meters, 10.9ms\n",
            "image 787/793 /content/drive/MyDrive/AI-meter-reading/pictures/fdf706.jpg: 480x640 2 literss, 1 meters, 10.5ms\n",
            "image 788/793 /content/drive/MyDrive/AI-meter-reading/pictures/fdfc93.jpg: 384x640 1 liters, 1 meters, 9.7ms\n",
            "image 789/793 /content/drive/MyDrive/AI-meter-reading/pictures/fe359d.jpg: 480x640 1 liters, 1 meters, 10.3ms\n",
            "image 790/793 /content/drive/MyDrive/AI-meter-reading/pictures/fe5bf4.jpg: 480x640 1 liters, 1 meters, 9.6ms\n",
            "image 791/793 /content/drive/MyDrive/AI-meter-reading/pictures/ff7912.jpg: 640x480 1 liters, 1 meters, 10.9ms\n",
            "image 792/793 /content/drive/MyDrive/AI-meter-reading/pictures/ff9175.jpg: 320x640 1 liters, 1 meters, 10.4ms\n",
            "image 793/793 /content/drive/MyDrive/AI-meter-reading/pictures/ffbff4.jpg: 480x640 1 liters, 1 meters, 10.1ms\n",
            "Speed: 3.1ms preprocess, 14.0ms inference, 1.6ms postprocess per image at shape (1, 3, 480, 640)\n",
            "Number of cropped pictures: 759 / 793 =       0.96\n"
          ]
        }
      ],
      "source": [
        "count_pictures = 0\n",
        "count_cropped = 0\n",
        "dict_flags = {'ID': [], 'Flag': []}\n",
        "# write a file YOLO_index_confidence\n",
        "for result in results:\n",
        "    # result.to_csv(path_or_buf=PATH_PROJECT + '/results_out.csv', mode='a')\n",
        "    r = ResultMeters(result)\n",
        "    cropped = r.save_meters_crop(save_dir=PATH_PROJECT + '/pictures_cropped')\n",
        "    dict_flags['ID'].append(r.filename.split('.')[0])\n",
        "    dict_flags['Flag'].append(str(r.detection_precision))\n",
        "    if cropped:\n",
        "        count_cropped += 1\n",
        "    count_pictures += 1\n",
        "print(f\"Number of cropped pictures: {count_cropped} / {count_pictures} = {(count_cropped / count_pictures): 10.2f}\")\n",
        "pd.DataFrame(dict_flags).to_csv(PATH_PROJECT + '/YOLO_index_confidence.csv')"
      ]
    }
  ],
  "metadata": {
    "accelerator": "GPU",
    "colab": {
      "gpuType": "T4",
      "provenance": []
    },
    "kernelspec": {
      "display_name": "Python 3",
      "name": "python3"
    },
    "language_info": {
      "name": "python"
    }
  },
  "nbformat": 4,
  "nbformat_minor": 0
}
